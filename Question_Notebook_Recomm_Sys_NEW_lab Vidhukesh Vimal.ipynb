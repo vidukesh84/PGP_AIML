{
  "nbformat": 4,
  "nbformat_minor": 0,
  "metadata": {
    "colab": {
      "name": "Question Notebook Recomm Sys NEW lab.ipynb",
      "provenance": [],
      "collapsed_sections": [],
      "authorship_tag": "ABX9TyMPmubOaRC8VCaMvV26AzU0",
      "include_colab_link": true
    },
    "kernelspec": {
      "name": "python3",
      "display_name": "Python 3"
    }
  },
  "cells": [
    {
      "cell_type": "markdown",
      "metadata": {
        "id": "view-in-github",
        "colab_type": "text"
      },
      "source": [
        "<a href=\"https://colab.research.google.com/github/vidukesh84/PGP_AIML/blob/master/Question_Notebook_Recomm_Sys_NEW_lab%20Vidhukesh%20Vimal.ipynb\" target=\"_parent\"><img src=\"https://colab.research.google.com/assets/colab-badge.svg\" alt=\"Open In Colab\"/></a>"
      ]
    },
    {
      "cell_type": "code",
      "metadata": {
        "colab": {
          "base_uri": "https://localhost:8080/"
        },
        "id": "EYSua04gLik2",
        "outputId": "b16e9544-9e06-4096-ebc5-c920a4d569c2"
      },
      "source": [
        "from google.colab import drive\r\n",
        "drive.mount('/content/drive')"
      ],
      "execution_count": 9,
      "outputs": [
        {
          "output_type": "stream",
          "text": [
            "Mounted at /content/drive\n"
          ],
          "name": "stdout"
        }
      ]
    },
    {
      "cell_type": "markdown",
      "metadata": {
        "id": "vN6f1hnSSoJm"
      },
      "source": [
        "# New Section"
      ]
    },
    {
      "cell_type": "markdown",
      "metadata": {
        "id": "3k47oSU1SouR"
      },
      "source": [
        "# New Section"
      ]
    },
    {
      "cell_type": "code",
      "metadata": {
        "colab": {
          "base_uri": "https://localhost:8080/"
        },
        "id": "kYQigia9M6TE",
        "outputId": "b54f94d9-532f-4ff9-b1e7-55fb34e74731"
      },
      "source": [
        "!pip install surprise"
      ],
      "execution_count": 104,
      "outputs": [
        {
          "output_type": "stream",
          "text": [
            "Collecting surprise\n",
            "  Downloading https://files.pythonhosted.org/packages/61/de/e5cba8682201fcf9c3719a6fdda95693468ed061945493dea2dd37c5618b/surprise-0.1-py2.py3-none-any.whl\n",
            "Collecting scikit-surprise\n",
            "\u001b[?25l  Downloading https://files.pythonhosted.org/packages/97/37/5d334adaf5ddd65da99fc65f6507e0e4599d092ba048f4302fe8775619e8/scikit-surprise-1.1.1.tar.gz (11.8MB)\n",
            "\u001b[K     |████████████████████████████████| 11.8MB 4.5MB/s \n",
            "\u001b[?25hRequirement already satisfied: joblib>=0.11 in /usr/local/lib/python3.6/dist-packages (from scikit-surprise->surprise) (1.0.0)\n",
            "Requirement already satisfied: numpy>=1.11.2 in /usr/local/lib/python3.6/dist-packages (from scikit-surprise->surprise) (1.19.4)\n",
            "Requirement already satisfied: scipy>=1.0.0 in /usr/local/lib/python3.6/dist-packages (from scikit-surprise->surprise) (1.4.1)\n",
            "Requirement already satisfied: six>=1.10.0 in /usr/local/lib/python3.6/dist-packages (from scikit-surprise->surprise) (1.15.0)\n",
            "Building wheels for collected packages: scikit-surprise\n",
            "  Building wheel for scikit-surprise (setup.py) ... \u001b[?25l\u001b[?25hdone\n",
            "  Created wheel for scikit-surprise: filename=scikit_surprise-1.1.1-cp36-cp36m-linux_x86_64.whl size=1618282 sha256=6cd0acffe41d020f0d767a2480cf7f5a990f87002400109b2479ae42e834d511\n",
            "  Stored in directory: /root/.cache/pip/wheels/78/9c/3d/41b419c9d2aff5b6e2b4c0fc8d25c538202834058f9ed110d0\n",
            "Successfully built scikit-surprise\n",
            "Installing collected packages: scikit-surprise, surprise\n",
            "Successfully installed scikit-surprise-1.1.1 surprise-0.1\n"
          ],
          "name": "stdout"
        }
      ]
    },
    {
      "cell_type": "code",
      "metadata": {
        "id": "XX2LfaZeNVo5"
      },
      "source": [
        "import pandas as pd # data processing, CSV file I/O (e.g. pd.read_csv)\r\n",
        "import numpy as np # linear algebra\r\n",
        "import matplotlib \r\n",
        "import matplotlib.pyplot as plt\r\n",
        "import sklearn\r\n",
        "%matplotlib inline\r\n",
        "import matplotlib.pyplot as plt \r\n",
        "plt.rcParams[\"figure.figsize\"] = [10, 8]\r\n",
        "# Input data files are available in the \"../input/\" directory.\r\n",
        "# For example, running this (by clicking run or pressing Shift+Enter) will list the files in the input directory\r\n",
        "\r\n",
        "import math\r\n",
        "import seaborn as sns\r\n",
        "\r\n",
        "\r\n",
        "# set seed for reproducibility\r\n",
        "np.random.seed(0)"
      ],
      "execution_count": 11,
      "outputs": []
    },
    {
      "cell_type": "code",
      "metadata": {
        "colab": {
          "base_uri": "https://localhost:8080/",
          "height": 35
        },
        "id": "WG-sDtEsNdFi",
        "outputId": "6d8cdc0a-9978-40b1-b4b7-6fe522f661c1"
      },
      "source": [
        "import os\r\n",
        "os.getcwd()"
      ],
      "execution_count": 14,
      "outputs": [
        {
          "output_type": "execute_result",
          "data": {
            "application/vnd.google.colaboratory.intrinsic+json": {
              "type": "string"
            },
            "text/plain": [
              "'/content'"
            ]
          },
          "metadata": {
            "tags": []
          },
          "execution_count": 14
        }
      ]
    },
    {
      "cell_type": "code",
      "metadata": {
        "id": "XaCuVPTKN2E7"
      },
      "source": [
        "os.chdir('/content/drive/MyDrive/sample_data')"
      ],
      "execution_count": 16,
      "outputs": []
    },
    {
      "cell_type": "code",
      "metadata": {
        "colab": {
          "base_uri": "https://localhost:8080/",
          "height": 35
        },
        "id": "LEBJoefrO2Bp",
        "outputId": "8b972b48-de61-44e5-d778-f8547b5ce746"
      },
      "source": [
        "os.getcwd()"
      ],
      "execution_count": 17,
      "outputs": [
        {
          "output_type": "execute_result",
          "data": {
            "application/vnd.google.colaboratory.intrinsic+json": {
              "type": "string"
            },
            "text/plain": [
              "'/content/drive/My Drive/sample_data'"
            ]
          },
          "metadata": {
            "tags": []
          },
          "execution_count": 17
        }
      ]
    },
    {
      "cell_type": "markdown",
      "metadata": {
        "id": "afEgO60yQkc6"
      },
      "source": [
        "2. Loading the Data "
      ]
    },
    {
      "cell_type": "code",
      "metadata": {
        "id": "LPIgIx-qO4vh"
      },
      "source": [
        "df_items = pd.read_csv('item_description.csv')\r\n",
        "df_ratings = pd.read_csv('item_ratings.csv')\r\n",
        "df_users = pd.read_csv('user_preferences.csv')\r\n"
      ],
      "execution_count": 18,
      "outputs": []
    },
    {
      "cell_type": "markdown",
      "metadata": {
        "id": "l1YLn9izQpew"
      },
      "source": [
        "3. Data Analysis and EDA"
      ]
    },
    {
      "cell_type": "markdown",
      "metadata": {
        "id": "JadWiFb0Q3tk"
      },
      "source": [
        "3.1 Items Data \r\n",
        "Q. Check the info of the Item_description data and dwrite your comments "
      ]
    },
    {
      "cell_type": "code",
      "metadata": {
        "colab": {
          "base_uri": "https://localhost:8080/"
        },
        "id": "MlypReDNQTIC",
        "outputId": "efda6f7d-7f9a-42d7-a23d-54555a0650f9"
      },
      "source": [
        "df_items.info()"
      ],
      "execution_count": 19,
      "outputs": [
        {
          "output_type": "stream",
          "text": [
            "<class 'pandas.core.frame.DataFrame'>\n",
            "RangeIndex: 18 entries, 0 to 17\n",
            "Data columns (total 10 columns):\n",
            " #   Column    Non-Null Count  Dtype \n",
            "---  ------    --------------  ----- \n",
            " 0   itemId    18 non-null     int64 \n",
            " 1   itemDesc  18 non-null     object\n",
            " 2   item1     18 non-null     int64 \n",
            " 3   item2     18 non-null     int64 \n",
            " 4   item3     18 non-null     int64 \n",
            " 5   item4     18 non-null     int64 \n",
            " 6   item5     18 non-null     int64 \n",
            " 7   item6     18 non-null     int64 \n",
            " 8   item7     18 non-null     int64 \n",
            " 9   item8     18 non-null     int64 \n",
            "dtypes: int64(9), object(1)\n",
            "memory usage: 1.5+ KB\n"
          ],
          "name": "stdout"
        }
      ]
    },
    {
      "cell_type": "code",
      "metadata": {
        "colab": {
          "base_uri": "https://localhost:8080/"
        },
        "id": "KstqxQdnSmL8",
        "outputId": "b4eac3cc-122e-47cb-9501-93ea541cedb4"
      },
      "source": [
        "df_items.shape"
      ],
      "execution_count": 22,
      "outputs": [
        {
          "output_type": "execute_result",
          "data": {
            "text/plain": [
              "(18, 10)"
            ]
          },
          "metadata": {
            "tags": []
          },
          "execution_count": 22
        }
      ]
    },
    {
      "cell_type": "code",
      "metadata": {
        "colab": {
          "base_uri": "https://localhost:8080/",
          "height": 601
        },
        "id": "36p6TozwS2_6",
        "outputId": "a8a4eecf-b827-4ff1-96a5-8e32961efc73"
      },
      "source": [
        "df_items"
      ],
      "execution_count": 23,
      "outputs": [
        {
          "output_type": "execute_result",
          "data": {
            "text/html": [
              "<div>\n",
              "<style scoped>\n",
              "    .dataframe tbody tr th:only-of-type {\n",
              "        vertical-align: middle;\n",
              "    }\n",
              "\n",
              "    .dataframe tbody tr th {\n",
              "        vertical-align: top;\n",
              "    }\n",
              "\n",
              "    .dataframe thead th {\n",
              "        text-align: right;\n",
              "    }\n",
              "</style>\n",
              "<table border=\"1\" class=\"dataframe\">\n",
              "  <thead>\n",
              "    <tr style=\"text-align: right;\">\n",
              "      <th></th>\n",
              "      <th>itemId</th>\n",
              "      <th>itemDesc</th>\n",
              "      <th>item1</th>\n",
              "      <th>item2</th>\n",
              "      <th>item3</th>\n",
              "      <th>item4</th>\n",
              "      <th>item5</th>\n",
              "      <th>item6</th>\n",
              "      <th>item7</th>\n",
              "      <th>item8</th>\n",
              "    </tr>\n",
              "  </thead>\n",
              "  <tbody>\n",
              "    <tr>\n",
              "      <th>0</th>\n",
              "      <td>1</td>\n",
              "      <td>Various sports activities proposal</td>\n",
              "      <td>1</td>\n",
              "      <td>0</td>\n",
              "      <td>0</td>\n",
              "      <td>0</td>\n",
              "      <td>0</td>\n",
              "      <td>0</td>\n",
              "      <td>0</td>\n",
              "      <td>0</td>\n",
              "    </tr>\n",
              "    <tr>\n",
              "      <th>1</th>\n",
              "      <td>2</td>\n",
              "      <td>The results of your favorite sports team</td>\n",
              "      <td>1</td>\n",
              "      <td>0</td>\n",
              "      <td>0</td>\n",
              "      <td>0</td>\n",
              "      <td>0</td>\n",
              "      <td>0</td>\n",
              "      <td>0</td>\n",
              "      <td>0</td>\n",
              "    </tr>\n",
              "    <tr>\n",
              "      <th>2</th>\n",
              "      <td>3</td>\n",
              "      <td>A concert of your favorite band</td>\n",
              "      <td>0</td>\n",
              "      <td>1</td>\n",
              "      <td>0</td>\n",
              "      <td>0</td>\n",
              "      <td>0</td>\n",
              "      <td>0</td>\n",
              "      <td>0</td>\n",
              "      <td>0</td>\n",
              "    </tr>\n",
              "    <tr>\n",
              "      <th>3</th>\n",
              "      <td>4</td>\n",
              "      <td>A concert of a symphony orchestra</td>\n",
              "      <td>0</td>\n",
              "      <td>1</td>\n",
              "      <td>0</td>\n",
              "      <td>0</td>\n",
              "      <td>0</td>\n",
              "      <td>0</td>\n",
              "      <td>0</td>\n",
              "      <td>0</td>\n",
              "    </tr>\n",
              "    <tr>\n",
              "      <th>4</th>\n",
              "      <td>5</td>\n",
              "      <td>A discount for your favorite clothes store</td>\n",
              "      <td>0</td>\n",
              "      <td>0</td>\n",
              "      <td>1</td>\n",
              "      <td>0</td>\n",
              "      <td>0</td>\n",
              "      <td>0</td>\n",
              "      <td>0</td>\n",
              "      <td>0</td>\n",
              "    </tr>\n",
              "    <tr>\n",
              "      <th>5</th>\n",
              "      <td>6</td>\n",
              "      <td>A discount for your favorite bookshop</td>\n",
              "      <td>0</td>\n",
              "      <td>0</td>\n",
              "      <td>0</td>\n",
              "      <td>1</td>\n",
              "      <td>0</td>\n",
              "      <td>0</td>\n",
              "      <td>0</td>\n",
              "      <td>0</td>\n",
              "    </tr>\n",
              "    <tr>\n",
              "      <th>6</th>\n",
              "      <td>7</td>\n",
              "      <td>A discount for your favorite pub</td>\n",
              "      <td>0</td>\n",
              "      <td>0</td>\n",
              "      <td>0</td>\n",
              "      <td>0</td>\n",
              "      <td>1</td>\n",
              "      <td>0</td>\n",
              "      <td>0</td>\n",
              "      <td>0</td>\n",
              "    </tr>\n",
              "    <tr>\n",
              "      <th>7</th>\n",
              "      <td>8</td>\n",
              "      <td>A discount for your favorite restaurant</td>\n",
              "      <td>0</td>\n",
              "      <td>0</td>\n",
              "      <td>0</td>\n",
              "      <td>0</td>\n",
              "      <td>1</td>\n",
              "      <td>0</td>\n",
              "      <td>0</td>\n",
              "      <td>0</td>\n",
              "    </tr>\n",
              "    <tr>\n",
              "      <th>8</th>\n",
              "      <td>9</td>\n",
              "      <td>An exhibition about your favorite author</td>\n",
              "      <td>0</td>\n",
              "      <td>0</td>\n",
              "      <td>0</td>\n",
              "      <td>1</td>\n",
              "      <td>0</td>\n",
              "      <td>0</td>\n",
              "      <td>0</td>\n",
              "      <td>0</td>\n",
              "    </tr>\n",
              "    <tr>\n",
              "      <th>9</th>\n",
              "      <td>10</td>\n",
              "      <td>The time of your next bus, tram, or subway (in...</td>\n",
              "      <td>0</td>\n",
              "      <td>0</td>\n",
              "      <td>0</td>\n",
              "      <td>0</td>\n",
              "      <td>0</td>\n",
              "      <td>1</td>\n",
              "      <td>0</td>\n",
              "      <td>0</td>\n",
              "    </tr>\n",
              "    <tr>\n",
              "      <th>10</th>\n",
              "      <td>11</td>\n",
              "      <td>The geolocalized weather in the next hour</td>\n",
              "      <td>0</td>\n",
              "      <td>0</td>\n",
              "      <td>0</td>\n",
              "      <td>0</td>\n",
              "      <td>0</td>\n",
              "      <td>1</td>\n",
              "      <td>0</td>\n",
              "      <td>0</td>\n",
              "    </tr>\n",
              "    <tr>\n",
              "      <th>11</th>\n",
              "      <td>12</td>\n",
              "      <td>Cultural scientific event for the general public</td>\n",
              "      <td>0</td>\n",
              "      <td>0</td>\n",
              "      <td>0</td>\n",
              "      <td>0</td>\n",
              "      <td>0</td>\n",
              "      <td>0</td>\n",
              "      <td>1</td>\n",
              "      <td>0</td>\n",
              "    </tr>\n",
              "    <tr>\n",
              "      <th>12</th>\n",
              "      <td>13</td>\n",
              "      <td>The open house of a natural sciences museum</td>\n",
              "      <td>0</td>\n",
              "      <td>0</td>\n",
              "      <td>0</td>\n",
              "      <td>0</td>\n",
              "      <td>0</td>\n",
              "      <td>0</td>\n",
              "      <td>1</td>\n",
              "      <td>0</td>\n",
              "    </tr>\n",
              "    <tr>\n",
              "      <th>13</th>\n",
              "      <td>14</td>\n",
              "      <td>Pollution rate and air quality in your city</td>\n",
              "      <td>0</td>\n",
              "      <td>0</td>\n",
              "      <td>0</td>\n",
              "      <td>0</td>\n",
              "      <td>0</td>\n",
              "      <td>1</td>\n",
              "      <td>0</td>\n",
              "      <td>0</td>\n",
              "    </tr>\n",
              "    <tr>\n",
              "      <th>14</th>\n",
              "      <td>15</td>\n",
              "      <td>Political news for your city or state</td>\n",
              "      <td>0</td>\n",
              "      <td>0</td>\n",
              "      <td>0</td>\n",
              "      <td>0</td>\n",
              "      <td>0</td>\n",
              "      <td>0</td>\n",
              "      <td>0</td>\n",
              "      <td>1</td>\n",
              "    </tr>\n",
              "    <tr>\n",
              "      <th>15</th>\n",
              "      <td>16</td>\n",
              "      <td>National or International news</td>\n",
              "      <td>0</td>\n",
              "      <td>0</td>\n",
              "      <td>0</td>\n",
              "      <td>0</td>\n",
              "      <td>0</td>\n",
              "      <td>0</td>\n",
              "      <td>0</td>\n",
              "      <td>1</td>\n",
              "    </tr>\n",
              "    <tr>\n",
              "      <th>16</th>\n",
              "      <td>17</td>\n",
              "      <td>Local news</td>\n",
              "      <td>0</td>\n",
              "      <td>0</td>\n",
              "      <td>0</td>\n",
              "      <td>0</td>\n",
              "      <td>0</td>\n",
              "      <td>0</td>\n",
              "      <td>0</td>\n",
              "      <td>1</td>\n",
              "    </tr>\n",
              "    <tr>\n",
              "      <th>17</th>\n",
              "      <td>18</td>\n",
              "      <td>Information Technology workshop for the genera...</td>\n",
              "      <td>0</td>\n",
              "      <td>0</td>\n",
              "      <td>0</td>\n",
              "      <td>0</td>\n",
              "      <td>0</td>\n",
              "      <td>0</td>\n",
              "      <td>1</td>\n",
              "      <td>0</td>\n",
              "    </tr>\n",
              "  </tbody>\n",
              "</table>\n",
              "</div>"
            ],
            "text/plain": [
              "    itemId                                           itemDesc  ...  item7  item8\n",
              "0        1                 Various sports activities proposal  ...      0      0\n",
              "1        2           The results of your favorite sports team  ...      0      0\n",
              "2        3                    A concert of your favorite band  ...      0      0\n",
              "3        4                  A concert of a symphony orchestra  ...      0      0\n",
              "4        5        A discount for your favorite clothes store   ...      0      0\n",
              "5        6              A discount for your favorite bookshop  ...      0      0\n",
              "6        7                   A discount for your favorite pub  ...      0      0\n",
              "7        8            A discount for your favorite restaurant  ...      0      0\n",
              "8        9           An exhibition about your favorite author  ...      0      0\n",
              "9       10  The time of your next bus, tram, or subway (in...  ...      0      0\n",
              "10      11          The geolocalized weather in the next hour  ...      0      0\n",
              "11      12   Cultural scientific event for the general public  ...      1      0\n",
              "12      13        The open house of a natural sciences museum  ...      1      0\n",
              "13      14        Pollution rate and air quality in your city  ...      0      0\n",
              "14      15              Political news for your city or state  ...      0      1\n",
              "15      16                     National or International news  ...      0      1\n",
              "16      17                                         Local news  ...      0      1\n",
              "17      18  Information Technology workshop for the genera...  ...      1      0\n",
              "\n",
              "[18 rows x 10 columns]"
            ]
          },
          "metadata": {
            "tags": []
          },
          "execution_count": 23
        }
      ]
    },
    {
      "cell_type": "markdown",
      "metadata": {
        "id": "wdyE7Y8gRGDD"
      },
      "source": [
        "Q. Make a Column called item category and add it to the items dataframe"
      ]
    },
    {
      "cell_type": "code",
      "metadata": {
        "id": "yM9FTSdTRPl7"
      },
      "source": [
        "df_items['cat'] = [1,1,2,2,3,4,5,5,4,6,6,7,7,6,8,8,8,7]"
      ],
      "execution_count": 24,
      "outputs": []
    },
    {
      "cell_type": "code",
      "metadata": {
        "colab": {
          "base_uri": "https://localhost:8080/",
          "height": 601
        },
        "id": "AasDVjUHW-YP",
        "outputId": "eecfe81b-1fcb-4e01-b590-bbd9dffbe2c4"
      },
      "source": [
        "df_items"
      ],
      "execution_count": 38,
      "outputs": [
        {
          "output_type": "execute_result",
          "data": {
            "text/html": [
              "<div>\n",
              "<style scoped>\n",
              "    .dataframe tbody tr th:only-of-type {\n",
              "        vertical-align: middle;\n",
              "    }\n",
              "\n",
              "    .dataframe tbody tr th {\n",
              "        vertical-align: top;\n",
              "    }\n",
              "\n",
              "    .dataframe thead th {\n",
              "        text-align: right;\n",
              "    }\n",
              "</style>\n",
              "<table border=\"1\" class=\"dataframe\">\n",
              "  <thead>\n",
              "    <tr style=\"text-align: right;\">\n",
              "      <th></th>\n",
              "      <th>itemId</th>\n",
              "      <th>itemDesc</th>\n",
              "      <th>item1</th>\n",
              "      <th>item2</th>\n",
              "      <th>item3</th>\n",
              "      <th>item4</th>\n",
              "      <th>item5</th>\n",
              "      <th>item6</th>\n",
              "      <th>item7</th>\n",
              "      <th>item8</th>\n",
              "      <th>cat</th>\n",
              "    </tr>\n",
              "  </thead>\n",
              "  <tbody>\n",
              "    <tr>\n",
              "      <th>0</th>\n",
              "      <td>1</td>\n",
              "      <td>Various sports activities proposal</td>\n",
              "      <td>1</td>\n",
              "      <td>0</td>\n",
              "      <td>0</td>\n",
              "      <td>0</td>\n",
              "      <td>0</td>\n",
              "      <td>0</td>\n",
              "      <td>0</td>\n",
              "      <td>0</td>\n",
              "      <td>1</td>\n",
              "    </tr>\n",
              "    <tr>\n",
              "      <th>1</th>\n",
              "      <td>2</td>\n",
              "      <td>The results of your favorite sports team</td>\n",
              "      <td>1</td>\n",
              "      <td>0</td>\n",
              "      <td>0</td>\n",
              "      <td>0</td>\n",
              "      <td>0</td>\n",
              "      <td>0</td>\n",
              "      <td>0</td>\n",
              "      <td>0</td>\n",
              "      <td>1</td>\n",
              "    </tr>\n",
              "    <tr>\n",
              "      <th>2</th>\n",
              "      <td>3</td>\n",
              "      <td>A concert of your favorite band</td>\n",
              "      <td>0</td>\n",
              "      <td>1</td>\n",
              "      <td>0</td>\n",
              "      <td>0</td>\n",
              "      <td>0</td>\n",
              "      <td>0</td>\n",
              "      <td>0</td>\n",
              "      <td>0</td>\n",
              "      <td>2</td>\n",
              "    </tr>\n",
              "    <tr>\n",
              "      <th>3</th>\n",
              "      <td>4</td>\n",
              "      <td>A concert of a symphony orchestra</td>\n",
              "      <td>0</td>\n",
              "      <td>1</td>\n",
              "      <td>0</td>\n",
              "      <td>0</td>\n",
              "      <td>0</td>\n",
              "      <td>0</td>\n",
              "      <td>0</td>\n",
              "      <td>0</td>\n",
              "      <td>2</td>\n",
              "    </tr>\n",
              "    <tr>\n",
              "      <th>4</th>\n",
              "      <td>5</td>\n",
              "      <td>A discount for your favorite clothes store</td>\n",
              "      <td>0</td>\n",
              "      <td>0</td>\n",
              "      <td>1</td>\n",
              "      <td>0</td>\n",
              "      <td>0</td>\n",
              "      <td>0</td>\n",
              "      <td>0</td>\n",
              "      <td>0</td>\n",
              "      <td>3</td>\n",
              "    </tr>\n",
              "    <tr>\n",
              "      <th>5</th>\n",
              "      <td>6</td>\n",
              "      <td>A discount for your favorite bookshop</td>\n",
              "      <td>0</td>\n",
              "      <td>0</td>\n",
              "      <td>0</td>\n",
              "      <td>1</td>\n",
              "      <td>0</td>\n",
              "      <td>0</td>\n",
              "      <td>0</td>\n",
              "      <td>0</td>\n",
              "      <td>4</td>\n",
              "    </tr>\n",
              "    <tr>\n",
              "      <th>6</th>\n",
              "      <td>7</td>\n",
              "      <td>A discount for your favorite pub</td>\n",
              "      <td>0</td>\n",
              "      <td>0</td>\n",
              "      <td>0</td>\n",
              "      <td>0</td>\n",
              "      <td>1</td>\n",
              "      <td>0</td>\n",
              "      <td>0</td>\n",
              "      <td>0</td>\n",
              "      <td>5</td>\n",
              "    </tr>\n",
              "    <tr>\n",
              "      <th>7</th>\n",
              "      <td>8</td>\n",
              "      <td>A discount for your favorite restaurant</td>\n",
              "      <td>0</td>\n",
              "      <td>0</td>\n",
              "      <td>0</td>\n",
              "      <td>0</td>\n",
              "      <td>1</td>\n",
              "      <td>0</td>\n",
              "      <td>0</td>\n",
              "      <td>0</td>\n",
              "      <td>5</td>\n",
              "    </tr>\n",
              "    <tr>\n",
              "      <th>8</th>\n",
              "      <td>9</td>\n",
              "      <td>An exhibition about your favorite author</td>\n",
              "      <td>0</td>\n",
              "      <td>0</td>\n",
              "      <td>0</td>\n",
              "      <td>1</td>\n",
              "      <td>0</td>\n",
              "      <td>0</td>\n",
              "      <td>0</td>\n",
              "      <td>0</td>\n",
              "      <td>4</td>\n",
              "    </tr>\n",
              "    <tr>\n",
              "      <th>9</th>\n",
              "      <td>10</td>\n",
              "      <td>The time of your next bus, tram, or subway (in...</td>\n",
              "      <td>0</td>\n",
              "      <td>0</td>\n",
              "      <td>0</td>\n",
              "      <td>0</td>\n",
              "      <td>0</td>\n",
              "      <td>1</td>\n",
              "      <td>0</td>\n",
              "      <td>0</td>\n",
              "      <td>6</td>\n",
              "    </tr>\n",
              "    <tr>\n",
              "      <th>10</th>\n",
              "      <td>11</td>\n",
              "      <td>The geolocalized weather in the next hour</td>\n",
              "      <td>0</td>\n",
              "      <td>0</td>\n",
              "      <td>0</td>\n",
              "      <td>0</td>\n",
              "      <td>0</td>\n",
              "      <td>1</td>\n",
              "      <td>0</td>\n",
              "      <td>0</td>\n",
              "      <td>6</td>\n",
              "    </tr>\n",
              "    <tr>\n",
              "      <th>11</th>\n",
              "      <td>12</td>\n",
              "      <td>Cultural scientific event for the general public</td>\n",
              "      <td>0</td>\n",
              "      <td>0</td>\n",
              "      <td>0</td>\n",
              "      <td>0</td>\n",
              "      <td>0</td>\n",
              "      <td>0</td>\n",
              "      <td>1</td>\n",
              "      <td>0</td>\n",
              "      <td>7</td>\n",
              "    </tr>\n",
              "    <tr>\n",
              "      <th>12</th>\n",
              "      <td>13</td>\n",
              "      <td>The open house of a natural sciences museum</td>\n",
              "      <td>0</td>\n",
              "      <td>0</td>\n",
              "      <td>0</td>\n",
              "      <td>0</td>\n",
              "      <td>0</td>\n",
              "      <td>0</td>\n",
              "      <td>1</td>\n",
              "      <td>0</td>\n",
              "      <td>7</td>\n",
              "    </tr>\n",
              "    <tr>\n",
              "      <th>13</th>\n",
              "      <td>14</td>\n",
              "      <td>Pollution rate and air quality in your city</td>\n",
              "      <td>0</td>\n",
              "      <td>0</td>\n",
              "      <td>0</td>\n",
              "      <td>0</td>\n",
              "      <td>0</td>\n",
              "      <td>1</td>\n",
              "      <td>0</td>\n",
              "      <td>0</td>\n",
              "      <td>6</td>\n",
              "    </tr>\n",
              "    <tr>\n",
              "      <th>14</th>\n",
              "      <td>15</td>\n",
              "      <td>Political news for your city or state</td>\n",
              "      <td>0</td>\n",
              "      <td>0</td>\n",
              "      <td>0</td>\n",
              "      <td>0</td>\n",
              "      <td>0</td>\n",
              "      <td>0</td>\n",
              "      <td>0</td>\n",
              "      <td>1</td>\n",
              "      <td>8</td>\n",
              "    </tr>\n",
              "    <tr>\n",
              "      <th>15</th>\n",
              "      <td>16</td>\n",
              "      <td>National or International news</td>\n",
              "      <td>0</td>\n",
              "      <td>0</td>\n",
              "      <td>0</td>\n",
              "      <td>0</td>\n",
              "      <td>0</td>\n",
              "      <td>0</td>\n",
              "      <td>0</td>\n",
              "      <td>1</td>\n",
              "      <td>8</td>\n",
              "    </tr>\n",
              "    <tr>\n",
              "      <th>16</th>\n",
              "      <td>17</td>\n",
              "      <td>Local news</td>\n",
              "      <td>0</td>\n",
              "      <td>0</td>\n",
              "      <td>0</td>\n",
              "      <td>0</td>\n",
              "      <td>0</td>\n",
              "      <td>0</td>\n",
              "      <td>0</td>\n",
              "      <td>1</td>\n",
              "      <td>8</td>\n",
              "    </tr>\n",
              "    <tr>\n",
              "      <th>17</th>\n",
              "      <td>18</td>\n",
              "      <td>Information Technology workshop for the genera...</td>\n",
              "      <td>0</td>\n",
              "      <td>0</td>\n",
              "      <td>0</td>\n",
              "      <td>0</td>\n",
              "      <td>0</td>\n",
              "      <td>0</td>\n",
              "      <td>1</td>\n",
              "      <td>0</td>\n",
              "      <td>7</td>\n",
              "    </tr>\n",
              "  </tbody>\n",
              "</table>\n",
              "</div>"
            ],
            "text/plain": [
              "    itemId                                           itemDesc  ...  item8  cat\n",
              "0        1                 Various sports activities proposal  ...      0    1\n",
              "1        2           The results of your favorite sports team  ...      0    1\n",
              "2        3                    A concert of your favorite band  ...      0    2\n",
              "3        4                  A concert of a symphony orchestra  ...      0    2\n",
              "4        5        A discount for your favorite clothes store   ...      0    3\n",
              "5        6              A discount for your favorite bookshop  ...      0    4\n",
              "6        7                   A discount for your favorite pub  ...      0    5\n",
              "7        8            A discount for your favorite restaurant  ...      0    5\n",
              "8        9           An exhibition about your favorite author  ...      0    4\n",
              "9       10  The time of your next bus, tram, or subway (in...  ...      0    6\n",
              "10      11          The geolocalized weather in the next hour  ...      0    6\n",
              "11      12   Cultural scientific event for the general public  ...      0    7\n",
              "12      13        The open house of a natural sciences museum  ...      0    7\n",
              "13      14        Pollution rate and air quality in your city  ...      0    6\n",
              "14      15              Political news for your city or state  ...      1    8\n",
              "15      16                     National or International news  ...      1    8\n",
              "16      17                                         Local news  ...      1    8\n",
              "17      18  Information Technology workshop for the genera...  ...      0    7\n",
              "\n",
              "[18 rows x 11 columns]"
            ]
          },
          "metadata": {
            "tags": []
          },
          "execution_count": 38
        }
      ]
    },
    {
      "cell_type": "code",
      "metadata": {
        "colab": {
          "base_uri": "https://localhost:8080/"
        },
        "id": "XJx2K3HfXCJC",
        "outputId": "0721af30-8610-415f-b3dd-b3e6a195033d"
      },
      "source": [
        "df_ratings.info()"
      ],
      "execution_count": 39,
      "outputs": [
        {
          "output_type": "stream",
          "text": [
            "<class 'pandas.core.frame.DataFrame'>\n",
            "RangeIndex: 38736 entries, 0 to 38735\n",
            "Data columns (total 5 columns):\n",
            " #   Column     Non-Null Count  Dtype\n",
            "---  ------     --------------  -----\n",
            " 0   contextId  38736 non-null  int64\n",
            " 1   itemId     38736 non-null  int64\n",
            " 2   rating     38736 non-null  int64\n",
            " 3   userId     38736 non-null  int64\n",
            " 4   context    38736 non-null  int64\n",
            "dtypes: int64(5)\n",
            "memory usage: 1.5 MB\n"
          ],
          "name": "stdout"
        }
      ]
    },
    {
      "cell_type": "markdown",
      "metadata": {
        "id": "piTAdbOjX6kZ"
      },
      "source": [
        "All integer values, 38736 null values, there are multiple userids "
      ]
    },
    {
      "cell_type": "code",
      "metadata": {
        "colab": {
          "base_uri": "https://localhost:8080/"
        },
        "id": "DqtGKzrsXyNG",
        "outputId": "11c78ef2-3401-4d80-e00b-3c9659bfa81e"
      },
      "source": [
        "df_ratings['rating'].value_counts()"
      ],
      "execution_count": 40,
      "outputs": [
        {
          "output_type": "execute_result",
          "data": {
            "text/plain": [
              "0    26653\n",
              "1    12083\n",
              "Name: rating, dtype: int64"
            ]
          },
          "metadata": {
            "tags": []
          },
          "execution_count": 40
        }
      ]
    },
    {
      "cell_type": "code",
      "metadata": {
        "colab": {
          "base_uri": "https://localhost:8080/",
          "height": 497
        },
        "id": "MNjY4a0zY3LI",
        "outputId": "b7c777a6-1c92-4eda-c017-c9e909c09697"
      },
      "source": [
        "df_ratings['rating'].value_counts().plot(kind='bar')"
      ],
      "execution_count": 41,
      "outputs": [
        {
          "output_type": "execute_result",
          "data": {
            "text/plain": [
              "<matplotlib.axes._subplots.AxesSubplot at 0x7fd427834630>"
            ]
          },
          "metadata": {
            "tags": []
          },
          "execution_count": 41
        },
        {
          "output_type": "display_data",
          "data": {
            "image/png": "[encoded data removed]",
            "text/plain": [
              "<Figure size 720x576 with 1 Axes>"
            ]
          },
          "metadata": {
            "tags": [],
            "needs_background": "light"
          }
        }
      ]
    },
    {
      "cell_type": "markdown",
      "metadata": {
        "id": "ncCzr-eSZ0BE"
      },
      "source": [
        "Q- Make a column called context and add two weather (context) to it. Context =1 for contextId <1077 and Context=0 for contextId >1076"
      ]
    },
    {
      "cell_type": "code",
      "metadata": {
        "id": "B-FKYmfZZfIa"
      },
      "source": [
        "df_ratings['context'] = df_ratings['contextId'].apply(lambda x : 1 if x < 1077 else 0)\r\n",
        "# df_ratings['Context'] = np.where(df_ratings['contextId']<1077,1,0)"
      ],
      "execution_count": 42,
      "outputs": []
    },
    {
      "cell_type": "code",
      "metadata": {
        "colab": {
          "base_uri": "https://localhost:8080/",
          "height": 415
        },
        "id": "MWfnB2rLa1V4",
        "outputId": "8cf61176-67cb-47e9-ca34-74c5fea838a5"
      },
      "source": [
        "df_ratings"
      ],
      "execution_count": 43,
      "outputs": [
        {
          "output_type": "execute_result",
          "data": {
            "text/html": [
              "<div>\n",
              "<style scoped>\n",
              "    .dataframe tbody tr th:only-of-type {\n",
              "        vertical-align: middle;\n",
              "    }\n",
              "\n",
              "    .dataframe tbody tr th {\n",
              "        vertical-align: top;\n",
              "    }\n",
              "\n",
              "    .dataframe thead th {\n",
              "        text-align: right;\n",
              "    }\n",
              "</style>\n",
              "<table border=\"1\" class=\"dataframe\">\n",
              "  <thead>\n",
              "    <tr style=\"text-align: right;\">\n",
              "      <th></th>\n",
              "      <th>contextId</th>\n",
              "      <th>itemId</th>\n",
              "      <th>rating</th>\n",
              "      <th>userId</th>\n",
              "      <th>context</th>\n",
              "    </tr>\n",
              "  </thead>\n",
              "  <tbody>\n",
              "    <tr>\n",
              "      <th>0</th>\n",
              "      <td>1</td>\n",
              "      <td>1</td>\n",
              "      <td>1</td>\n",
              "      <td>1</td>\n",
              "      <td>1</td>\n",
              "    </tr>\n",
              "    <tr>\n",
              "      <th>1</th>\n",
              "      <td>1</td>\n",
              "      <td>2</td>\n",
              "      <td>1</td>\n",
              "      <td>1</td>\n",
              "      <td>1</td>\n",
              "    </tr>\n",
              "    <tr>\n",
              "      <th>2</th>\n",
              "      <td>1</td>\n",
              "      <td>3</td>\n",
              "      <td>0</td>\n",
              "      <td>1</td>\n",
              "      <td>1</td>\n",
              "    </tr>\n",
              "    <tr>\n",
              "      <th>3</th>\n",
              "      <td>1</td>\n",
              "      <td>4</td>\n",
              "      <td>0</td>\n",
              "      <td>1</td>\n",
              "      <td>1</td>\n",
              "    </tr>\n",
              "    <tr>\n",
              "      <th>4</th>\n",
              "      <td>1</td>\n",
              "      <td>5</td>\n",
              "      <td>0</td>\n",
              "      <td>1</td>\n",
              "      <td>1</td>\n",
              "    </tr>\n",
              "    <tr>\n",
              "      <th>...</th>\n",
              "      <td>...</td>\n",
              "      <td>...</td>\n",
              "      <td>...</td>\n",
              "      <td>...</td>\n",
              "      <td>...</td>\n",
              "    </tr>\n",
              "    <tr>\n",
              "      <th>38731</th>\n",
              "      <td>2152</td>\n",
              "      <td>14</td>\n",
              "      <td>0</td>\n",
              "      <td>1076</td>\n",
              "      <td>0</td>\n",
              "    </tr>\n",
              "    <tr>\n",
              "      <th>38732</th>\n",
              "      <td>2152</td>\n",
              "      <td>15</td>\n",
              "      <td>0</td>\n",
              "      <td>1076</td>\n",
              "      <td>0</td>\n",
              "    </tr>\n",
              "    <tr>\n",
              "      <th>38733</th>\n",
              "      <td>2152</td>\n",
              "      <td>16</td>\n",
              "      <td>0</td>\n",
              "      <td>1076</td>\n",
              "      <td>0</td>\n",
              "    </tr>\n",
              "    <tr>\n",
              "      <th>38734</th>\n",
              "      <td>2152</td>\n",
              "      <td>17</td>\n",
              "      <td>0</td>\n",
              "      <td>1076</td>\n",
              "      <td>0</td>\n",
              "    </tr>\n",
              "    <tr>\n",
              "      <th>38735</th>\n",
              "      <td>2152</td>\n",
              "      <td>18</td>\n",
              "      <td>0</td>\n",
              "      <td>1076</td>\n",
              "      <td>0</td>\n",
              "    </tr>\n",
              "  </tbody>\n",
              "</table>\n",
              "<p>38736 rows × 5 columns</p>\n",
              "</div>"
            ],
            "text/plain": [
              "       contextId  itemId  rating  userId  context\n",
              "0              1       1       1       1        1\n",
              "1              1       2       1       1        1\n",
              "2              1       3       0       1        1\n",
              "3              1       4       0       1        1\n",
              "4              1       5       0       1        1\n",
              "...          ...     ...     ...     ...      ...\n",
              "38731       2152      14       0    1076        0\n",
              "38732       2152      15       0    1076        0\n",
              "38733       2152      16       0    1076        0\n",
              "38734       2152      17       0    1076        0\n",
              "38735       2152      18       0    1076        0\n",
              "\n",
              "[38736 rows x 5 columns]"
            ]
          },
          "metadata": {
            "tags": []
          },
          "execution_count": 43
        }
      ]
    },
    {
      "cell_type": "markdown",
      "metadata": {
        "id": "5UHgs32JcINj"
      },
      "source": [
        "Q- Check crosstab between context and rating and see if weather has any significant contribution"
      ]
    },
    {
      "cell_type": "code",
      "metadata": {
        "colab": {
          "base_uri": "https://localhost:8080/",
          "height": 141
        },
        "id": "M9MdW3COa29D",
        "outputId": "238a433c-d41a-46fb-b747-c667ac278951"
      },
      "source": [
        "pd.crosstab(df_ratings.context, df_ratings.rating)"
      ],
      "execution_count": 44,
      "outputs": [
        {
          "output_type": "execute_result",
          "data": {
            "text/html": [
              "<div>\n",
              "<style scoped>\n",
              "    .dataframe tbody tr th:only-of-type {\n",
              "        vertical-align: middle;\n",
              "    }\n",
              "\n",
              "    .dataframe tbody tr th {\n",
              "        vertical-align: top;\n",
              "    }\n",
              "\n",
              "    .dataframe thead th {\n",
              "        text-align: right;\n",
              "    }\n",
              "</style>\n",
              "<table border=\"1\" class=\"dataframe\">\n",
              "  <thead>\n",
              "    <tr style=\"text-align: right;\">\n",
              "      <th>rating</th>\n",
              "      <th>0</th>\n",
              "      <th>1</th>\n",
              "    </tr>\n",
              "    <tr>\n",
              "      <th>context</th>\n",
              "      <th></th>\n",
              "      <th></th>\n",
              "    </tr>\n",
              "  </thead>\n",
              "  <tbody>\n",
              "    <tr>\n",
              "      <th>0</th>\n",
              "      <td>13550</td>\n",
              "      <td>5818</td>\n",
              "    </tr>\n",
              "    <tr>\n",
              "      <th>1</th>\n",
              "      <td>13103</td>\n",
              "      <td>6265</td>\n",
              "    </tr>\n",
              "  </tbody>\n",
              "</table>\n",
              "</div>"
            ],
            "text/plain": [
              "rating       0     1\n",
              "context             \n",
              "0        13550  5818\n",
              "1        13103  6265"
            ]
          },
          "metadata": {
            "tags": []
          },
          "execution_count": 44
        }
      ]
    },
    {
      "cell_type": "markdown",
      "metadata": {
        "id": "DehsZcj7dIY6"
      },
      "source": [
        "Q- Check for null values"
      ]
    },
    {
      "cell_type": "code",
      "metadata": {
        "colab": {
          "base_uri": "https://localhost:8080/"
        },
        "id": "nFaW9PUrcqcP",
        "outputId": "aa348e80-61e3-4842-833f-88392760544f"
      },
      "source": [
        "df_ratings.isnull().values.any()"
      ],
      "execution_count": 45,
      "outputs": [
        {
          "output_type": "execute_result",
          "data": {
            "text/plain": [
              "False"
            ]
          },
          "metadata": {
            "tags": []
          },
          "execution_count": 45
        }
      ]
    },
    {
      "cell_type": "markdown",
      "metadata": {
        "id": "gYWCC68CeVOt"
      },
      "source": [
        "Q- Check unique users, items, and contextId in the data"
      ]
    },
    {
      "cell_type": "code",
      "metadata": {
        "colab": {
          "base_uri": "https://localhost:8080/"
        },
        "id": "UYV5D-6yd-_3",
        "outputId": "b83624f3-08e9-4325-ff1d-d85edb420925"
      },
      "source": [
        "df_ratings.nunique()\r\n"
      ],
      "execution_count": 46,
      "outputs": [
        {
          "output_type": "execute_result",
          "data": {
            "text/plain": [
              "contextId    2152\n",
              "itemId         18\n",
              "rating          2\n",
              "userId       1076\n",
              "context         2\n",
              "dtype: int64"
            ]
          },
          "metadata": {
            "tags": []
          },
          "execution_count": 46
        }
      ]
    },
    {
      "cell_type": "code",
      "metadata": {
        "colab": {
          "base_uri": "https://localhost:8080/"
        },
        "id": "bqy-6TFOepsl",
        "outputId": "1abfada6-ccad-457b-c08d-1dd2c8707b35"
      },
      "source": [
        "print(\"users unique counts:\", df_ratings['userId'].nunique())\r\n",
        "print(\"Items unique counts:\", df_ratings['itemId'].nunique())\r\n",
        "print(\"Ratings unique counts:\", df_ratings['rating'].nunique())"
      ],
      "execution_count": 47,
      "outputs": [
        {
          "output_type": "stream",
          "text": [
            "users unique counts: 1076\n",
            "Items unique counts: 18\n",
            "Ratings unique counts: 2\n"
          ],
          "name": "stdout"
        }
      ]
    },
    {
      "cell_type": "markdown",
      "metadata": {
        "id": "iA7c6hQ6fuzd"
      },
      "source": [
        "### Popularity Based\r\n",
        "Q- Check mean rating for each item and print the top 10 popular items"
      ]
    },
    {
      "cell_type": "code",
      "metadata": {
        "colab": {
          "base_uri": "https://localhost:8080/"
        },
        "id": "P8GfnxEXgTJ1",
        "outputId": "07d5c35a-792f-4627-d399-ebe951e0c2ba"
      },
      "source": [
        "df_ratings.groupby('itemId').mean()['rating'].sort_values(ascending=False).head(10)\r\n"
      ],
      "execution_count": 48,
      "outputs": [
        {
          "output_type": "execute_result",
          "data": {
            "text/plain": [
              "itemId\n",
              "7     0.592472\n",
              "10    0.559480\n",
              "8     0.542286\n",
              "11    0.428439\n",
              "5     0.395911\n",
              "3     0.368959\n",
              "6     0.339219\n",
              "13    0.332714\n",
              "14    0.289498\n",
              "12    0.276487\n",
              "Name: rating, dtype: float64"
            ]
          },
          "metadata": {
            "tags": []
          },
          "execution_count": 48
        }
      ]
    },
    {
      "cell_type": "code",
      "metadata": {
        "colab": {
          "base_uri": "https://localhost:8080/",
          "height": 355
        },
        "id": "tkFSDpEQfcmL",
        "outputId": "f704bf24-ab81-485d-dd6b-41ac37925b3a"
      },
      "source": [
        "df_ratings.groupby('itemId', as_index=False)['rating'].mean().sort_values(by = 'rating' ,ascending = False).head(10)\r\n"
      ],
      "execution_count": 49,
      "outputs": [
        {
          "output_type": "execute_result",
          "data": {
            "text/html": [
              "<div>\n",
              "<style scoped>\n",
              "    .dataframe tbody tr th:only-of-type {\n",
              "        vertical-align: middle;\n",
              "    }\n",
              "\n",
              "    .dataframe tbody tr th {\n",
              "        vertical-align: top;\n",
              "    }\n",
              "\n",
              "    .dataframe thead th {\n",
              "        text-align: right;\n",
              "    }\n",
              "</style>\n",
              "<table border=\"1\" class=\"dataframe\">\n",
              "  <thead>\n",
              "    <tr style=\"text-align: right;\">\n",
              "      <th></th>\n",
              "      <th>itemId</th>\n",
              "      <th>rating</th>\n",
              "    </tr>\n",
              "  </thead>\n",
              "  <tbody>\n",
              "    <tr>\n",
              "      <th>6</th>\n",
              "      <td>7</td>\n",
              "      <td>0.592472</td>\n",
              "    </tr>\n",
              "    <tr>\n",
              "      <th>9</th>\n",
              "      <td>10</td>\n",
              "      <td>0.559480</td>\n",
              "    </tr>\n",
              "    <tr>\n",
              "      <th>7</th>\n",
              "      <td>8</td>\n",
              "      <td>0.542286</td>\n",
              "    </tr>\n",
              "    <tr>\n",
              "      <th>10</th>\n",
              "      <td>11</td>\n",
              "      <td>0.428439</td>\n",
              "    </tr>\n",
              "    <tr>\n",
              "      <th>4</th>\n",
              "      <td>5</td>\n",
              "      <td>0.395911</td>\n",
              "    </tr>\n",
              "    <tr>\n",
              "      <th>2</th>\n",
              "      <td>3</td>\n",
              "      <td>0.368959</td>\n",
              "    </tr>\n",
              "    <tr>\n",
              "      <th>5</th>\n",
              "      <td>6</td>\n",
              "      <td>0.339219</td>\n",
              "    </tr>\n",
              "    <tr>\n",
              "      <th>12</th>\n",
              "      <td>13</td>\n",
              "      <td>0.332714</td>\n",
              "    </tr>\n",
              "    <tr>\n",
              "      <th>13</th>\n",
              "      <td>14</td>\n",
              "      <td>0.289498</td>\n",
              "    </tr>\n",
              "    <tr>\n",
              "      <th>11</th>\n",
              "      <td>12</td>\n",
              "      <td>0.276487</td>\n",
              "    </tr>\n",
              "  </tbody>\n",
              "</table>\n",
              "</div>"
            ],
            "text/plain": [
              "    itemId    rating\n",
              "6        7  0.592472\n",
              "9       10  0.559480\n",
              "7        8  0.542286\n",
              "10      11  0.428439\n",
              "4        5  0.395911\n",
              "2        3  0.368959\n",
              "5        6  0.339219\n",
              "12      13  0.332714\n",
              "13      14  0.289498\n",
              "11      12  0.276487"
            ]
          },
          "metadata": {
            "tags": []
          },
          "execution_count": 49
        }
      ]
    },
    {
      "cell_type": "markdown",
      "metadata": {
        "id": "Q7w7LMKShwD_"
      },
      "source": [
        "Q- Report the most liked and least liked item"
      ]
    },
    {
      "cell_type": "code",
      "metadata": {
        "colab": {
          "base_uri": "https://localhost:8080/"
        },
        "id": "LaGHmgO0hn3_",
        "outputId": "bde360a7-f8e1-42f3-93e3-146073d57da9"
      },
      "source": [
        "print(\"Most Liked: \",df_ratings.groupby('itemId')['rating'].mean().sort_values(ascending=False).head(1))\r\n",
        "print(\"Least Liked: \",df_ratings.groupby('itemId')['rating'].mean().sort_values(ascending=True).head(1))\r\n"
      ],
      "execution_count": 50,
      "outputs": [
        {
          "output_type": "stream",
          "text": [
            "Most Liked:  itemId\n",
            "7    0.592472\n",
            "Name: rating, dtype: float64\n",
            "Least Liked:  itemId\n",
            "15    0.110595\n",
            "Name: rating, dtype: float64\n"
          ],
          "name": "stdout"
        }
      ]
    },
    {
      "cell_type": "markdown",
      "metadata": {
        "id": "GuoVF7ZyirjB"
      },
      "source": [
        "Q- Check the mean rating of each user and print top users (who have highest mean rating)"
      ]
    },
    {
      "cell_type": "code",
      "metadata": {
        "colab": {
          "base_uri": "https://localhost:8080/",
          "height": 355
        },
        "id": "1hidcXYuiiTN",
        "outputId": "43724dcc-3cbb-45a7-d67f-fb72fff482c3"
      },
      "source": [
        "df_ratings.groupby('userId', as_index=False)['rating'].mean().sort_values(by = 'rating' ,ascending = False).head(10)"
      ],
      "execution_count": 51,
      "outputs": [
        {
          "output_type": "execute_result",
          "data": {
            "text/html": [
              "<div>\n",
              "<style scoped>\n",
              "    .dataframe tbody tr th:only-of-type {\n",
              "        vertical-align: middle;\n",
              "    }\n",
              "\n",
              "    .dataframe tbody tr th {\n",
              "        vertical-align: top;\n",
              "    }\n",
              "\n",
              "    .dataframe thead th {\n",
              "        text-align: right;\n",
              "    }\n",
              "</style>\n",
              "<table border=\"1\" class=\"dataframe\">\n",
              "  <thead>\n",
              "    <tr style=\"text-align: right;\">\n",
              "      <th></th>\n",
              "      <th>userId</th>\n",
              "      <th>rating</th>\n",
              "    </tr>\n",
              "  </thead>\n",
              "  <tbody>\n",
              "    <tr>\n",
              "      <th>265</th>\n",
              "      <td>266</td>\n",
              "      <td>1.000000</td>\n",
              "    </tr>\n",
              "    <tr>\n",
              "      <th>947</th>\n",
              "      <td>948</td>\n",
              "      <td>1.000000</td>\n",
              "    </tr>\n",
              "    <tr>\n",
              "      <th>579</th>\n",
              "      <td>580</td>\n",
              "      <td>1.000000</td>\n",
              "    </tr>\n",
              "    <tr>\n",
              "      <th>263</th>\n",
              "      <td>264</td>\n",
              "      <td>0.805556</td>\n",
              "    </tr>\n",
              "    <tr>\n",
              "      <th>1022</th>\n",
              "      <td>1023</td>\n",
              "      <td>0.805556</td>\n",
              "    </tr>\n",
              "    <tr>\n",
              "      <th>643</th>\n",
              "      <td>644</td>\n",
              "      <td>0.805556</td>\n",
              "    </tr>\n",
              "    <tr>\n",
              "      <th>523</th>\n",
              "      <td>524</td>\n",
              "      <td>0.805556</td>\n",
              "    </tr>\n",
              "    <tr>\n",
              "      <th>974</th>\n",
              "      <td>975</td>\n",
              "      <td>0.805556</td>\n",
              "    </tr>\n",
              "    <tr>\n",
              "      <th>875</th>\n",
              "      <td>876</td>\n",
              "      <td>0.805556</td>\n",
              "    </tr>\n",
              "    <tr>\n",
              "      <th>482</th>\n",
              "      <td>483</td>\n",
              "      <td>0.777778</td>\n",
              "    </tr>\n",
              "  </tbody>\n",
              "</table>\n",
              "</div>"
            ],
            "text/plain": [
              "      userId    rating\n",
              "265      266  1.000000\n",
              "947      948  1.000000\n",
              "579      580  1.000000\n",
              "263      264  0.805556\n",
              "1022    1023  0.805556\n",
              "643      644  0.805556\n",
              "523      524  0.805556\n",
              "974      975  0.805556\n",
              "875      876  0.805556\n",
              "482      483  0.777778"
            ]
          },
          "metadata": {
            "tags": []
          },
          "execution_count": 51
        }
      ]
    },
    {
      "cell_type": "markdown",
      "metadata": {
        "id": "hJEdlwcWkUQJ"
      },
      "source": [
        "Q- Check distribution of mean rating"
      ]
    },
    {
      "cell_type": "code",
      "metadata": {
        "colab": {
          "base_uri": "https://localhost:8080/",
          "height": 517
        },
        "id": "fGwst9ZWj-rs",
        "outputId": "c0edee99-34f0-434c-bd8b-d7e05c56df4b"
      },
      "source": [
        "df_ratings.groupby('itemId').mean()['rating'].plot(kind='bar')"
      ],
      "execution_count": 52,
      "outputs": [
        {
          "output_type": "execute_result",
          "data": {
            "text/plain": [
              "<matplotlib.axes._subplots.AxesSubplot at 0x7fd426794c50>"
            ]
          },
          "metadata": {
            "tags": []
          },
          "execution_count": 52
        },
        {
          "output_type": "display_data",
          "data": {
            "image/png": "[encoded data removed]",
            "text/plain": [
              "<Figure size 720x576 with 1 Axes>"
            ]
          },
          "metadata": {
            "tags": [],
            "needs_background": "light"
          }
        }
      ]
    },
    {
      "cell_type": "code",
      "metadata": {
        "colab": {
          "base_uri": "https://localhost:8080/",
          "height": 529
        },
        "id": "5ILnEYoRlTC7",
        "outputId": "ed07deba-05f5-4b44-9785-751c6d9c85f2"
      },
      "source": [
        "df_ratings.groupby('userId').mean()['rating'].plot(kind='bar')"
      ],
      "execution_count": 53,
      "outputs": [
        {
          "output_type": "execute_result",
          "data": {
            "text/plain": [
              "<matplotlib.axes._subplots.AxesSubplot at 0x7fd42673b748>"
            ]
          },
          "metadata": {
            "tags": []
          },
          "execution_count": 53
        },
        {
          "output_type": "display_data",
          "data": {
            "image/png": "[encoded data removed]",
            "text/plain": [
              "<Figure size 720x576 with 1 Axes>"
            ]
          },
          "metadata": {
            "tags": [],
            "needs_background": "light"
          }
        }
      ]
    },
    {
      "cell_type": "code",
      "metadata": {
        "colab": {
          "base_uri": "https://localhost:8080/",
          "height": 534
        },
        "id": "mmtgoh8hmbkb",
        "outputId": "ce07f482-073d-413f-98da-925bf1455696"
      },
      "source": [
        "avg_rating_user = df_ratings[['userId', 'rating']].groupby('userId').agg('mean').sort_values(by = 'rating', ascending=False)\r\n",
        "avg_rating_user.hist(bins=30)\r\n"
      ],
      "execution_count": 54,
      "outputs": [
        {
          "output_type": "execute_result",
          "data": {
            "text/plain": [
              "array([[<matplotlib.axes._subplots.AxesSubplot object at 0x7fd425d94400>]],\n",
              "      dtype=object)"
            ]
          },
          "metadata": {
            "tags": []
          },
          "execution_count": 54
        },
        {
          "output_type": "display_data",
          "data": {
            "image/png": "[encoded data removed]",
            "text/plain": [
              "<Figure size 720x576 with 1 Axes>"
            ]
          },
          "metadata": {
            "tags": [],
            "needs_background": "light"
          }
        }
      ]
    },
    {
      "cell_type": "code",
      "metadata": {
        "id": "GUR7S_gJmrqW"
      },
      "source": [
        "item_rating = pd.DataFrame(df_ratings.groupby('userId')['rating'].mean())"
      ],
      "execution_count": 55,
      "outputs": []
    },
    {
      "cell_type": "code",
      "metadata": {
        "colab": {
          "base_uri": "https://localhost:8080/"
        },
        "id": "Cr87mNnHDLUw",
        "outputId": "bdf681e5-4d91-47c4-8791-4de61d2a9525"
      },
      "source": [
        "df_ratings.columns"
      ],
      "execution_count": 56,
      "outputs": [
        {
          "output_type": "execute_result",
          "data": {
            "text/plain": [
              "Index(['contextId', 'itemId', 'rating', 'userId', 'context'], dtype='object')"
            ]
          },
          "metadata": {
            "tags": []
          },
          "execution_count": 56
        }
      ]
    },
    {
      "cell_type": "code",
      "metadata": {
        "colab": {
          "base_uri": "https://localhost:8080/"
        },
        "id": "2zGoTvN9DZ-0",
        "outputId": "f31bdb78-5e7c-4a03-9c9c-9f4f7fa259f9"
      },
      "source": [
        "df_items.columns"
      ],
      "execution_count": 57,
      "outputs": [
        {
          "output_type": "execute_result",
          "data": {
            "text/plain": [
              "Index(['itemId', 'itemDesc', 'item1', 'item2', 'item3', 'item4', 'item5',\n",
              "       'item6', 'item7', 'item8', 'cat'],\n",
              "      dtype='object')"
            ]
          },
          "metadata": {
            "tags": []
          },
          "execution_count": 57
        }
      ]
    },
    {
      "cell_type": "markdown",
      "metadata": {
        "id": "mHFxiXFftHVG"
      },
      "source": [
        "Q- Add a column called item_cat having item category "
      ]
    },
    {
      "cell_type": "code",
      "metadata": {
        "colab": {
          "base_uri": "https://localhost:8080/",
          "height": 571
        },
        "id": "l4481kkzp6r4",
        "outputId": "9a6539ea-601b-4d42-ade6-b5b518071ed2"
      },
      "source": [
        "df_ratings['item_cat'] = df_ratings['itemId'].replace(df_items['item_category'])"
      ],
      "execution_count": 58,
      "outputs": [
        {
          "output_type": "error",
          "ename": "KeyError",
          "evalue": "ignored",
          "traceback": [
            "\u001b[0;31m---------------------------------------------------------------------------\u001b[0m",
            "\u001b[0;31mKeyError\u001b[0m                                  Traceback (most recent call last)",
            "\u001b[0;32m/usr/local/lib/python3.6/dist-packages/pandas/core/indexes/base.py\u001b[0m in \u001b[0;36mget_loc\u001b[0;34m(self, key, method, tolerance)\u001b[0m\n\u001b[1;32m   2897\u001b[0m             \u001b[0;32mtry\u001b[0m\u001b[0;34m:\u001b[0m\u001b[0;34m\u001b[0m\u001b[0;34m\u001b[0m\u001b[0m\n\u001b[0;32m-> 2898\u001b[0;31m                 \u001b[0;32mreturn\u001b[0m \u001b[0mself\u001b[0m\u001b[0;34m.\u001b[0m\u001b[0m_engine\u001b[0m\u001b[0;34m.\u001b[0m\u001b[0mget_loc\u001b[0m\u001b[0;34m(\u001b[0m\u001b[0mcasted_key\u001b[0m\u001b[0;34m)\u001b[0m\u001b[0;34m\u001b[0m\u001b[0;34m\u001b[0m\u001b[0m\n\u001b[0m\u001b[1;32m   2899\u001b[0m             \u001b[0;32mexcept\u001b[0m \u001b[0mKeyError\u001b[0m \u001b[0;32mas\u001b[0m \u001b[0merr\u001b[0m\u001b[0;34m:\u001b[0m\u001b[0;34m\u001b[0m\u001b[0;34m\u001b[0m\u001b[0m\n",
            "\u001b[0;32mpandas/_libs/index.pyx\u001b[0m in \u001b[0;36mpandas._libs.index.IndexEngine.get_loc\u001b[0;34m()\u001b[0m\n",
            "\u001b[0;32mpandas/_libs/index.pyx\u001b[0m in \u001b[0;36mpandas._libs.index.IndexEngine.get_loc\u001b[0;34m()\u001b[0m\n",
            "\u001b[0;32mpandas/_libs/hashtable_class_helper.pxi\u001b[0m in \u001b[0;36mpandas._libs.hashtable.PyObjectHashTable.get_item\u001b[0;34m()\u001b[0m\n",
            "\u001b[0;32mpandas/_libs/hashtable_class_helper.pxi\u001b[0m in \u001b[0;36mpandas._libs.hashtable.PyObjectHashTable.get_item\u001b[0;34m()\u001b[0m\n",
            "\u001b[0;31mKeyError\u001b[0m: 'item_category'",
            "\nThe above exception was the direct cause of the following exception:\n",
            "\u001b[0;31mKeyError\u001b[0m                                  Traceback (most recent call last)",
            "\u001b[0;32m<ipython-input-58-46be382ecbe7>\u001b[0m in \u001b[0;36m<module>\u001b[0;34m()\u001b[0m\n\u001b[0;32m----> 1\u001b[0;31m \u001b[0mdf_ratings\u001b[0m\u001b[0;34m[\u001b[0m\u001b[0;34m'item_cat'\u001b[0m\u001b[0;34m]\u001b[0m \u001b[0;34m=\u001b[0m \u001b[0mdf_ratings\u001b[0m\u001b[0;34m[\u001b[0m\u001b[0;34m'itemId'\u001b[0m\u001b[0;34m]\u001b[0m\u001b[0;34m.\u001b[0m\u001b[0mreplace\u001b[0m\u001b[0;34m(\u001b[0m\u001b[0mdf_items\u001b[0m\u001b[0;34m[\u001b[0m\u001b[0;34m'item_category'\u001b[0m\u001b[0;34m]\u001b[0m\u001b[0;34m)\u001b[0m\u001b[0;34m\u001b[0m\u001b[0;34m\u001b[0m\u001b[0m\n\u001b[0m",
            "\u001b[0;32m/usr/local/lib/python3.6/dist-packages/pandas/core/frame.py\u001b[0m in \u001b[0;36m__getitem__\u001b[0;34m(self, key)\u001b[0m\n\u001b[1;32m   2904\u001b[0m             \u001b[0;32mif\u001b[0m \u001b[0mself\u001b[0m\u001b[0;34m.\u001b[0m\u001b[0mcolumns\u001b[0m\u001b[0;34m.\u001b[0m\u001b[0mnlevels\u001b[0m \u001b[0;34m>\u001b[0m \u001b[0;36m1\u001b[0m\u001b[0;34m:\u001b[0m\u001b[0;34m\u001b[0m\u001b[0;34m\u001b[0m\u001b[0m\n\u001b[1;32m   2905\u001b[0m                 \u001b[0;32mreturn\u001b[0m \u001b[0mself\u001b[0m\u001b[0;34m.\u001b[0m\u001b[0m_getitem_multilevel\u001b[0m\u001b[0;34m(\u001b[0m\u001b[0mkey\u001b[0m\u001b[0;34m)\u001b[0m\u001b[0;34m\u001b[0m\u001b[0;34m\u001b[0m\u001b[0m\n\u001b[0;32m-> 2906\u001b[0;31m             \u001b[0mindexer\u001b[0m \u001b[0;34m=\u001b[0m \u001b[0mself\u001b[0m\u001b[0;34m.\u001b[0m\u001b[0mcolumns\u001b[0m\u001b[0;34m.\u001b[0m\u001b[0mget_loc\u001b[0m\u001b[0;34m(\u001b[0m\u001b[0mkey\u001b[0m\u001b[0;34m)\u001b[0m\u001b[0;34m\u001b[0m\u001b[0;34m\u001b[0m\u001b[0m\n\u001b[0m\u001b[1;32m   2907\u001b[0m             \u001b[0;32mif\u001b[0m \u001b[0mis_integer\u001b[0m\u001b[0;34m(\u001b[0m\u001b[0mindexer\u001b[0m\u001b[0;34m)\u001b[0m\u001b[0;34m:\u001b[0m\u001b[0;34m\u001b[0m\u001b[0;34m\u001b[0m\u001b[0m\n\u001b[1;32m   2908\u001b[0m                 \u001b[0mindexer\u001b[0m \u001b[0;34m=\u001b[0m \u001b[0;34m[\u001b[0m\u001b[0mindexer\u001b[0m\u001b[0;34m]\u001b[0m\u001b[0;34m\u001b[0m\u001b[0;34m\u001b[0m\u001b[0m\n",
            "\u001b[0;32m/usr/local/lib/python3.6/dist-packages/pandas/core/indexes/base.py\u001b[0m in \u001b[0;36mget_loc\u001b[0;34m(self, key, method, tolerance)\u001b[0m\n\u001b[1;32m   2898\u001b[0m                 \u001b[0;32mreturn\u001b[0m \u001b[0mself\u001b[0m\u001b[0;34m.\u001b[0m\u001b[0m_engine\u001b[0m\u001b[0;34m.\u001b[0m\u001b[0mget_loc\u001b[0m\u001b[0;34m(\u001b[0m\u001b[0mcasted_key\u001b[0m\u001b[0;34m)\u001b[0m\u001b[0;34m\u001b[0m\u001b[0;34m\u001b[0m\u001b[0m\n\u001b[1;32m   2899\u001b[0m             \u001b[0;32mexcept\u001b[0m \u001b[0mKeyError\u001b[0m \u001b[0;32mas\u001b[0m \u001b[0merr\u001b[0m\u001b[0;34m:\u001b[0m\u001b[0;34m\u001b[0m\u001b[0;34m\u001b[0m\u001b[0m\n\u001b[0;32m-> 2900\u001b[0;31m                 \u001b[0;32mraise\u001b[0m \u001b[0mKeyError\u001b[0m\u001b[0;34m(\u001b[0m\u001b[0mkey\u001b[0m\u001b[0;34m)\u001b[0m \u001b[0;32mfrom\u001b[0m \u001b[0merr\u001b[0m\u001b[0;34m\u001b[0m\u001b[0;34m\u001b[0m\u001b[0m\n\u001b[0m\u001b[1;32m   2901\u001b[0m \u001b[0;34m\u001b[0m\u001b[0m\n\u001b[1;32m   2902\u001b[0m         \u001b[0;32mif\u001b[0m \u001b[0mtolerance\u001b[0m \u001b[0;32mis\u001b[0m \u001b[0;32mnot\u001b[0m \u001b[0;32mNone\u001b[0m\u001b[0;34m:\u001b[0m\u001b[0;34m\u001b[0m\u001b[0;34m\u001b[0m\u001b[0m\n",
            "\u001b[0;31mKeyError\u001b[0m: 'item_category'"
          ]
        }
      ]
    },
    {
      "cell_type": "markdown",
      "metadata": {
        "id": "xbceafVVtcjp"
      },
      "source": [
        "Q- Plot a boxplot between rating and item_cat"
      ]
    },
    {
      "cell_type": "code",
      "metadata": {
        "id": "hZL1VesetedM"
      },
      "source": [
        ""
      ],
      "execution_count": null,
      "outputs": []
    },
    {
      "cell_type": "markdown",
      "metadata": {
        "id": "LyMJ5GGKtkI5"
      },
      "source": [
        "### 3.3 User Preferences Data"
      ]
    },
    {
      "cell_type": "markdown",
      "metadata": {
        "id": "rw8r56d7tpbI"
      },
      "source": [
        "Q- Check info and shape of the user_preferences data"
      ]
    },
    {
      "cell_type": "code",
      "metadata": {
        "colab": {
          "base_uri": "https://localhost:8080/"
        },
        "id": "a7uKkhiftmDD",
        "outputId": "5094c298-7fdf-4e78-d7e5-2988f5be8b15"
      },
      "source": [
        "df_users.info()"
      ],
      "execution_count": 59,
      "outputs": [
        {
          "output_type": "stream",
          "text": [
            "<class 'pandas.core.frame.DataFrame'>\n",
            "RangeIndex: 2152 entries, 0 to 2151\n",
            "Data columns (total 51 columns):\n",
            " #   Column            Non-Null Count  Dtype\n",
            "---  ------            --------------  -----\n",
            " 0   contextId         2152 non-null   int64\n",
            " 1   age               2152 non-null   int64\n",
            " 2   man               2152 non-null   int64\n",
            " 3   woman             2152 non-null   int64\n",
            " 4   SPC1              2152 non-null   int64\n",
            " 5   SPC2              2152 non-null   int64\n",
            " 6   SPC3              2152 non-null   int64\n",
            " 7   SPC4              2152 non-null   int64\n",
            " 8   SPC5              2152 non-null   int64\n",
            " 9   SPC6              2152 non-null   int64\n",
            " 10  SPC7              2152 non-null   int64\n",
            " 11  SPC8              2152 non-null   int64\n",
            " 12  SPC9              2152 non-null   int64\n",
            " 13  SPC10             2152 non-null   int64\n",
            " 14  SPC11             2152 non-null   int64\n",
            " 15  SPC12             2152 non-null   int64\n",
            " 16  SPC13             2152 non-null   int64\n",
            " 17  userSpecialty1    2152 non-null   int64\n",
            " 18  userSpecialty2    2152 non-null   int64\n",
            " 19  userSpecialty3    2152 non-null   int64\n",
            " 20  userSpecialty4    2152 non-null   int64\n",
            " 21  userSpecialty5    2152 non-null   int64\n",
            " 22  userSpecialty6    2152 non-null   int64\n",
            " 23  userSpecialty7    2152 non-null   int64\n",
            " 24  userSpecialty8    2152 non-null   int64\n",
            " 25  userSpecialty9    2152 non-null   int64\n",
            " 26  userSpecialty10   2152 non-null   int64\n",
            " 27  userSpecialty11   2152 non-null   int64\n",
            " 28  userSpecialty12   2152 non-null   int64\n",
            " 29  userSpecialty13   2152 non-null   int64\n",
            " 30  userPreference1   2152 non-null   int64\n",
            " 31  userPreference2   2152 non-null   int64\n",
            " 32  userPreference3   2152 non-null   int64\n",
            " 33  userPreference4   2152 non-null   int64\n",
            " 34  userPreference5   2152 non-null   int64\n",
            " 35  userPreference6   2152 non-null   int64\n",
            " 36  userPreference7   2152 non-null   int64\n",
            " 37  userPreference8   2152 non-null   int64\n",
            " 38  userPreference9   2152 non-null   int64\n",
            " 39  userPreference10  2152 non-null   int64\n",
            " 40  userHighDegree1   2152 non-null   int64\n",
            " 41  userHighDegree2   2152 non-null   int64\n",
            " 42  userHighDegree3   2152 non-null   int64\n",
            " 43  userHighDegree4   2152 non-null   int64\n",
            " 44  userHighDegree5   2152 non-null   int64\n",
            " 45  userHighDegree6   2152 non-null   int64\n",
            " 46  userHighDegree7   2152 non-null   int64\n",
            " 47  userHighDegree8   2152 non-null   int64\n",
            " 48  weatherSeason1    2152 non-null   int64\n",
            " 49  weatherSeason2    2152 non-null   int64\n",
            " 50  userId            2152 non-null   int64\n",
            "dtypes: int64(51)\n",
            "memory usage: 857.6 KB\n"
          ],
          "name": "stdout"
        }
      ]
    },
    {
      "cell_type": "code",
      "metadata": {
        "colab": {
          "base_uri": "https://localhost:8080/"
        },
        "id": "oqHu4wJWt3bn",
        "outputId": "2b44eba4-6ff8-406c-8f20-73f6c33b0a7b"
      },
      "source": [
        "df_users.shape"
      ],
      "execution_count": 60,
      "outputs": [
        {
          "output_type": "execute_result",
          "data": {
            "text/plain": [
              "(2152, 51)"
            ]
          },
          "metadata": {
            "tags": []
          },
          "execution_count": 60
        }
      ]
    },
    {
      "cell_type": "markdown",
      "metadata": {
        "id": "VuabhQHHuV5Q"
      },
      "source": [
        "Q- Check the frequency distribution of \"man\" column"
      ]
    },
    {
      "cell_type": "code",
      "metadata": {
        "colab": {
          "base_uri": "https://localhost:8080/"
        },
        "id": "FsqA6rJiuEFo",
        "outputId": "d1cf349a-3fa2-49c2-9123-df0df5cbae95"
      },
      "source": [
        "df_users['man'].value_counts()"
      ],
      "execution_count": 61,
      "outputs": [
        {
          "output_type": "execute_result",
          "data": {
            "text/plain": [
              "1    1302\n",
              "0     850\n",
              "Name: man, dtype: int64"
            ]
          },
          "metadata": {
            "tags": []
          },
          "execution_count": 61
        }
      ]
    },
    {
      "cell_type": "code",
      "metadata": {
        "colab": {
          "base_uri": "https://localhost:8080/",
          "height": 497
        },
        "id": "2lMrNb1Numjj",
        "outputId": "b1e18bd8-7098-4b90-a099-047a541c12d9"
      },
      "source": [
        "df_users['man'].value_counts().plot(kind='bar')"
      ],
      "execution_count": 62,
      "outputs": [
        {
          "output_type": "execute_result",
          "data": {
            "text/plain": [
              "<matplotlib.axes._subplots.AxesSubplot at 0x7fd4251ff0f0>"
            ]
          },
          "metadata": {
            "tags": []
          },
          "execution_count": 62
        },
        {
          "output_type": "display_data",
          "data": {
            "image/png": "[encoded data removed]",
            "text/plain": [
              "<Figure size 720x576 with 1 Axes>"
            ]
          },
          "metadata": {
            "tags": [],
            "needs_background": "light"
          }
        }
      ]
    },
    {
      "cell_type": "markdown",
      "metadata": {
        "id": "0ryUOR0hve_z"
      },
      "source": [
        "Q- Check the frequency distribution of \"age\" column"
      ]
    },
    {
      "cell_type": "code",
      "metadata": {
        "colab": {
          "base_uri": "https://localhost:8080/",
          "height": 503
        },
        "id": "XnMgo0Kvvblu",
        "outputId": "6f8be6ec-098e-49e4-95eb-2722e8795b71"
      },
      "source": [
        "df_users['age'].value_counts().plot(kind='bar')"
      ],
      "execution_count": 63,
      "outputs": [
        {
          "output_type": "execute_result",
          "data": {
            "text/plain": [
              "<matplotlib.axes._subplots.AxesSubplot at 0x7fd424e2a358>"
            ]
          },
          "metadata": {
            "tags": []
          },
          "execution_count": 63
        },
        {
          "output_type": "display_data",
          "data": {
            "image/png": "[encoded data removed]",
            "text/plain": [
              "<Figure size 720x576 with 1 Axes>"
            ]
          },
          "metadata": {
            "tags": [],
            "needs_background": "light"
          }
        }
      ]
    },
    {
      "cell_type": "markdown",
      "metadata": {
        "id": "KUcGctkCvoeL"
      },
      "source": [
        "Q- Plot a boxplot between \"man\" and \"age\""
      ]
    },
    {
      "cell_type": "code",
      "metadata": {
        "colab": {
          "base_uri": "https://localhost:8080/",
          "height": 569
        },
        "id": "Fzxa6Mtgvijh",
        "outputId": "b4f95dad-afe5-4640-9846-ffae08f669f4"
      },
      "source": [
        "sns.boxplot(df_users['man'],df_users['age'])"
      ],
      "execution_count": 64,
      "outputs": [
        {
          "output_type": "stream",
          "text": [
            "/usr/local/lib/python3.6/dist-packages/seaborn/_decorators.py:43: FutureWarning: Pass the following variables as keyword args: x, y. From version 0.12, the only valid positional argument will be `data`, and passing other arguments without an explicit keyword will result in an error or misinterpretation.\n",
            "  FutureWarning\n"
          ],
          "name": "stderr"
        },
        {
          "output_type": "execute_result",
          "data": {
            "text/plain": [
              "<matplotlib.axes._subplots.AxesSubplot at 0x7fd424de05f8>"
            ]
          },
          "metadata": {
            "tags": []
          },
          "execution_count": 64
        },
        {
          "output_type": "display_data",
          "data": {
            "image/png": "[encoded data removed]",
            "text/plain": [
              "<Figure size 720x576 with 1 Axes>"
            ]
          },
          "metadata": {
            "tags": [],
            "needs_background": "light"
          }
        }
      ]
    },
    {
      "cell_type": "markdown",
      "metadata": {
        "id": "Nts07V4gwDbk"
      },
      "source": [
        "Q- Drop redundant features like \"woman\", \"contextId\", \"userId\", \"weatherSeason1\""
      ]
    },
    {
      "cell_type": "code",
      "metadata": {
        "id": "NQqnZP6QxKIK"
      },
      "source": [
        "users=df_users.drop(['woman','contextId','userId','weatherSeason1'], axis = 1)"
      ],
      "execution_count": 65,
      "outputs": []
    },
    {
      "cell_type": "markdown",
      "metadata": {
        "id": "5fyAs8WIxq4s"
      },
      "source": [
        "Q- Standardize the age column and keep the remaining column as it is"
      ]
    },
    {
      "cell_type": "code",
      "metadata": {
        "colab": {
          "base_uri": "https://localhost:8080/",
          "height": 222
        },
        "id": "RXkdHbFLxhj1",
        "outputId": "f27d5707-ca1a-4ac1-e222-42f27d84a3bc"
      },
      "source": [
        "from sklearn.preprocessing import StandardScaler\r\n",
        "from sklearn.compose import ColumnTransformer \r\n",
        "\r\n",
        "column_trans = ColumnTransformer([('scaler', StandardScaler(),['age'])], remainder='passthrough') \r\n",
        "data = column_trans.fit_transform(users)\r\n",
        "\r\n",
        "data = pd.DataFrame(data, columns= users.columns)\r\n",
        "data.head()"
      ],
      "execution_count": 66,
      "outputs": [
        {
          "output_type": "execute_result",
          "data": {
            "text/html": [
              "<div>\n",
              "<style scoped>\n",
              "    .dataframe tbody tr th:only-of-type {\n",
              "        vertical-align: middle;\n",
              "    }\n",
              "\n",
              "    .dataframe tbody tr th {\n",
              "        vertical-align: top;\n",
              "    }\n",
              "\n",
              "    .dataframe thead th {\n",
              "        text-align: right;\n",
              "    }\n",
              "</style>\n",
              "<table border=\"1\" class=\"dataframe\">\n",
              "  <thead>\n",
              "    <tr style=\"text-align: right;\">\n",
              "      <th></th>\n",
              "      <th>age</th>\n",
              "      <th>man</th>\n",
              "      <th>SPC1</th>\n",
              "      <th>SPC2</th>\n",
              "      <th>SPC3</th>\n",
              "      <th>SPC4</th>\n",
              "      <th>SPC5</th>\n",
              "      <th>SPC6</th>\n",
              "      <th>SPC7</th>\n",
              "      <th>SPC8</th>\n",
              "      <th>SPC9</th>\n",
              "      <th>SPC10</th>\n",
              "      <th>SPC11</th>\n",
              "      <th>SPC12</th>\n",
              "      <th>SPC13</th>\n",
              "      <th>userSpecialty1</th>\n",
              "      <th>userSpecialty2</th>\n",
              "      <th>userSpecialty3</th>\n",
              "      <th>userSpecialty4</th>\n",
              "      <th>userSpecialty5</th>\n",
              "      <th>userSpecialty6</th>\n",
              "      <th>userSpecialty7</th>\n",
              "      <th>userSpecialty8</th>\n",
              "      <th>userSpecialty9</th>\n",
              "      <th>userSpecialty10</th>\n",
              "      <th>userSpecialty11</th>\n",
              "      <th>userSpecialty12</th>\n",
              "      <th>userSpecialty13</th>\n",
              "      <th>userPreference1</th>\n",
              "      <th>userPreference2</th>\n",
              "      <th>userPreference3</th>\n",
              "      <th>userPreference4</th>\n",
              "      <th>userPreference5</th>\n",
              "      <th>userPreference6</th>\n",
              "      <th>userPreference7</th>\n",
              "      <th>userPreference8</th>\n",
              "      <th>userPreference9</th>\n",
              "      <th>userPreference10</th>\n",
              "      <th>userHighDegree1</th>\n",
              "      <th>userHighDegree2</th>\n",
              "      <th>userHighDegree3</th>\n",
              "      <th>userHighDegree4</th>\n",
              "      <th>userHighDegree5</th>\n",
              "      <th>userHighDegree6</th>\n",
              "      <th>userHighDegree7</th>\n",
              "      <th>userHighDegree8</th>\n",
              "      <th>weatherSeason2</th>\n",
              "    </tr>\n",
              "  </thead>\n",
              "  <tbody>\n",
              "    <tr>\n",
              "      <th>0</th>\n",
              "      <td>0.986618</td>\n",
              "      <td>1.0</td>\n",
              "      <td>0.0</td>\n",
              "      <td>0.0</td>\n",
              "      <td>1.0</td>\n",
              "      <td>0.0</td>\n",
              "      <td>0.0</td>\n",
              "      <td>0.0</td>\n",
              "      <td>0.0</td>\n",
              "      <td>0.0</td>\n",
              "      <td>0.0</td>\n",
              "      <td>0.0</td>\n",
              "      <td>0.0</td>\n",
              "      <td>0.0</td>\n",
              "      <td>0.0</td>\n",
              "      <td>1.0</td>\n",
              "      <td>0.0</td>\n",
              "      <td>0.0</td>\n",
              "      <td>0.0</td>\n",
              "      <td>0.0</td>\n",
              "      <td>0.0</td>\n",
              "      <td>0.0</td>\n",
              "      <td>0.0</td>\n",
              "      <td>1.0</td>\n",
              "      <td>0.0</td>\n",
              "      <td>1.0</td>\n",
              "      <td>0.0</td>\n",
              "      <td>0.0</td>\n",
              "      <td>1.0</td>\n",
              "      <td>1.0</td>\n",
              "      <td>0.0</td>\n",
              "      <td>0.0</td>\n",
              "      <td>0.0</td>\n",
              "      <td>1.0</td>\n",
              "      <td>0.0</td>\n",
              "      <td>0.0</td>\n",
              "      <td>1.0</td>\n",
              "      <td>0.0</td>\n",
              "      <td>0.0</td>\n",
              "      <td>0.0</td>\n",
              "      <td>0.0</td>\n",
              "      <td>0.0</td>\n",
              "      <td>0.0</td>\n",
              "      <td>1.0</td>\n",
              "      <td>0.0</td>\n",
              "      <td>0.0</td>\n",
              "      <td>0.0</td>\n",
              "    </tr>\n",
              "    <tr>\n",
              "      <th>1</th>\n",
              "      <td>0.762297</td>\n",
              "      <td>1.0</td>\n",
              "      <td>0.0</td>\n",
              "      <td>0.0</td>\n",
              "      <td>1.0</td>\n",
              "      <td>0.0</td>\n",
              "      <td>0.0</td>\n",
              "      <td>0.0</td>\n",
              "      <td>0.0</td>\n",
              "      <td>0.0</td>\n",
              "      <td>0.0</td>\n",
              "      <td>0.0</td>\n",
              "      <td>0.0</td>\n",
              "      <td>0.0</td>\n",
              "      <td>0.0</td>\n",
              "      <td>1.0</td>\n",
              "      <td>0.0</td>\n",
              "      <td>0.0</td>\n",
              "      <td>0.0</td>\n",
              "      <td>0.0</td>\n",
              "      <td>0.0</td>\n",
              "      <td>0.0</td>\n",
              "      <td>0.0</td>\n",
              "      <td>0.0</td>\n",
              "      <td>0.0</td>\n",
              "      <td>0.0</td>\n",
              "      <td>0.0</td>\n",
              "      <td>0.0</td>\n",
              "      <td>0.0</td>\n",
              "      <td>1.0</td>\n",
              "      <td>0.0</td>\n",
              "      <td>1.0</td>\n",
              "      <td>0.0</td>\n",
              "      <td>1.0</td>\n",
              "      <td>0.0</td>\n",
              "      <td>1.0</td>\n",
              "      <td>1.0</td>\n",
              "      <td>0.0</td>\n",
              "      <td>0.0</td>\n",
              "      <td>0.0</td>\n",
              "      <td>0.0</td>\n",
              "      <td>0.0</td>\n",
              "      <td>0.0</td>\n",
              "      <td>0.0</td>\n",
              "      <td>1.0</td>\n",
              "      <td>0.0</td>\n",
              "      <td>0.0</td>\n",
              "    </tr>\n",
              "    <tr>\n",
              "      <th>2</th>\n",
              "      <td>1.996064</td>\n",
              "      <td>1.0</td>\n",
              "      <td>0.0</td>\n",
              "      <td>0.0</td>\n",
              "      <td>1.0</td>\n",
              "      <td>0.0</td>\n",
              "      <td>0.0</td>\n",
              "      <td>0.0</td>\n",
              "      <td>0.0</td>\n",
              "      <td>0.0</td>\n",
              "      <td>0.0</td>\n",
              "      <td>0.0</td>\n",
              "      <td>0.0</td>\n",
              "      <td>0.0</td>\n",
              "      <td>0.0</td>\n",
              "      <td>1.0</td>\n",
              "      <td>0.0</td>\n",
              "      <td>0.0</td>\n",
              "      <td>0.0</td>\n",
              "      <td>0.0</td>\n",
              "      <td>0.0</td>\n",
              "      <td>0.0</td>\n",
              "      <td>0.0</td>\n",
              "      <td>1.0</td>\n",
              "      <td>1.0</td>\n",
              "      <td>1.0</td>\n",
              "      <td>0.0</td>\n",
              "      <td>0.0</td>\n",
              "      <td>1.0</td>\n",
              "      <td>1.0</td>\n",
              "      <td>0.0</td>\n",
              "      <td>0.0</td>\n",
              "      <td>1.0</td>\n",
              "      <td>0.0</td>\n",
              "      <td>0.0</td>\n",
              "      <td>0.0</td>\n",
              "      <td>1.0</td>\n",
              "      <td>0.0</td>\n",
              "      <td>0.0</td>\n",
              "      <td>0.0</td>\n",
              "      <td>0.0</td>\n",
              "      <td>0.0</td>\n",
              "      <td>0.0</td>\n",
              "      <td>1.0</td>\n",
              "      <td>0.0</td>\n",
              "      <td>0.0</td>\n",
              "      <td>0.0</td>\n",
              "    </tr>\n",
              "    <tr>\n",
              "      <th>3</th>\n",
              "      <td>0.762297</td>\n",
              "      <td>1.0</td>\n",
              "      <td>0.0</td>\n",
              "      <td>0.0</td>\n",
              "      <td>1.0</td>\n",
              "      <td>0.0</td>\n",
              "      <td>0.0</td>\n",
              "      <td>0.0</td>\n",
              "      <td>0.0</td>\n",
              "      <td>0.0</td>\n",
              "      <td>0.0</td>\n",
              "      <td>0.0</td>\n",
              "      <td>0.0</td>\n",
              "      <td>0.0</td>\n",
              "      <td>0.0</td>\n",
              "      <td>1.0</td>\n",
              "      <td>0.0</td>\n",
              "      <td>0.0</td>\n",
              "      <td>0.0</td>\n",
              "      <td>0.0</td>\n",
              "      <td>0.0</td>\n",
              "      <td>0.0</td>\n",
              "      <td>0.0</td>\n",
              "      <td>1.0</td>\n",
              "      <td>1.0</td>\n",
              "      <td>1.0</td>\n",
              "      <td>0.0</td>\n",
              "      <td>0.0</td>\n",
              "      <td>1.0</td>\n",
              "      <td>0.0</td>\n",
              "      <td>0.0</td>\n",
              "      <td>0.0</td>\n",
              "      <td>1.0</td>\n",
              "      <td>1.0</td>\n",
              "      <td>1.0</td>\n",
              "      <td>0.0</td>\n",
              "      <td>0.0</td>\n",
              "      <td>0.0</td>\n",
              "      <td>0.0</td>\n",
              "      <td>0.0</td>\n",
              "      <td>0.0</td>\n",
              "      <td>0.0</td>\n",
              "      <td>0.0</td>\n",
              "      <td>0.0</td>\n",
              "      <td>1.0</td>\n",
              "      <td>0.0</td>\n",
              "      <td>0.0</td>\n",
              "    </tr>\n",
              "    <tr>\n",
              "      <th>4</th>\n",
              "      <td>2.669029</td>\n",
              "      <td>1.0</td>\n",
              "      <td>0.0</td>\n",
              "      <td>0.0</td>\n",
              "      <td>1.0</td>\n",
              "      <td>0.0</td>\n",
              "      <td>0.0</td>\n",
              "      <td>0.0</td>\n",
              "      <td>0.0</td>\n",
              "      <td>0.0</td>\n",
              "      <td>0.0</td>\n",
              "      <td>0.0</td>\n",
              "      <td>0.0</td>\n",
              "      <td>0.0</td>\n",
              "      <td>0.0</td>\n",
              "      <td>1.0</td>\n",
              "      <td>0.0</td>\n",
              "      <td>0.0</td>\n",
              "      <td>0.0</td>\n",
              "      <td>0.0</td>\n",
              "      <td>0.0</td>\n",
              "      <td>0.0</td>\n",
              "      <td>0.0</td>\n",
              "      <td>0.0</td>\n",
              "      <td>0.0</td>\n",
              "      <td>1.0</td>\n",
              "      <td>0.0</td>\n",
              "      <td>1.0</td>\n",
              "      <td>0.0</td>\n",
              "      <td>0.0</td>\n",
              "      <td>0.0</td>\n",
              "      <td>0.0</td>\n",
              "      <td>1.0</td>\n",
              "      <td>1.0</td>\n",
              "      <td>0.0</td>\n",
              "      <td>0.0</td>\n",
              "      <td>1.0</td>\n",
              "      <td>0.0</td>\n",
              "      <td>0.0</td>\n",
              "      <td>0.0</td>\n",
              "      <td>0.0</td>\n",
              "      <td>0.0</td>\n",
              "      <td>0.0</td>\n",
              "      <td>0.0</td>\n",
              "      <td>1.0</td>\n",
              "      <td>0.0</td>\n",
              "      <td>0.0</td>\n",
              "    </tr>\n",
              "  </tbody>\n",
              "</table>\n",
              "</div>"
            ],
            "text/plain": [
              "        age  man  SPC1  ...  userHighDegree7  userHighDegree8  weatherSeason2\n",
              "0  0.986618  1.0   0.0  ...              0.0              0.0             0.0\n",
              "1  0.762297  1.0   0.0  ...              1.0              0.0             0.0\n",
              "2  1.996064  1.0   0.0  ...              0.0              0.0             0.0\n",
              "3  0.762297  1.0   0.0  ...              1.0              0.0             0.0\n",
              "4  2.669029  1.0   0.0  ...              1.0              0.0             0.0\n",
              "\n",
              "[5 rows x 47 columns]"
            ]
          },
          "metadata": {
            "tags": []
          },
          "execution_count": 66
        }
      ]
    },
    {
      "cell_type": "markdown",
      "metadata": {
        "id": "RQ-db8vlzcTs"
      },
      "source": [
        "import pandas as pd\r\n",
        "from sklearn.preprocessing import StandardScaler \r\n",
        "std_scaler=StandardScaler()\r\n",
        "preference_red[[\"age\"]] = std_scaler.fit_transform(preference_red[[\"age\"]])"
      ]
    },
    {
      "cell_type": "markdown",
      "metadata": {
        "id": "YPv6YEpSzOvG"
      },
      "source": [
        "Q- Replace the columns with the frequency of the value (0,1) instead of value for all the columns having binary values. Columns (age, man, weatherSeason2) remain as it is"
      ]
    },
    {
      "cell_type": "code",
      "metadata": {
        "colab": {
          "base_uri": "https://localhost:8080/"
        },
        "id": "YDp2jtGw2H9V",
        "outputId": "5b4afba5-5382-4944-d2a7-bc7546ef0f1e"
      },
      "source": [
        "data.shape"
      ],
      "execution_count": 67,
      "outputs": [
        {
          "output_type": "execute_result",
          "data": {
            "text/plain": [
              "(2152, 47)"
            ]
          },
          "metadata": {
            "tags": []
          },
          "execution_count": 67
        }
      ]
    },
    {
      "cell_type": "code",
      "metadata": {
        "id": "BLuIp_9fyous"
      },
      "source": [
        "for i in data.columns[2:-1]:\r\n",
        "  freq = ((data.groupby(i).size()) /len(data))\r\n",
        "  data[i] = data[i].apply(lambda x:freq[x])"
      ],
      "execution_count": 68,
      "outputs": []
    },
    {
      "cell_type": "code",
      "metadata": {
        "colab": {
          "base_uri": "https://localhost:8080/",
          "height": 222
        },
        "id": "-iq7Otlf2N8U",
        "outputId": "f6e4efa7-f4ab-49f8-d477-37495a19d540"
      },
      "source": [
        "data.head()"
      ],
      "execution_count": 69,
      "outputs": [
        {
          "output_type": "execute_result",
          "data": {
            "text/html": [
              "<div>\n",
              "<style scoped>\n",
              "    .dataframe tbody tr th:only-of-type {\n",
              "        vertical-align: middle;\n",
              "    }\n",
              "\n",
              "    .dataframe tbody tr th {\n",
              "        vertical-align: top;\n",
              "    }\n",
              "\n",
              "    .dataframe thead th {\n",
              "        text-align: right;\n",
              "    }\n",
              "</style>\n",
              "<table border=\"1\" class=\"dataframe\">\n",
              "  <thead>\n",
              "    <tr style=\"text-align: right;\">\n",
              "      <th></th>\n",
              "      <th>age</th>\n",
              "      <th>man</th>\n",
              "      <th>SPC1</th>\n",
              "      <th>SPC2</th>\n",
              "      <th>SPC3</th>\n",
              "      <th>SPC4</th>\n",
              "      <th>SPC5</th>\n",
              "      <th>SPC6</th>\n",
              "      <th>SPC7</th>\n",
              "      <th>SPC8</th>\n",
              "      <th>SPC9</th>\n",
              "      <th>SPC10</th>\n",
              "      <th>SPC11</th>\n",
              "      <th>SPC12</th>\n",
              "      <th>SPC13</th>\n",
              "      <th>userSpecialty1</th>\n",
              "      <th>userSpecialty2</th>\n",
              "      <th>userSpecialty3</th>\n",
              "      <th>userSpecialty4</th>\n",
              "      <th>userSpecialty5</th>\n",
              "      <th>userSpecialty6</th>\n",
              "      <th>userSpecialty7</th>\n",
              "      <th>userSpecialty8</th>\n",
              "      <th>userSpecialty9</th>\n",
              "      <th>userSpecialty10</th>\n",
              "      <th>userSpecialty11</th>\n",
              "      <th>userSpecialty12</th>\n",
              "      <th>userSpecialty13</th>\n",
              "      <th>userPreference1</th>\n",
              "      <th>userPreference2</th>\n",
              "      <th>userPreference3</th>\n",
              "      <th>userPreference4</th>\n",
              "      <th>userPreference5</th>\n",
              "      <th>userPreference6</th>\n",
              "      <th>userPreference7</th>\n",
              "      <th>userPreference8</th>\n",
              "      <th>userPreference9</th>\n",
              "      <th>userPreference10</th>\n",
              "      <th>userHighDegree1</th>\n",
              "      <th>userHighDegree2</th>\n",
              "      <th>userHighDegree3</th>\n",
              "      <th>userHighDegree4</th>\n",
              "      <th>userHighDegree5</th>\n",
              "      <th>userHighDegree6</th>\n",
              "      <th>userHighDegree7</th>\n",
              "      <th>userHighDegree8</th>\n",
              "      <th>weatherSeason2</th>\n",
              "    </tr>\n",
              "  </thead>\n",
              "  <tbody>\n",
              "    <tr>\n",
              "      <th>0</th>\n",
              "      <td>0.986618</td>\n",
              "      <td>1.0</td>\n",
              "      <td>0.312268</td>\n",
              "      <td>0.999071</td>\n",
              "      <td>0.062268</td>\n",
              "      <td>0.858736</td>\n",
              "      <td>1.0</td>\n",
              "      <td>0.982342</td>\n",
              "      <td>0.991636</td>\n",
              "      <td>0.990706</td>\n",
              "      <td>0.94145</td>\n",
              "      <td>0.998141</td>\n",
              "      <td>0.997212</td>\n",
              "      <td>0.992565</td>\n",
              "      <td>0.998141</td>\n",
              "      <td>0.761152</td>\n",
              "      <td>0.975836</td>\n",
              "      <td>0.94145</td>\n",
              "      <td>0.987918</td>\n",
              "      <td>0.964684</td>\n",
              "      <td>0.889405</td>\n",
              "      <td>0.979554</td>\n",
              "      <td>0.961896</td>\n",
              "      <td>0.369888</td>\n",
              "      <td>0.837361</td>\n",
              "      <td>0.077138</td>\n",
              "      <td>0.986989</td>\n",
              "      <td>0.917286</td>\n",
              "      <td>0.593866</td>\n",
              "      <td>0.655204</td>\n",
              "      <td>0.795539</td>\n",
              "      <td>0.467472</td>\n",
              "      <td>0.593866</td>\n",
              "      <td>0.614312</td>\n",
              "      <td>0.610595</td>\n",
              "      <td>0.83829</td>\n",
              "      <td>0.286245</td>\n",
              "      <td>0.909851</td>\n",
              "      <td>0.997212</td>\n",
              "      <td>0.831784</td>\n",
              "      <td>0.818773</td>\n",
              "      <td>0.806691</td>\n",
              "      <td>0.854089</td>\n",
              "      <td>0.249071</td>\n",
              "      <td>0.960037</td>\n",
              "      <td>0.980483</td>\n",
              "      <td>0.0</td>\n",
              "    </tr>\n",
              "    <tr>\n",
              "      <th>1</th>\n",
              "      <td>0.762297</td>\n",
              "      <td>1.0</td>\n",
              "      <td>0.312268</td>\n",
              "      <td>0.999071</td>\n",
              "      <td>0.062268</td>\n",
              "      <td>0.858736</td>\n",
              "      <td>1.0</td>\n",
              "      <td>0.982342</td>\n",
              "      <td>0.991636</td>\n",
              "      <td>0.990706</td>\n",
              "      <td>0.94145</td>\n",
              "      <td>0.998141</td>\n",
              "      <td>0.997212</td>\n",
              "      <td>0.992565</td>\n",
              "      <td>0.998141</td>\n",
              "      <td>0.761152</td>\n",
              "      <td>0.975836</td>\n",
              "      <td>0.94145</td>\n",
              "      <td>0.987918</td>\n",
              "      <td>0.964684</td>\n",
              "      <td>0.889405</td>\n",
              "      <td>0.979554</td>\n",
              "      <td>0.961896</td>\n",
              "      <td>0.630112</td>\n",
              "      <td>0.837361</td>\n",
              "      <td>0.922862</td>\n",
              "      <td>0.986989</td>\n",
              "      <td>0.917286</td>\n",
              "      <td>0.406134</td>\n",
              "      <td>0.655204</td>\n",
              "      <td>0.795539</td>\n",
              "      <td>0.532528</td>\n",
              "      <td>0.593866</td>\n",
              "      <td>0.614312</td>\n",
              "      <td>0.610595</td>\n",
              "      <td>0.16171</td>\n",
              "      <td>0.286245</td>\n",
              "      <td>0.909851</td>\n",
              "      <td>0.997212</td>\n",
              "      <td>0.831784</td>\n",
              "      <td>0.818773</td>\n",
              "      <td>0.806691</td>\n",
              "      <td>0.854089</td>\n",
              "      <td>0.750929</td>\n",
              "      <td>0.039963</td>\n",
              "      <td>0.980483</td>\n",
              "      <td>0.0</td>\n",
              "    </tr>\n",
              "    <tr>\n",
              "      <th>2</th>\n",
              "      <td>1.996064</td>\n",
              "      <td>1.0</td>\n",
              "      <td>0.312268</td>\n",
              "      <td>0.999071</td>\n",
              "      <td>0.062268</td>\n",
              "      <td>0.858736</td>\n",
              "      <td>1.0</td>\n",
              "      <td>0.982342</td>\n",
              "      <td>0.991636</td>\n",
              "      <td>0.990706</td>\n",
              "      <td>0.94145</td>\n",
              "      <td>0.998141</td>\n",
              "      <td>0.997212</td>\n",
              "      <td>0.992565</td>\n",
              "      <td>0.998141</td>\n",
              "      <td>0.761152</td>\n",
              "      <td>0.975836</td>\n",
              "      <td>0.94145</td>\n",
              "      <td>0.987918</td>\n",
              "      <td>0.964684</td>\n",
              "      <td>0.889405</td>\n",
              "      <td>0.979554</td>\n",
              "      <td>0.961896</td>\n",
              "      <td>0.369888</td>\n",
              "      <td>0.162639</td>\n",
              "      <td>0.077138</td>\n",
              "      <td>0.986989</td>\n",
              "      <td>0.917286</td>\n",
              "      <td>0.593866</td>\n",
              "      <td>0.655204</td>\n",
              "      <td>0.795539</td>\n",
              "      <td>0.467472</td>\n",
              "      <td>0.406134</td>\n",
              "      <td>0.385688</td>\n",
              "      <td>0.610595</td>\n",
              "      <td>0.83829</td>\n",
              "      <td>0.286245</td>\n",
              "      <td>0.909851</td>\n",
              "      <td>0.997212</td>\n",
              "      <td>0.831784</td>\n",
              "      <td>0.818773</td>\n",
              "      <td>0.806691</td>\n",
              "      <td>0.854089</td>\n",
              "      <td>0.249071</td>\n",
              "      <td>0.960037</td>\n",
              "      <td>0.980483</td>\n",
              "      <td>0.0</td>\n",
              "    </tr>\n",
              "    <tr>\n",
              "      <th>3</th>\n",
              "      <td>0.762297</td>\n",
              "      <td>1.0</td>\n",
              "      <td>0.312268</td>\n",
              "      <td>0.999071</td>\n",
              "      <td>0.062268</td>\n",
              "      <td>0.858736</td>\n",
              "      <td>1.0</td>\n",
              "      <td>0.982342</td>\n",
              "      <td>0.991636</td>\n",
              "      <td>0.990706</td>\n",
              "      <td>0.94145</td>\n",
              "      <td>0.998141</td>\n",
              "      <td>0.997212</td>\n",
              "      <td>0.992565</td>\n",
              "      <td>0.998141</td>\n",
              "      <td>0.761152</td>\n",
              "      <td>0.975836</td>\n",
              "      <td>0.94145</td>\n",
              "      <td>0.987918</td>\n",
              "      <td>0.964684</td>\n",
              "      <td>0.889405</td>\n",
              "      <td>0.979554</td>\n",
              "      <td>0.961896</td>\n",
              "      <td>0.369888</td>\n",
              "      <td>0.162639</td>\n",
              "      <td>0.077138</td>\n",
              "      <td>0.986989</td>\n",
              "      <td>0.917286</td>\n",
              "      <td>0.593866</td>\n",
              "      <td>0.344796</td>\n",
              "      <td>0.795539</td>\n",
              "      <td>0.467472</td>\n",
              "      <td>0.406134</td>\n",
              "      <td>0.614312</td>\n",
              "      <td>0.389405</td>\n",
              "      <td>0.83829</td>\n",
              "      <td>0.713755</td>\n",
              "      <td>0.909851</td>\n",
              "      <td>0.997212</td>\n",
              "      <td>0.831784</td>\n",
              "      <td>0.818773</td>\n",
              "      <td>0.806691</td>\n",
              "      <td>0.854089</td>\n",
              "      <td>0.750929</td>\n",
              "      <td>0.039963</td>\n",
              "      <td>0.980483</td>\n",
              "      <td>0.0</td>\n",
              "    </tr>\n",
              "    <tr>\n",
              "      <th>4</th>\n",
              "      <td>2.669029</td>\n",
              "      <td>1.0</td>\n",
              "      <td>0.312268</td>\n",
              "      <td>0.999071</td>\n",
              "      <td>0.062268</td>\n",
              "      <td>0.858736</td>\n",
              "      <td>1.0</td>\n",
              "      <td>0.982342</td>\n",
              "      <td>0.991636</td>\n",
              "      <td>0.990706</td>\n",
              "      <td>0.94145</td>\n",
              "      <td>0.998141</td>\n",
              "      <td>0.997212</td>\n",
              "      <td>0.992565</td>\n",
              "      <td>0.998141</td>\n",
              "      <td>0.761152</td>\n",
              "      <td>0.975836</td>\n",
              "      <td>0.94145</td>\n",
              "      <td>0.987918</td>\n",
              "      <td>0.964684</td>\n",
              "      <td>0.889405</td>\n",
              "      <td>0.979554</td>\n",
              "      <td>0.961896</td>\n",
              "      <td>0.630112</td>\n",
              "      <td>0.837361</td>\n",
              "      <td>0.077138</td>\n",
              "      <td>0.986989</td>\n",
              "      <td>0.082714</td>\n",
              "      <td>0.406134</td>\n",
              "      <td>0.344796</td>\n",
              "      <td>0.795539</td>\n",
              "      <td>0.467472</td>\n",
              "      <td>0.406134</td>\n",
              "      <td>0.614312</td>\n",
              "      <td>0.610595</td>\n",
              "      <td>0.83829</td>\n",
              "      <td>0.286245</td>\n",
              "      <td>0.909851</td>\n",
              "      <td>0.997212</td>\n",
              "      <td>0.831784</td>\n",
              "      <td>0.818773</td>\n",
              "      <td>0.806691</td>\n",
              "      <td>0.854089</td>\n",
              "      <td>0.750929</td>\n",
              "      <td>0.039963</td>\n",
              "      <td>0.980483</td>\n",
              "      <td>0.0</td>\n",
              "    </tr>\n",
              "  </tbody>\n",
              "</table>\n",
              "</div>"
            ],
            "text/plain": [
              "        age  man      SPC1  ...  userHighDegree7  userHighDegree8  weatherSeason2\n",
              "0  0.986618  1.0  0.312268  ...         0.960037         0.980483             0.0\n",
              "1  0.762297  1.0  0.312268  ...         0.039963         0.980483             0.0\n",
              "2  1.996064  1.0  0.312268  ...         0.960037         0.980483             0.0\n",
              "3  0.762297  1.0  0.312268  ...         0.039963         0.980483             0.0\n",
              "4  2.669029  1.0  0.312268  ...         0.039963         0.980483             0.0\n",
              "\n",
              "[5 rows x 47 columns]"
            ]
          },
          "metadata": {
            "tags": []
          },
          "execution_count": 69
        }
      ]
    },
    {
      "cell_type": "code",
      "metadata": {
        "id": "Rh9lbld42-wS"
      },
      "source": [
        "##data.drop('SPC2','SPC5', axis=1)"
      ],
      "execution_count": 70,
      "outputs": []
    },
    {
      "cell_type": "markdown",
      "metadata": {
        "id": "G12t-Soz2EJs"
      },
      "source": [
        "Q- Let's apply clustering to see if we can segment users into some clusters given their feature preferences.\r\n",
        "Apply K-means clustering and plot an elbow plot to come up with an appropriate number of clusters"
      ]
    },
    {
      "cell_type": "code",
      "metadata": {
        "id": "PNKK3M-r2ATt"
      },
      "source": [
        "from sklearn.cluster import KMeans\r\n",
        "# Using the elbow method to find the optimal number of clusters\r\n",
        "wcss =[]\r\n",
        "for i in range (1,20):\r\n",
        "    kmeans = KMeans(n_clusters = i, init = 'k-means++', max_iter =300, n_init = 10, random_state = 0)\r\n",
        "    kmeans.fit(data)\r\n",
        "    wcss.append(kmeans.inertia_)\r\n"
      ],
      "execution_count": 71,
      "outputs": []
    },
    {
      "cell_type": "code",
      "metadata": {
        "colab": {
          "base_uri": "https://localhost:8080/",
          "height": 513
        },
        "id": "-oyL1jBQ4Jvc",
        "outputId": "93c4442a-5df3-47aa-ffd9-1d797cb93cb1"
      },
      "source": [
        "plt.plot(range(1,20),wcss)\r\n",
        "plt.title('The Elbow Method')\r\n",
        "plt.xlabel('Number of clusters')\r\n",
        "plt.ylabel('WCSS')\r\n",
        "plt.show()\r\n"
      ],
      "execution_count": 72,
      "outputs": [
        {
          "output_type": "display_data",
          "data": {
            "image/png": "[encoded data removed]",
            "text/plain": [
              "<Figure size 720x576 with 1 Axes>"
            ]
          },
          "metadata": {
            "tags": [],
            "needs_background": "light"
          }
        }
      ]
    },
    {
      "cell_type": "markdown",
      "metadata": {
        "id": "CsLTOtCa4aPS"
      },
      "source": [
        "Q- Check the silhouette score for a few clusters"
      ]
    },
    {
      "cell_type": "code",
      "metadata": {
        "colab": {
          "base_uri": "https://localhost:8080/"
        },
        "id": "TjTGDpMa4W-W",
        "outputId": "f671001e-c7ff-45dd-f957-a3b293aae3fc"
      },
      "source": [
        "from sklearn.metrics import silhouette_score\r\n",
        "\r\n",
        "n_clusters = [2,3,4,5, 6,7,8,9, 10, 11, 12, 15,17]\r\n",
        "\r\n",
        "for K in n_clusters:\r\n",
        "    cluster = KMeans (n_clusters= K, random_state= 10)\r\n",
        "    predict = cluster.fit_predict(data)\r\n",
        "    \r\n",
        "    score = silhouette_score(data, predict, random_state= 10)\r\n",
        "    print (\"For n_clusters = {}, silhouette score is {})\".format(K, score))\r\n"
      ],
      "execution_count": 73,
      "outputs": [
        {
          "output_type": "stream",
          "text": [
            "For n_clusters = 2, silhouette score is 0.3704091139796633)\n",
            "For n_clusters = 3, silhouette score is 0.15973315671894545)\n",
            "For n_clusters = 4, silhouette score is 0.15522824241501837)\n",
            "For n_clusters = 5, silhouette score is 0.14463956992614516)\n",
            "For n_clusters = 6, silhouette score is 0.16807346508738433)\n",
            "For n_clusters = 7, silhouette score is 0.16241574058690872)\n",
            "For n_clusters = 8, silhouette score is 0.16220546729615243)\n",
            "For n_clusters = 9, silhouette score is 0.15117540492122197)\n",
            "For n_clusters = 10, silhouette score is 0.1532529994360831)\n",
            "For n_clusters = 11, silhouette score is 0.15259893077787415)\n",
            "For n_clusters = 12, silhouette score is 0.14103722252867665)\n",
            "For n_clusters = 15, silhouette score is 0.1260833260489657)\n",
            "For n_clusters = 17, silhouette score is 0.12798895919900205)\n"
          ],
          "name": "stdout"
        }
      ]
    },
    {
      "cell_type": "markdown",
      "metadata": {
        "id": "CTHjp86r4023"
      },
      "source": [
        "Q- Fit the cluster using the appropriate K"
      ]
    },
    {
      "cell_type": "code",
      "metadata": {
        "id": "dTBuuZGo4vt5"
      },
      "source": [
        "kmeans = KMeans(n_clusters=2, init='k-means++',max_iter=100)\r\n",
        "kmeans = kmeans.fit(data)"
      ],
      "execution_count": 74,
      "outputs": []
    },
    {
      "cell_type": "markdown",
      "metadata": {
        "id": "tqoLCQKf5xK2"
      },
      "source": [
        "Q- Add the cluster label to the original dataframe"
      ]
    },
    {
      "cell_type": "code",
      "metadata": {
        "id": "aDhrtcR15t6X"
      },
      "source": [
        "df_users['cluster_value']=kmeans.labels_"
      ],
      "execution_count": 75,
      "outputs": []
    },
    {
      "cell_type": "markdown",
      "metadata": {
        "id": "Sdq2nP3K59yc"
      },
      "source": [
        "Q- Check for a few user if they belong to the same cluster or not"
      ]
    },
    {
      "cell_type": "code",
      "metadata": {
        "colab": {
          "base_uri": "https://localhost:8080/",
          "height": 222
        },
        "id": "ULciJbyc57C-",
        "outputId": "9989322e-65aa-499b-ee36-ade3a2219dca"
      },
      "source": [
        "df_users.head(5)"
      ],
      "execution_count": 76,
      "outputs": [
        {
          "output_type": "execute_result",
          "data": {
            "text/html": [
              "<div>\n",
              "<style scoped>\n",
              "    .dataframe tbody tr th:only-of-type {\n",
              "        vertical-align: middle;\n",
              "    }\n",
              "\n",
              "    .dataframe tbody tr th {\n",
              "        vertical-align: top;\n",
              "    }\n",
              "\n",
              "    .dataframe thead th {\n",
              "        text-align: right;\n",
              "    }\n",
              "</style>\n",
              "<table border=\"1\" class=\"dataframe\">\n",
              "  <thead>\n",
              "    <tr style=\"text-align: right;\">\n",
              "      <th></th>\n",
              "      <th>contextId</th>\n",
              "      <th>age</th>\n",
              "      <th>man</th>\n",
              "      <th>woman</th>\n",
              "      <th>SPC1</th>\n",
              "      <th>SPC2</th>\n",
              "      <th>SPC3</th>\n",
              "      <th>SPC4</th>\n",
              "      <th>SPC5</th>\n",
              "      <th>SPC6</th>\n",
              "      <th>SPC7</th>\n",
              "      <th>SPC8</th>\n",
              "      <th>SPC9</th>\n",
              "      <th>SPC10</th>\n",
              "      <th>SPC11</th>\n",
              "      <th>SPC12</th>\n",
              "      <th>SPC13</th>\n",
              "      <th>userSpecialty1</th>\n",
              "      <th>userSpecialty2</th>\n",
              "      <th>userSpecialty3</th>\n",
              "      <th>userSpecialty4</th>\n",
              "      <th>userSpecialty5</th>\n",
              "      <th>userSpecialty6</th>\n",
              "      <th>userSpecialty7</th>\n",
              "      <th>userSpecialty8</th>\n",
              "      <th>userSpecialty9</th>\n",
              "      <th>userSpecialty10</th>\n",
              "      <th>userSpecialty11</th>\n",
              "      <th>userSpecialty12</th>\n",
              "      <th>userSpecialty13</th>\n",
              "      <th>userPreference1</th>\n",
              "      <th>userPreference2</th>\n",
              "      <th>userPreference3</th>\n",
              "      <th>userPreference4</th>\n",
              "      <th>userPreference5</th>\n",
              "      <th>userPreference6</th>\n",
              "      <th>userPreference7</th>\n",
              "      <th>userPreference8</th>\n",
              "      <th>userPreference9</th>\n",
              "      <th>userPreference10</th>\n",
              "      <th>userHighDegree1</th>\n",
              "      <th>userHighDegree2</th>\n",
              "      <th>userHighDegree3</th>\n",
              "      <th>userHighDegree4</th>\n",
              "      <th>userHighDegree5</th>\n",
              "      <th>userHighDegree6</th>\n",
              "      <th>userHighDegree7</th>\n",
              "      <th>userHighDegree8</th>\n",
              "      <th>weatherSeason1</th>\n",
              "      <th>weatherSeason2</th>\n",
              "      <th>userId</th>\n",
              "      <th>cluster_value</th>\n",
              "    </tr>\n",
              "  </thead>\n",
              "  <tbody>\n",
              "    <tr>\n",
              "      <th>0</th>\n",
              "      <td>1</td>\n",
              "      <td>34</td>\n",
              "      <td>1</td>\n",
              "      <td>0</td>\n",
              "      <td>0</td>\n",
              "      <td>0</td>\n",
              "      <td>1</td>\n",
              "      <td>0</td>\n",
              "      <td>0</td>\n",
              "      <td>0</td>\n",
              "      <td>0</td>\n",
              "      <td>0</td>\n",
              "      <td>0</td>\n",
              "      <td>0</td>\n",
              "      <td>0</td>\n",
              "      <td>0</td>\n",
              "      <td>0</td>\n",
              "      <td>1</td>\n",
              "      <td>0</td>\n",
              "      <td>0</td>\n",
              "      <td>0</td>\n",
              "      <td>0</td>\n",
              "      <td>0</td>\n",
              "      <td>0</td>\n",
              "      <td>0</td>\n",
              "      <td>1</td>\n",
              "      <td>0</td>\n",
              "      <td>1</td>\n",
              "      <td>0</td>\n",
              "      <td>0</td>\n",
              "      <td>1</td>\n",
              "      <td>1</td>\n",
              "      <td>0</td>\n",
              "      <td>0</td>\n",
              "      <td>0</td>\n",
              "      <td>1</td>\n",
              "      <td>0</td>\n",
              "      <td>0</td>\n",
              "      <td>1</td>\n",
              "      <td>0</td>\n",
              "      <td>0</td>\n",
              "      <td>0</td>\n",
              "      <td>0</td>\n",
              "      <td>0</td>\n",
              "      <td>0</td>\n",
              "      <td>1</td>\n",
              "      <td>0</td>\n",
              "      <td>0</td>\n",
              "      <td>1</td>\n",
              "      <td>0</td>\n",
              "      <td>1</td>\n",
              "      <td>1</td>\n",
              "    </tr>\n",
              "    <tr>\n",
              "      <th>1</th>\n",
              "      <td>2</td>\n",
              "      <td>32</td>\n",
              "      <td>1</td>\n",
              "      <td>0</td>\n",
              "      <td>0</td>\n",
              "      <td>0</td>\n",
              "      <td>1</td>\n",
              "      <td>0</td>\n",
              "      <td>0</td>\n",
              "      <td>0</td>\n",
              "      <td>0</td>\n",
              "      <td>0</td>\n",
              "      <td>0</td>\n",
              "      <td>0</td>\n",
              "      <td>0</td>\n",
              "      <td>0</td>\n",
              "      <td>0</td>\n",
              "      <td>1</td>\n",
              "      <td>0</td>\n",
              "      <td>0</td>\n",
              "      <td>0</td>\n",
              "      <td>0</td>\n",
              "      <td>0</td>\n",
              "      <td>0</td>\n",
              "      <td>0</td>\n",
              "      <td>0</td>\n",
              "      <td>0</td>\n",
              "      <td>0</td>\n",
              "      <td>0</td>\n",
              "      <td>0</td>\n",
              "      <td>0</td>\n",
              "      <td>1</td>\n",
              "      <td>0</td>\n",
              "      <td>1</td>\n",
              "      <td>0</td>\n",
              "      <td>1</td>\n",
              "      <td>0</td>\n",
              "      <td>1</td>\n",
              "      <td>1</td>\n",
              "      <td>0</td>\n",
              "      <td>0</td>\n",
              "      <td>0</td>\n",
              "      <td>0</td>\n",
              "      <td>0</td>\n",
              "      <td>0</td>\n",
              "      <td>0</td>\n",
              "      <td>1</td>\n",
              "      <td>0</td>\n",
              "      <td>1</td>\n",
              "      <td>0</td>\n",
              "      <td>2</td>\n",
              "      <td>1</td>\n",
              "    </tr>\n",
              "    <tr>\n",
              "      <th>2</th>\n",
              "      <td>3</td>\n",
              "      <td>43</td>\n",
              "      <td>1</td>\n",
              "      <td>0</td>\n",
              "      <td>0</td>\n",
              "      <td>0</td>\n",
              "      <td>1</td>\n",
              "      <td>0</td>\n",
              "      <td>0</td>\n",
              "      <td>0</td>\n",
              "      <td>0</td>\n",
              "      <td>0</td>\n",
              "      <td>0</td>\n",
              "      <td>0</td>\n",
              "      <td>0</td>\n",
              "      <td>0</td>\n",
              "      <td>0</td>\n",
              "      <td>1</td>\n",
              "      <td>0</td>\n",
              "      <td>0</td>\n",
              "      <td>0</td>\n",
              "      <td>0</td>\n",
              "      <td>0</td>\n",
              "      <td>0</td>\n",
              "      <td>0</td>\n",
              "      <td>1</td>\n",
              "      <td>1</td>\n",
              "      <td>1</td>\n",
              "      <td>0</td>\n",
              "      <td>0</td>\n",
              "      <td>1</td>\n",
              "      <td>1</td>\n",
              "      <td>0</td>\n",
              "      <td>0</td>\n",
              "      <td>1</td>\n",
              "      <td>0</td>\n",
              "      <td>0</td>\n",
              "      <td>0</td>\n",
              "      <td>1</td>\n",
              "      <td>0</td>\n",
              "      <td>0</td>\n",
              "      <td>0</td>\n",
              "      <td>0</td>\n",
              "      <td>0</td>\n",
              "      <td>0</td>\n",
              "      <td>1</td>\n",
              "      <td>0</td>\n",
              "      <td>0</td>\n",
              "      <td>1</td>\n",
              "      <td>0</td>\n",
              "      <td>3</td>\n",
              "      <td>1</td>\n",
              "    </tr>\n",
              "    <tr>\n",
              "      <th>3</th>\n",
              "      <td>4</td>\n",
              "      <td>32</td>\n",
              "      <td>1</td>\n",
              "      <td>0</td>\n",
              "      <td>0</td>\n",
              "      <td>0</td>\n",
              "      <td>1</td>\n",
              "      <td>0</td>\n",
              "      <td>0</td>\n",
              "      <td>0</td>\n",
              "      <td>0</td>\n",
              "      <td>0</td>\n",
              "      <td>0</td>\n",
              "      <td>0</td>\n",
              "      <td>0</td>\n",
              "      <td>0</td>\n",
              "      <td>0</td>\n",
              "      <td>1</td>\n",
              "      <td>0</td>\n",
              "      <td>0</td>\n",
              "      <td>0</td>\n",
              "      <td>0</td>\n",
              "      <td>0</td>\n",
              "      <td>0</td>\n",
              "      <td>0</td>\n",
              "      <td>1</td>\n",
              "      <td>1</td>\n",
              "      <td>1</td>\n",
              "      <td>0</td>\n",
              "      <td>0</td>\n",
              "      <td>1</td>\n",
              "      <td>0</td>\n",
              "      <td>0</td>\n",
              "      <td>0</td>\n",
              "      <td>1</td>\n",
              "      <td>1</td>\n",
              "      <td>1</td>\n",
              "      <td>0</td>\n",
              "      <td>0</td>\n",
              "      <td>0</td>\n",
              "      <td>0</td>\n",
              "      <td>0</td>\n",
              "      <td>0</td>\n",
              "      <td>0</td>\n",
              "      <td>0</td>\n",
              "      <td>0</td>\n",
              "      <td>1</td>\n",
              "      <td>0</td>\n",
              "      <td>1</td>\n",
              "      <td>0</td>\n",
              "      <td>4</td>\n",
              "      <td>1</td>\n",
              "    </tr>\n",
              "    <tr>\n",
              "      <th>4</th>\n",
              "      <td>5</td>\n",
              "      <td>49</td>\n",
              "      <td>1</td>\n",
              "      <td>0</td>\n",
              "      <td>0</td>\n",
              "      <td>0</td>\n",
              "      <td>1</td>\n",
              "      <td>0</td>\n",
              "      <td>0</td>\n",
              "      <td>0</td>\n",
              "      <td>0</td>\n",
              "      <td>0</td>\n",
              "      <td>0</td>\n",
              "      <td>0</td>\n",
              "      <td>0</td>\n",
              "      <td>0</td>\n",
              "      <td>0</td>\n",
              "      <td>1</td>\n",
              "      <td>0</td>\n",
              "      <td>0</td>\n",
              "      <td>0</td>\n",
              "      <td>0</td>\n",
              "      <td>0</td>\n",
              "      <td>0</td>\n",
              "      <td>0</td>\n",
              "      <td>0</td>\n",
              "      <td>0</td>\n",
              "      <td>1</td>\n",
              "      <td>0</td>\n",
              "      <td>1</td>\n",
              "      <td>0</td>\n",
              "      <td>0</td>\n",
              "      <td>0</td>\n",
              "      <td>0</td>\n",
              "      <td>1</td>\n",
              "      <td>1</td>\n",
              "      <td>0</td>\n",
              "      <td>0</td>\n",
              "      <td>1</td>\n",
              "      <td>0</td>\n",
              "      <td>0</td>\n",
              "      <td>0</td>\n",
              "      <td>0</td>\n",
              "      <td>0</td>\n",
              "      <td>0</td>\n",
              "      <td>0</td>\n",
              "      <td>1</td>\n",
              "      <td>0</td>\n",
              "      <td>1</td>\n",
              "      <td>0</td>\n",
              "      <td>5</td>\n",
              "      <td>1</td>\n",
              "    </tr>\n",
              "  </tbody>\n",
              "</table>\n",
              "</div>"
            ],
            "text/plain": [
              "   contextId  age  man  ...  weatherSeason2  userId  cluster_value\n",
              "0          1   34    1  ...               0       1              1\n",
              "1          2   32    1  ...               0       2              1\n",
              "2          3   43    1  ...               0       3              1\n",
              "3          4   32    1  ...               0       4              1\n",
              "4          5   49    1  ...               0       5              1\n",
              "\n",
              "[5 rows x 52 columns]"
            ]
          },
          "metadata": {
            "tags": []
          },
          "execution_count": 76
        }
      ]
    },
    {
      "cell_type": "markdown",
      "metadata": {
        "id": "sGiaGH5X6JLz"
      },
      "source": [
        "## 4. Data Preparation"
      ]
    },
    {
      "cell_type": "markdown",
      "metadata": {
        "id": "zvjb3K_G6NKT"
      },
      "source": [
        "Let's merge the datasets into one dataframe now. Item data does not have any additional information.\r\n",
        "We will merge item_rating and user_description."
      ]
    },
    {
      "cell_type": "markdown",
      "metadata": {
        "id": "cySiXPJa6PeD"
      },
      "source": [
        "Q- Drop contextID from the item_ratings"
      ]
    },
    {
      "cell_type": "code",
      "metadata": {
        "colab": {
          "base_uri": "https://localhost:8080/",
          "height": 110
        },
        "id": "i53IqDfNSJVx",
        "outputId": "9158ce50-eb0f-4ba7-862f-e220fd87cd37"
      },
      "source": [
        "df_items.head(2)"
      ],
      "execution_count": 77,
      "outputs": [
        {
          "output_type": "execute_result",
          "data": {
            "text/html": [
              "<div>\n",
              "<style scoped>\n",
              "    .dataframe tbody tr th:only-of-type {\n",
              "        vertical-align: middle;\n",
              "    }\n",
              "\n",
              "    .dataframe tbody tr th {\n",
              "        vertical-align: top;\n",
              "    }\n",
              "\n",
              "    .dataframe thead th {\n",
              "        text-align: right;\n",
              "    }\n",
              "</style>\n",
              "<table border=\"1\" class=\"dataframe\">\n",
              "  <thead>\n",
              "    <tr style=\"text-align: right;\">\n",
              "      <th></th>\n",
              "      <th>itemId</th>\n",
              "      <th>itemDesc</th>\n",
              "      <th>item1</th>\n",
              "      <th>item2</th>\n",
              "      <th>item3</th>\n",
              "      <th>item4</th>\n",
              "      <th>item5</th>\n",
              "      <th>item6</th>\n",
              "      <th>item7</th>\n",
              "      <th>item8</th>\n",
              "      <th>cat</th>\n",
              "    </tr>\n",
              "  </thead>\n",
              "  <tbody>\n",
              "    <tr>\n",
              "      <th>0</th>\n",
              "      <td>1</td>\n",
              "      <td>Various sports activities proposal</td>\n",
              "      <td>1</td>\n",
              "      <td>0</td>\n",
              "      <td>0</td>\n",
              "      <td>0</td>\n",
              "      <td>0</td>\n",
              "      <td>0</td>\n",
              "      <td>0</td>\n",
              "      <td>0</td>\n",
              "      <td>1</td>\n",
              "    </tr>\n",
              "    <tr>\n",
              "      <th>1</th>\n",
              "      <td>2</td>\n",
              "      <td>The results of your favorite sports team</td>\n",
              "      <td>1</td>\n",
              "      <td>0</td>\n",
              "      <td>0</td>\n",
              "      <td>0</td>\n",
              "      <td>0</td>\n",
              "      <td>0</td>\n",
              "      <td>0</td>\n",
              "      <td>0</td>\n",
              "      <td>1</td>\n",
              "    </tr>\n",
              "  </tbody>\n",
              "</table>\n",
              "</div>"
            ],
            "text/plain": [
              "   itemId                                  itemDesc  item1  ...  item7  item8  cat\n",
              "0       1        Various sports activities proposal      1  ...      0      0    1\n",
              "1       2  The results of your favorite sports team      1  ...      0      0    1\n",
              "\n",
              "[2 rows x 11 columns]"
            ]
          },
          "metadata": {
            "tags": []
          },
          "execution_count": 77
        }
      ]
    },
    {
      "cell_type": "code",
      "metadata": {
        "id": "5BaKlzNE6Cq4"
      },
      "source": [
        "df_ratings = df_ratings.drop(['contextId'], axis=1)"
      ],
      "execution_count": 78,
      "outputs": []
    },
    {
      "cell_type": "markdown",
      "metadata": {
        "id": "lx6MOtZm6vxB"
      },
      "source": [
        "Q- Drop columns like 'contextId', 'woman','weatherSeason1' or use the above processed dataframe"
      ]
    },
    {
      "cell_type": "code",
      "metadata": {
        "colab": {
          "base_uri": "https://localhost:8080/",
          "height": 222
        },
        "id": "eGRwnfDD7U0s",
        "outputId": "b649d4b8-0689-4111-ae3b-f40f59165210"
      },
      "source": [
        "data.head(5)"
      ],
      "execution_count": 79,
      "outputs": [
        {
          "output_type": "execute_result",
          "data": {
            "text/html": [
              "<div>\n",
              "<style scoped>\n",
              "    .dataframe tbody tr th:only-of-type {\n",
              "        vertical-align: middle;\n",
              "    }\n",
              "\n",
              "    .dataframe tbody tr th {\n",
              "        vertical-align: top;\n",
              "    }\n",
              "\n",
              "    .dataframe thead th {\n",
              "        text-align: right;\n",
              "    }\n",
              "</style>\n",
              "<table border=\"1\" class=\"dataframe\">\n",
              "  <thead>\n",
              "    <tr style=\"text-align: right;\">\n",
              "      <th></th>\n",
              "      <th>age</th>\n",
              "      <th>man</th>\n",
              "      <th>SPC1</th>\n",
              "      <th>SPC2</th>\n",
              "      <th>SPC3</th>\n",
              "      <th>SPC4</th>\n",
              "      <th>SPC5</th>\n",
              "      <th>SPC6</th>\n",
              "      <th>SPC7</th>\n",
              "      <th>SPC8</th>\n",
              "      <th>SPC9</th>\n",
              "      <th>SPC10</th>\n",
              "      <th>SPC11</th>\n",
              "      <th>SPC12</th>\n",
              "      <th>SPC13</th>\n",
              "      <th>userSpecialty1</th>\n",
              "      <th>userSpecialty2</th>\n",
              "      <th>userSpecialty3</th>\n",
              "      <th>userSpecialty4</th>\n",
              "      <th>userSpecialty5</th>\n",
              "      <th>userSpecialty6</th>\n",
              "      <th>userSpecialty7</th>\n",
              "      <th>userSpecialty8</th>\n",
              "      <th>userSpecialty9</th>\n",
              "      <th>userSpecialty10</th>\n",
              "      <th>userSpecialty11</th>\n",
              "      <th>userSpecialty12</th>\n",
              "      <th>userSpecialty13</th>\n",
              "      <th>userPreference1</th>\n",
              "      <th>userPreference2</th>\n",
              "      <th>userPreference3</th>\n",
              "      <th>userPreference4</th>\n",
              "      <th>userPreference5</th>\n",
              "      <th>userPreference6</th>\n",
              "      <th>userPreference7</th>\n",
              "      <th>userPreference8</th>\n",
              "      <th>userPreference9</th>\n",
              "      <th>userPreference10</th>\n",
              "      <th>userHighDegree1</th>\n",
              "      <th>userHighDegree2</th>\n",
              "      <th>userHighDegree3</th>\n",
              "      <th>userHighDegree4</th>\n",
              "      <th>userHighDegree5</th>\n",
              "      <th>userHighDegree6</th>\n",
              "      <th>userHighDegree7</th>\n",
              "      <th>userHighDegree8</th>\n",
              "      <th>weatherSeason2</th>\n",
              "    </tr>\n",
              "  </thead>\n",
              "  <tbody>\n",
              "    <tr>\n",
              "      <th>0</th>\n",
              "      <td>0.986618</td>\n",
              "      <td>1.0</td>\n",
              "      <td>0.312268</td>\n",
              "      <td>0.999071</td>\n",
              "      <td>0.062268</td>\n",
              "      <td>0.858736</td>\n",
              "      <td>1.0</td>\n",
              "      <td>0.982342</td>\n",
              "      <td>0.991636</td>\n",
              "      <td>0.990706</td>\n",
              "      <td>0.94145</td>\n",
              "      <td>0.998141</td>\n",
              "      <td>0.997212</td>\n",
              "      <td>0.992565</td>\n",
              "      <td>0.998141</td>\n",
              "      <td>0.761152</td>\n",
              "      <td>0.975836</td>\n",
              "      <td>0.94145</td>\n",
              "      <td>0.987918</td>\n",
              "      <td>0.964684</td>\n",
              "      <td>0.889405</td>\n",
              "      <td>0.979554</td>\n",
              "      <td>0.961896</td>\n",
              "      <td>0.369888</td>\n",
              "      <td>0.837361</td>\n",
              "      <td>0.077138</td>\n",
              "      <td>0.986989</td>\n",
              "      <td>0.917286</td>\n",
              "      <td>0.593866</td>\n",
              "      <td>0.655204</td>\n",
              "      <td>0.795539</td>\n",
              "      <td>0.467472</td>\n",
              "      <td>0.593866</td>\n",
              "      <td>0.614312</td>\n",
              "      <td>0.610595</td>\n",
              "      <td>0.83829</td>\n",
              "      <td>0.286245</td>\n",
              "      <td>0.909851</td>\n",
              "      <td>0.997212</td>\n",
              "      <td>0.831784</td>\n",
              "      <td>0.818773</td>\n",
              "      <td>0.806691</td>\n",
              "      <td>0.854089</td>\n",
              "      <td>0.249071</td>\n",
              "      <td>0.960037</td>\n",
              "      <td>0.980483</td>\n",
              "      <td>0.0</td>\n",
              "    </tr>\n",
              "    <tr>\n",
              "      <th>1</th>\n",
              "      <td>0.762297</td>\n",
              "      <td>1.0</td>\n",
              "      <td>0.312268</td>\n",
              "      <td>0.999071</td>\n",
              "      <td>0.062268</td>\n",
              "      <td>0.858736</td>\n",
              "      <td>1.0</td>\n",
              "      <td>0.982342</td>\n",
              "      <td>0.991636</td>\n",
              "      <td>0.990706</td>\n",
              "      <td>0.94145</td>\n",
              "      <td>0.998141</td>\n",
              "      <td>0.997212</td>\n",
              "      <td>0.992565</td>\n",
              "      <td>0.998141</td>\n",
              "      <td>0.761152</td>\n",
              "      <td>0.975836</td>\n",
              "      <td>0.94145</td>\n",
              "      <td>0.987918</td>\n",
              "      <td>0.964684</td>\n",
              "      <td>0.889405</td>\n",
              "      <td>0.979554</td>\n",
              "      <td>0.961896</td>\n",
              "      <td>0.630112</td>\n",
              "      <td>0.837361</td>\n",
              "      <td>0.922862</td>\n",
              "      <td>0.986989</td>\n",
              "      <td>0.917286</td>\n",
              "      <td>0.406134</td>\n",
              "      <td>0.655204</td>\n",
              "      <td>0.795539</td>\n",
              "      <td>0.532528</td>\n",
              "      <td>0.593866</td>\n",
              "      <td>0.614312</td>\n",
              "      <td>0.610595</td>\n",
              "      <td>0.16171</td>\n",
              "      <td>0.286245</td>\n",
              "      <td>0.909851</td>\n",
              "      <td>0.997212</td>\n",
              "      <td>0.831784</td>\n",
              "      <td>0.818773</td>\n",
              "      <td>0.806691</td>\n",
              "      <td>0.854089</td>\n",
              "      <td>0.750929</td>\n",
              "      <td>0.039963</td>\n",
              "      <td>0.980483</td>\n",
              "      <td>0.0</td>\n",
              "    </tr>\n",
              "    <tr>\n",
              "      <th>2</th>\n",
              "      <td>1.996064</td>\n",
              "      <td>1.0</td>\n",
              "      <td>0.312268</td>\n",
              "      <td>0.999071</td>\n",
              "      <td>0.062268</td>\n",
              "      <td>0.858736</td>\n",
              "      <td>1.0</td>\n",
              "      <td>0.982342</td>\n",
              "      <td>0.991636</td>\n",
              "      <td>0.990706</td>\n",
              "      <td>0.94145</td>\n",
              "      <td>0.998141</td>\n",
              "      <td>0.997212</td>\n",
              "      <td>0.992565</td>\n",
              "      <td>0.998141</td>\n",
              "      <td>0.761152</td>\n",
              "      <td>0.975836</td>\n",
              "      <td>0.94145</td>\n",
              "      <td>0.987918</td>\n",
              "      <td>0.964684</td>\n",
              "      <td>0.889405</td>\n",
              "      <td>0.979554</td>\n",
              "      <td>0.961896</td>\n",
              "      <td>0.369888</td>\n",
              "      <td>0.162639</td>\n",
              "      <td>0.077138</td>\n",
              "      <td>0.986989</td>\n",
              "      <td>0.917286</td>\n",
              "      <td>0.593866</td>\n",
              "      <td>0.655204</td>\n",
              "      <td>0.795539</td>\n",
              "      <td>0.467472</td>\n",
              "      <td>0.406134</td>\n",
              "      <td>0.385688</td>\n",
              "      <td>0.610595</td>\n",
              "      <td>0.83829</td>\n",
              "      <td>0.286245</td>\n",
              "      <td>0.909851</td>\n",
              "      <td>0.997212</td>\n",
              "      <td>0.831784</td>\n",
              "      <td>0.818773</td>\n",
              "      <td>0.806691</td>\n",
              "      <td>0.854089</td>\n",
              "      <td>0.249071</td>\n",
              "      <td>0.960037</td>\n",
              "      <td>0.980483</td>\n",
              "      <td>0.0</td>\n",
              "    </tr>\n",
              "    <tr>\n",
              "      <th>3</th>\n",
              "      <td>0.762297</td>\n",
              "      <td>1.0</td>\n",
              "      <td>0.312268</td>\n",
              "      <td>0.999071</td>\n",
              "      <td>0.062268</td>\n",
              "      <td>0.858736</td>\n",
              "      <td>1.0</td>\n",
              "      <td>0.982342</td>\n",
              "      <td>0.991636</td>\n",
              "      <td>0.990706</td>\n",
              "      <td>0.94145</td>\n",
              "      <td>0.998141</td>\n",
              "      <td>0.997212</td>\n",
              "      <td>0.992565</td>\n",
              "      <td>0.998141</td>\n",
              "      <td>0.761152</td>\n",
              "      <td>0.975836</td>\n",
              "      <td>0.94145</td>\n",
              "      <td>0.987918</td>\n",
              "      <td>0.964684</td>\n",
              "      <td>0.889405</td>\n",
              "      <td>0.979554</td>\n",
              "      <td>0.961896</td>\n",
              "      <td>0.369888</td>\n",
              "      <td>0.162639</td>\n",
              "      <td>0.077138</td>\n",
              "      <td>0.986989</td>\n",
              "      <td>0.917286</td>\n",
              "      <td>0.593866</td>\n",
              "      <td>0.344796</td>\n",
              "      <td>0.795539</td>\n",
              "      <td>0.467472</td>\n",
              "      <td>0.406134</td>\n",
              "      <td>0.614312</td>\n",
              "      <td>0.389405</td>\n",
              "      <td>0.83829</td>\n",
              "      <td>0.713755</td>\n",
              "      <td>0.909851</td>\n",
              "      <td>0.997212</td>\n",
              "      <td>0.831784</td>\n",
              "      <td>0.818773</td>\n",
              "      <td>0.806691</td>\n",
              "      <td>0.854089</td>\n",
              "      <td>0.750929</td>\n",
              "      <td>0.039963</td>\n",
              "      <td>0.980483</td>\n",
              "      <td>0.0</td>\n",
              "    </tr>\n",
              "    <tr>\n",
              "      <th>4</th>\n",
              "      <td>2.669029</td>\n",
              "      <td>1.0</td>\n",
              "      <td>0.312268</td>\n",
              "      <td>0.999071</td>\n",
              "      <td>0.062268</td>\n",
              "      <td>0.858736</td>\n",
              "      <td>1.0</td>\n",
              "      <td>0.982342</td>\n",
              "      <td>0.991636</td>\n",
              "      <td>0.990706</td>\n",
              "      <td>0.94145</td>\n",
              "      <td>0.998141</td>\n",
              "      <td>0.997212</td>\n",
              "      <td>0.992565</td>\n",
              "      <td>0.998141</td>\n",
              "      <td>0.761152</td>\n",
              "      <td>0.975836</td>\n",
              "      <td>0.94145</td>\n",
              "      <td>0.987918</td>\n",
              "      <td>0.964684</td>\n",
              "      <td>0.889405</td>\n",
              "      <td>0.979554</td>\n",
              "      <td>0.961896</td>\n",
              "      <td>0.630112</td>\n",
              "      <td>0.837361</td>\n",
              "      <td>0.077138</td>\n",
              "      <td>0.986989</td>\n",
              "      <td>0.082714</td>\n",
              "      <td>0.406134</td>\n",
              "      <td>0.344796</td>\n",
              "      <td>0.795539</td>\n",
              "      <td>0.467472</td>\n",
              "      <td>0.406134</td>\n",
              "      <td>0.614312</td>\n",
              "      <td>0.610595</td>\n",
              "      <td>0.83829</td>\n",
              "      <td>0.286245</td>\n",
              "      <td>0.909851</td>\n",
              "      <td>0.997212</td>\n",
              "      <td>0.831784</td>\n",
              "      <td>0.818773</td>\n",
              "      <td>0.806691</td>\n",
              "      <td>0.854089</td>\n",
              "      <td>0.750929</td>\n",
              "      <td>0.039963</td>\n",
              "      <td>0.980483</td>\n",
              "      <td>0.0</td>\n",
              "    </tr>\n",
              "  </tbody>\n",
              "</table>\n",
              "</div>"
            ],
            "text/plain": [
              "        age  man      SPC1  ...  userHighDegree7  userHighDegree8  weatherSeason2\n",
              "0  0.986618  1.0  0.312268  ...         0.960037         0.980483             0.0\n",
              "1  0.762297  1.0  0.312268  ...         0.039963         0.980483             0.0\n",
              "2  1.996064  1.0  0.312268  ...         0.960037         0.980483             0.0\n",
              "3  0.762297  1.0  0.312268  ...         0.039963         0.980483             0.0\n",
              "4  2.669029  1.0  0.312268  ...         0.039963         0.980483             0.0\n",
              "\n",
              "[5 rows x 47 columns]"
            ]
          },
          "metadata": {
            "tags": []
          },
          "execution_count": 79
        }
      ]
    },
    {
      "cell_type": "markdown",
      "metadata": {
        "id": "huO6kRXW6zqS"
      },
      "source": [
        "Let's make one dataframe having userId, itemId, itemCat, context/weather, user spcs, and user cluster label.\r\n",
        "\r\n",
        "- We dont need df_items dataframe\r\n",
        "- We will join df_ratings (context, itemId, userId, rating) and df_users (spc, cluster label)"
      ]
    },
    {
      "cell_type": "code",
      "metadata": {
        "id": "JH9-tUI-TEfA"
      },
      "source": [
        "user_data = df_users.drop(['contextId','woman','weatherSeason1','weatherSeason2'], axis =1)"
      ],
      "execution_count": 80,
      "outputs": []
    },
    {
      "cell_type": "code",
      "metadata": {
        "colab": {
          "base_uri": "https://localhost:8080/"
        },
        "id": "tlUtHxFhTi2G",
        "outputId": "773c71b9-f617-40c2-92e0-a9109f6022e9"
      },
      "source": [
        "user_data.duplicated()"
      ],
      "execution_count": 81,
      "outputs": [
        {
          "output_type": "execute_result",
          "data": {
            "text/plain": [
              "0       False\n",
              "1       False\n",
              "2       False\n",
              "3       False\n",
              "4       False\n",
              "        ...  \n",
              "2147     True\n",
              "2148     True\n",
              "2149     True\n",
              "2150     True\n",
              "2151     True\n",
              "Length: 2152, dtype: bool"
            ]
          },
          "metadata": {
            "tags": []
          },
          "execution_count": 81
        }
      ]
    },
    {
      "cell_type": "code",
      "metadata": {
        "colab": {
          "base_uri": "https://localhost:8080/",
          "height": 130
        },
        "id": "yi9KM3RIToUn",
        "outputId": "602825a2-da81-4ddf-95b0-95d9f2eded7d"
      },
      "source": [
        "user_data[user_data['userId']==1]"
      ],
      "execution_count": 82,
      "outputs": [
        {
          "output_type": "execute_result",
          "data": {
            "text/html": [
              "<div>\n",
              "<style scoped>\n",
              "    .dataframe tbody tr th:only-of-type {\n",
              "        vertical-align: middle;\n",
              "    }\n",
              "\n",
              "    .dataframe tbody tr th {\n",
              "        vertical-align: top;\n",
              "    }\n",
              "\n",
              "    .dataframe thead th {\n",
              "        text-align: right;\n",
              "    }\n",
              "</style>\n",
              "<table border=\"1\" class=\"dataframe\">\n",
              "  <thead>\n",
              "    <tr style=\"text-align: right;\">\n",
              "      <th></th>\n",
              "      <th>age</th>\n",
              "      <th>man</th>\n",
              "      <th>SPC1</th>\n",
              "      <th>SPC2</th>\n",
              "      <th>SPC3</th>\n",
              "      <th>SPC4</th>\n",
              "      <th>SPC5</th>\n",
              "      <th>SPC6</th>\n",
              "      <th>SPC7</th>\n",
              "      <th>SPC8</th>\n",
              "      <th>SPC9</th>\n",
              "      <th>SPC10</th>\n",
              "      <th>SPC11</th>\n",
              "      <th>SPC12</th>\n",
              "      <th>SPC13</th>\n",
              "      <th>userSpecialty1</th>\n",
              "      <th>userSpecialty2</th>\n",
              "      <th>userSpecialty3</th>\n",
              "      <th>userSpecialty4</th>\n",
              "      <th>userSpecialty5</th>\n",
              "      <th>userSpecialty6</th>\n",
              "      <th>userSpecialty7</th>\n",
              "      <th>userSpecialty8</th>\n",
              "      <th>userSpecialty9</th>\n",
              "      <th>userSpecialty10</th>\n",
              "      <th>userSpecialty11</th>\n",
              "      <th>userSpecialty12</th>\n",
              "      <th>userSpecialty13</th>\n",
              "      <th>userPreference1</th>\n",
              "      <th>userPreference2</th>\n",
              "      <th>userPreference3</th>\n",
              "      <th>userPreference4</th>\n",
              "      <th>userPreference5</th>\n",
              "      <th>userPreference6</th>\n",
              "      <th>userPreference7</th>\n",
              "      <th>userPreference8</th>\n",
              "      <th>userPreference9</th>\n",
              "      <th>userPreference10</th>\n",
              "      <th>userHighDegree1</th>\n",
              "      <th>userHighDegree2</th>\n",
              "      <th>userHighDegree3</th>\n",
              "      <th>userHighDegree4</th>\n",
              "      <th>userHighDegree5</th>\n",
              "      <th>userHighDegree6</th>\n",
              "      <th>userHighDegree7</th>\n",
              "      <th>userHighDegree8</th>\n",
              "      <th>userId</th>\n",
              "      <th>cluster_value</th>\n",
              "    </tr>\n",
              "  </thead>\n",
              "  <tbody>\n",
              "    <tr>\n",
              "      <th>0</th>\n",
              "      <td>34</td>\n",
              "      <td>1</td>\n",
              "      <td>0</td>\n",
              "      <td>0</td>\n",
              "      <td>1</td>\n",
              "      <td>0</td>\n",
              "      <td>0</td>\n",
              "      <td>0</td>\n",
              "      <td>0</td>\n",
              "      <td>0</td>\n",
              "      <td>0</td>\n",
              "      <td>0</td>\n",
              "      <td>0</td>\n",
              "      <td>0</td>\n",
              "      <td>0</td>\n",
              "      <td>1</td>\n",
              "      <td>0</td>\n",
              "      <td>0</td>\n",
              "      <td>0</td>\n",
              "      <td>0</td>\n",
              "      <td>0</td>\n",
              "      <td>0</td>\n",
              "      <td>0</td>\n",
              "      <td>1</td>\n",
              "      <td>0</td>\n",
              "      <td>1</td>\n",
              "      <td>0</td>\n",
              "      <td>0</td>\n",
              "      <td>1</td>\n",
              "      <td>1</td>\n",
              "      <td>0</td>\n",
              "      <td>0</td>\n",
              "      <td>0</td>\n",
              "      <td>1</td>\n",
              "      <td>0</td>\n",
              "      <td>0</td>\n",
              "      <td>1</td>\n",
              "      <td>0</td>\n",
              "      <td>0</td>\n",
              "      <td>0</td>\n",
              "      <td>0</td>\n",
              "      <td>0</td>\n",
              "      <td>0</td>\n",
              "      <td>1</td>\n",
              "      <td>0</td>\n",
              "      <td>0</td>\n",
              "      <td>1</td>\n",
              "      <td>1</td>\n",
              "    </tr>\n",
              "    <tr>\n",
              "      <th>1076</th>\n",
              "      <td>34</td>\n",
              "      <td>1</td>\n",
              "      <td>0</td>\n",
              "      <td>0</td>\n",
              "      <td>1</td>\n",
              "      <td>0</td>\n",
              "      <td>0</td>\n",
              "      <td>0</td>\n",
              "      <td>0</td>\n",
              "      <td>0</td>\n",
              "      <td>0</td>\n",
              "      <td>0</td>\n",
              "      <td>0</td>\n",
              "      <td>0</td>\n",
              "      <td>0</td>\n",
              "      <td>1</td>\n",
              "      <td>0</td>\n",
              "      <td>0</td>\n",
              "      <td>0</td>\n",
              "      <td>0</td>\n",
              "      <td>0</td>\n",
              "      <td>0</td>\n",
              "      <td>0</td>\n",
              "      <td>1</td>\n",
              "      <td>0</td>\n",
              "      <td>1</td>\n",
              "      <td>0</td>\n",
              "      <td>0</td>\n",
              "      <td>1</td>\n",
              "      <td>1</td>\n",
              "      <td>0</td>\n",
              "      <td>0</td>\n",
              "      <td>0</td>\n",
              "      <td>1</td>\n",
              "      <td>0</td>\n",
              "      <td>0</td>\n",
              "      <td>1</td>\n",
              "      <td>0</td>\n",
              "      <td>0</td>\n",
              "      <td>0</td>\n",
              "      <td>0</td>\n",
              "      <td>0</td>\n",
              "      <td>0</td>\n",
              "      <td>1</td>\n",
              "      <td>0</td>\n",
              "      <td>0</td>\n",
              "      <td>1</td>\n",
              "      <td>1</td>\n",
              "    </tr>\n",
              "  </tbody>\n",
              "</table>\n",
              "</div>"
            ],
            "text/plain": [
              "      age  man  SPC1  ...  userHighDegree8  userId  cluster_value\n",
              "0      34    1     0  ...                0       1              1\n",
              "1076   34    1     0  ...                0       1              1\n",
              "\n",
              "[2 rows x 48 columns]"
            ]
          },
          "metadata": {
            "tags": []
          },
          "execution_count": 82
        }
      ]
    },
    {
      "cell_type": "code",
      "metadata": {
        "colab": {
          "base_uri": "https://localhost:8080/"
        },
        "id": "rSAZ-vakUmGr",
        "outputId": "dd1f08ce-e22f-4e07-d795-f6b97eaf1950"
      },
      "source": [
        "user_unique = user_data.drop_duplicates()\r\n",
        "user_unique.shape"
      ],
      "execution_count": 83,
      "outputs": [
        {
          "output_type": "execute_result",
          "data": {
            "text/plain": [
              "(1076, 48)"
            ]
          },
          "metadata": {
            "tags": []
          },
          "execution_count": 83
        }
      ]
    },
    {
      "cell_type": "markdown",
      "metadata": {
        "id": "B5OxiPXO7omb"
      },
      "source": [
        ""
      ]
    },
    {
      "cell_type": "markdown",
      "metadata": {
        "id": "14gdX8RU64ws"
      },
      "source": [
        "Q- Merge ratings dataframe and user dataframe on userId"
      ]
    },
    {
      "cell_type": "code",
      "metadata": {
        "colab": {
          "base_uri": "https://localhost:8080/"
        },
        "id": "CRC70O8RTr-6",
        "outputId": "a555b924-7d62-40ba-960b-3ae4141f8be2"
      },
      "source": [
        "dff = pd.merge(df_ratings, user_unique, how='inner', on='userId')\r\n",
        "dff.shape"
      ],
      "execution_count": 84,
      "outputs": [
        {
          "output_type": "execute_result",
          "data": {
            "text/plain": [
              "(38736, 51)"
            ]
          },
          "metadata": {
            "tags": []
          },
          "execution_count": 84
        }
      ]
    },
    {
      "cell_type": "code",
      "metadata": {
        "id": "Wa-5fA8kaGZW"
      },
      "source": [
        "item_cat = {1: 1,  2:1, 3: 2, 4:2, 5:3, 6:4, 7:5, 8:5, 9:4, 10:6, 11:6, 12:7, 13:7, 14:6, 15:8, 16:8, 17:8, 18:7 }\r\n",
        "df_ratings['item_cat'] = df_ratings['itemId'].replace(item_cat)\r\n"
      ],
      "execution_count": 86,
      "outputs": []
    },
    {
      "cell_type": "code",
      "metadata": {
        "colab": {
          "base_uri": "https://localhost:8080/"
        },
        "id": "06AakJ7cZpuG",
        "outputId": "13d91f31-a52f-4e8a-f9b7-1ede691cbe26"
      },
      "source": [
        "user_unique.columns"
      ],
      "execution_count": 87,
      "outputs": [
        {
          "output_type": "execute_result",
          "data": {
            "text/plain": [
              "Index(['age', 'man', 'SPC1', 'SPC2', 'SPC3', 'SPC4', 'SPC5', 'SPC6', 'SPC7',\n",
              "       'SPC8', 'SPC9', 'SPC10', 'SPC11', 'SPC12', 'SPC13', 'userSpecialty1',\n",
              "       'userSpecialty2', 'userSpecialty3', 'userSpecialty4', 'userSpecialty5',\n",
              "       'userSpecialty6', 'userSpecialty7', 'userSpecialty8', 'userSpecialty9',\n",
              "       'userSpecialty10', 'userSpecialty11', 'userSpecialty12',\n",
              "       'userSpecialty13', 'userPreference1', 'userPreference2',\n",
              "       'userPreference3', 'userPreference4', 'userPreference5',\n",
              "       'userPreference6', 'userPreference7', 'userPreference8',\n",
              "       'userPreference9', 'userPreference10', 'userHighDegree1',\n",
              "       'userHighDegree2', 'userHighDegree3', 'userHighDegree4',\n",
              "       'userHighDegree5', 'userHighDegree6', 'userHighDegree7',\n",
              "       'userHighDegree8', 'userId', 'cluster_value'],\n",
              "      dtype='object')"
            ]
          },
          "metadata": {
            "tags": []
          },
          "execution_count": 87
        }
      ]
    },
    {
      "cell_type": "code",
      "metadata": {
        "colab": {
          "base_uri": "https://localhost:8080/"
        },
        "id": "hD6i9VMkaK1_",
        "outputId": "cf254262-4627-4565-bc36-dc28d56397e0"
      },
      "source": [
        "dff.shape"
      ],
      "execution_count": 88,
      "outputs": [
        {
          "output_type": "execute_result",
          "data": {
            "text/plain": [
              "(38736, 51)"
            ]
          },
          "metadata": {
            "tags": []
          },
          "execution_count": 88
        }
      ]
    },
    {
      "cell_type": "code",
      "metadata": {
        "colab": {
          "base_uri": "https://localhost:8080/"
        },
        "id": "BuAUGpeCaVBO",
        "outputId": "a011a434-5970-4c9a-da8b-baf294364fcc"
      },
      "source": [
        "item_cat = {1: 1,  2:1, 3: 2, 4:2, 5:3, 6:4, 7:5, 8:5, 9:4, 10:6, 11:6, 12:7, 13:7, 14:6, 15:8, 16:8, 17:8, 18:7 }\r\n",
        "df_ratings['item_cat'] = df_ratings['itemId'].replace(item_cat)\r\n",
        "user_data[user_data.duplicated()].shape\r\n",
        "(38736, 52)\r\n"
      ],
      "execution_count": 89,
      "outputs": [
        {
          "output_type": "execute_result",
          "data": {
            "text/plain": [
              "(38736, 52)"
            ]
          },
          "metadata": {
            "tags": []
          },
          "execution_count": 89
        }
      ]
    },
    {
      "cell_type": "code",
      "metadata": {
        "colab": {
          "base_uri": "https://localhost:8080/"
        },
        "id": "i2Bkc4cjacz6",
        "outputId": "d3b665bf-3288-4645-a867-9e1486333ab9"
      },
      "source": [
        "dff = pd.merge(df_ratings, user_unique, how='inner', on='userId')\r\n",
        "dff.shape"
      ],
      "execution_count": 90,
      "outputs": [
        {
          "output_type": "execute_result",
          "data": {
            "text/plain": [
              "(38736, 52)"
            ]
          },
          "metadata": {
            "tags": []
          },
          "execution_count": 90
        }
      ]
    },
    {
      "cell_type": "code",
      "metadata": {
        "colab": {
          "base_uri": "https://localhost:8080/"
        },
        "id": "mkeToaL1afFm",
        "outputId": "db40d54b-2922-4c70-c74f-b96e9f27bf5d"
      },
      "source": [
        "user_unique.columns"
      ],
      "execution_count": 91,
      "outputs": [
        {
          "output_type": "execute_result",
          "data": {
            "text/plain": [
              "Index(['age', 'man', 'SPC1', 'SPC2', 'SPC3', 'SPC4', 'SPC5', 'SPC6', 'SPC7',\n",
              "       'SPC8', 'SPC9', 'SPC10', 'SPC11', 'SPC12', 'SPC13', 'userSpecialty1',\n",
              "       'userSpecialty2', 'userSpecialty3', 'userSpecialty4', 'userSpecialty5',\n",
              "       'userSpecialty6', 'userSpecialty7', 'userSpecialty8', 'userSpecialty9',\n",
              "       'userSpecialty10', 'userSpecialty11', 'userSpecialty12',\n",
              "       'userSpecialty13', 'userPreference1', 'userPreference2',\n",
              "       'userPreference3', 'userPreference4', 'userPreference5',\n",
              "       'userPreference6', 'userPreference7', 'userPreference8',\n",
              "       'userPreference9', 'userPreference10', 'userHighDegree1',\n",
              "       'userHighDegree2', 'userHighDegree3', 'userHighDegree4',\n",
              "       'userHighDegree5', 'userHighDegree6', 'userHighDegree7',\n",
              "       'userHighDegree8', 'userId', 'cluster_value'],\n",
              "      dtype='object')"
            ]
          },
          "metadata": {
            "tags": []
          },
          "execution_count": 91
        }
      ]
    },
    {
      "cell_type": "markdown",
      "metadata": {
        "id": "3JUpZtlqTcwf"
      },
      "source": [
        ""
      ]
    },
    {
      "cell_type": "code",
      "metadata": {
        "id": "w1wJCJgM6zC1",
        "colab": {
          "base_uri": "https://localhost:8080/",
          "height": 130
        },
        "outputId": "8290fea8-1abe-4309-c6d4-8aedd781c3a7"
      },
      "source": [
        "dff.head(2)"
      ],
      "execution_count": 92,
      "outputs": [
        {
          "output_type": "execute_result",
          "data": {
            "text/html": [
              "<div>\n",
              "<style scoped>\n",
              "    .dataframe tbody tr th:only-of-type {\n",
              "        vertical-align: middle;\n",
              "    }\n",
              "\n",
              "    .dataframe tbody tr th {\n",
              "        vertical-align: top;\n",
              "    }\n",
              "\n",
              "    .dataframe thead th {\n",
              "        text-align: right;\n",
              "    }\n",
              "</style>\n",
              "<table border=\"1\" class=\"dataframe\">\n",
              "  <thead>\n",
              "    <tr style=\"text-align: right;\">\n",
              "      <th></th>\n",
              "      <th>itemId</th>\n",
              "      <th>rating</th>\n",
              "      <th>userId</th>\n",
              "      <th>context</th>\n",
              "      <th>item_cat</th>\n",
              "      <th>age</th>\n",
              "      <th>man</th>\n",
              "      <th>SPC1</th>\n",
              "      <th>SPC2</th>\n",
              "      <th>SPC3</th>\n",
              "      <th>SPC4</th>\n",
              "      <th>SPC5</th>\n",
              "      <th>SPC6</th>\n",
              "      <th>SPC7</th>\n",
              "      <th>SPC8</th>\n",
              "      <th>SPC9</th>\n",
              "      <th>SPC10</th>\n",
              "      <th>SPC11</th>\n",
              "      <th>SPC12</th>\n",
              "      <th>SPC13</th>\n",
              "      <th>userSpecialty1</th>\n",
              "      <th>userSpecialty2</th>\n",
              "      <th>userSpecialty3</th>\n",
              "      <th>userSpecialty4</th>\n",
              "      <th>userSpecialty5</th>\n",
              "      <th>userSpecialty6</th>\n",
              "      <th>userSpecialty7</th>\n",
              "      <th>userSpecialty8</th>\n",
              "      <th>userSpecialty9</th>\n",
              "      <th>userSpecialty10</th>\n",
              "      <th>userSpecialty11</th>\n",
              "      <th>userSpecialty12</th>\n",
              "      <th>userSpecialty13</th>\n",
              "      <th>userPreference1</th>\n",
              "      <th>userPreference2</th>\n",
              "      <th>userPreference3</th>\n",
              "      <th>userPreference4</th>\n",
              "      <th>userPreference5</th>\n",
              "      <th>userPreference6</th>\n",
              "      <th>userPreference7</th>\n",
              "      <th>userPreference8</th>\n",
              "      <th>userPreference9</th>\n",
              "      <th>userPreference10</th>\n",
              "      <th>userHighDegree1</th>\n",
              "      <th>userHighDegree2</th>\n",
              "      <th>userHighDegree3</th>\n",
              "      <th>userHighDegree4</th>\n",
              "      <th>userHighDegree5</th>\n",
              "      <th>userHighDegree6</th>\n",
              "      <th>userHighDegree7</th>\n",
              "      <th>userHighDegree8</th>\n",
              "      <th>cluster_value</th>\n",
              "    </tr>\n",
              "  </thead>\n",
              "  <tbody>\n",
              "    <tr>\n",
              "      <th>0</th>\n",
              "      <td>1</td>\n",
              "      <td>1</td>\n",
              "      <td>1</td>\n",
              "      <td>1</td>\n",
              "      <td>1</td>\n",
              "      <td>34</td>\n",
              "      <td>1</td>\n",
              "      <td>0</td>\n",
              "      <td>0</td>\n",
              "      <td>1</td>\n",
              "      <td>0</td>\n",
              "      <td>0</td>\n",
              "      <td>0</td>\n",
              "      <td>0</td>\n",
              "      <td>0</td>\n",
              "      <td>0</td>\n",
              "      <td>0</td>\n",
              "      <td>0</td>\n",
              "      <td>0</td>\n",
              "      <td>0</td>\n",
              "      <td>1</td>\n",
              "      <td>0</td>\n",
              "      <td>0</td>\n",
              "      <td>0</td>\n",
              "      <td>0</td>\n",
              "      <td>0</td>\n",
              "      <td>0</td>\n",
              "      <td>0</td>\n",
              "      <td>1</td>\n",
              "      <td>0</td>\n",
              "      <td>1</td>\n",
              "      <td>0</td>\n",
              "      <td>0</td>\n",
              "      <td>1</td>\n",
              "      <td>1</td>\n",
              "      <td>0</td>\n",
              "      <td>0</td>\n",
              "      <td>0</td>\n",
              "      <td>1</td>\n",
              "      <td>0</td>\n",
              "      <td>0</td>\n",
              "      <td>1</td>\n",
              "      <td>0</td>\n",
              "      <td>0</td>\n",
              "      <td>0</td>\n",
              "      <td>0</td>\n",
              "      <td>0</td>\n",
              "      <td>0</td>\n",
              "      <td>1</td>\n",
              "      <td>0</td>\n",
              "      <td>0</td>\n",
              "      <td>1</td>\n",
              "    </tr>\n",
              "    <tr>\n",
              "      <th>1</th>\n",
              "      <td>2</td>\n",
              "      <td>1</td>\n",
              "      <td>1</td>\n",
              "      <td>1</td>\n",
              "      <td>1</td>\n",
              "      <td>34</td>\n",
              "      <td>1</td>\n",
              "      <td>0</td>\n",
              "      <td>0</td>\n",
              "      <td>1</td>\n",
              "      <td>0</td>\n",
              "      <td>0</td>\n",
              "      <td>0</td>\n",
              "      <td>0</td>\n",
              "      <td>0</td>\n",
              "      <td>0</td>\n",
              "      <td>0</td>\n",
              "      <td>0</td>\n",
              "      <td>0</td>\n",
              "      <td>0</td>\n",
              "      <td>1</td>\n",
              "      <td>0</td>\n",
              "      <td>0</td>\n",
              "      <td>0</td>\n",
              "      <td>0</td>\n",
              "      <td>0</td>\n",
              "      <td>0</td>\n",
              "      <td>0</td>\n",
              "      <td>1</td>\n",
              "      <td>0</td>\n",
              "      <td>1</td>\n",
              "      <td>0</td>\n",
              "      <td>0</td>\n",
              "      <td>1</td>\n",
              "      <td>1</td>\n",
              "      <td>0</td>\n",
              "      <td>0</td>\n",
              "      <td>0</td>\n",
              "      <td>1</td>\n",
              "      <td>0</td>\n",
              "      <td>0</td>\n",
              "      <td>1</td>\n",
              "      <td>0</td>\n",
              "      <td>0</td>\n",
              "      <td>0</td>\n",
              "      <td>0</td>\n",
              "      <td>0</td>\n",
              "      <td>0</td>\n",
              "      <td>1</td>\n",
              "      <td>0</td>\n",
              "      <td>0</td>\n",
              "      <td>1</td>\n",
              "    </tr>\n",
              "  </tbody>\n",
              "</table>\n",
              "</div>"
            ],
            "text/plain": [
              "   itemId  rating  userId  ...  userHighDegree7  userHighDegree8  cluster_value\n",
              "0       1       1       1  ...                0                0              1\n",
              "1       2       1       1  ...                0                0              1\n",
              "\n",
              "[2 rows x 52 columns]"
            ]
          },
          "metadata": {
            "tags": []
          },
          "execution_count": 92
        }
      ]
    },
    {
      "cell_type": "markdown",
      "metadata": {
        "id": "zvMVr0m368R8"
      },
      "source": [
        "Q- Make X and y data. Keep rating in y.\r\n",
        "Drop Ids and ratings from X data"
      ]
    },
    {
      "cell_type": "code",
      "metadata": {
        "id": "V9Ib7pZF68qD"
      },
      "source": [
        "X= dff.drop(['itemId','userId','rating'], axis=1)\r\n",
        "y= dff['rating']"
      ],
      "execution_count": 93,
      "outputs": []
    },
    {
      "cell_type": "code",
      "metadata": {
        "colab": {
          "base_uri": "https://localhost:8080/"
        },
        "id": "a5GeY_ANUSgT",
        "outputId": "8d91de92-2f39-44fd-f888-90a13b01fd5b"
      },
      "source": [
        "y.value_counts()"
      ],
      "execution_count": 94,
      "outputs": [
        {
          "output_type": "execute_result",
          "data": {
            "text/plain": [
              "0    26653\n",
              "1    12083\n",
              "Name: rating, dtype: int64"
            ]
          },
          "metadata": {
            "tags": []
          },
          "execution_count": 94
        }
      ]
    },
    {
      "cell_type": "markdown",
      "metadata": {
        "id": "bYZ3-jvG7t_a"
      },
      "source": [
        "## 5. Model Building - Classification"
      ]
    },
    {
      "cell_type": "code",
      "metadata": {
        "id": "-8BcKQdx7xn6"
      },
      "source": [
        "from sklearn.model_selection import train_test_split\r\n",
        "X_train, X_test, y_train, y_test = train_test_split(X, y, test_size=.30, random_state=100)"
      ],
      "execution_count": 95,
      "outputs": []
    },
    {
      "cell_type": "code",
      "metadata": {
        "colab": {
          "base_uri": "https://localhost:8080/"
        },
        "id": "TJ0AFBQ2bCqU",
        "outputId": "da7fc6f3-37a0-4731-fbc8-0c4467fc7871"
      },
      "source": [
        "from sklearn.tree import DecisionTreeClassifier\r\n",
        "from sklearn import metrics\r\n",
        "from sklearn.metrics import accuracy_score, f1_score, recall_score, precision_score, confusion_matrix\r\n",
        "\r\n",
        "#Model \r\n",
        "model = DecisionTreeClassifier()\r\n",
        "model.fit(X_train, y_train)\r\n",
        "\r\n",
        "#Accuracy\r\n",
        "model_Train = model.score(X_train, y_train)\r\n",
        "model_Test = model.score(X_test, y_test)\r\n",
        "\r\n",
        "Pred = model.predict(X_test)\r\n",
        "Recall = recall_score(y_test,Pred, average=\"binary\",pos_label=1)\r\n",
        "\r\n",
        "print(model_Train)\r\n",
        "print(model_Test)\r\n",
        "print(\"Confusion Matrix:\\n\",metrics.confusion_matrix(y_test,Pred))"
      ],
      "execution_count": 98,
      "outputs": [
        {
          "output_type": "stream",
          "text": [
            "0.881910381707542\n",
            "0.7089751312279494\n",
            "Confusion Matrix:\n",
            " [[6617 1440]\n",
            " [1942 1622]]\n"
          ],
          "name": "stdout"
        }
      ]
    },
    {
      "cell_type": "code",
      "metadata": {
        "colab": {
          "base_uri": "https://localhost:8080/",
          "height": 79
        },
        "id": "RmO2WgjDc3gM",
        "outputId": "cc020733-9ab1-432d-f463-0deb81ca5e75"
      },
      "source": [
        "resultsDf = pd.DataFrame({'Method':['Decision'],'Train Accuracy' : model_Train, 'Test Accuracy' : model_Test, 'Recall' : Recall})\r\n",
        "resultsDf = resultsDf[['Method','Train Accuracy', 'Test Accuracy', 'Recall']]\r\n",
        "resultsDf"
      ],
      "execution_count": 101,
      "outputs": [
        {
          "output_type": "execute_result",
          "data": {
            "text/html": [
              "<div>\n",
              "<style scoped>\n",
              "    .dataframe tbody tr th:only-of-type {\n",
              "        vertical-align: middle;\n",
              "    }\n",
              "\n",
              "    .dataframe tbody tr th {\n",
              "        vertical-align: top;\n",
              "    }\n",
              "\n",
              "    .dataframe thead th {\n",
              "        text-align: right;\n",
              "    }\n",
              "</style>\n",
              "<table border=\"1\" class=\"dataframe\">\n",
              "  <thead>\n",
              "    <tr style=\"text-align: right;\">\n",
              "      <th></th>\n",
              "      <th>Method</th>\n",
              "      <th>Train Accuracy</th>\n",
              "      <th>Test Accuracy</th>\n",
              "      <th>Recall</th>\n",
              "    </tr>\n",
              "  </thead>\n",
              "  <tbody>\n",
              "    <tr>\n",
              "      <th>0</th>\n",
              "      <td>Decision</td>\n",
              "      <td>0.88191</td>\n",
              "      <td>0.708975</td>\n",
              "      <td>0.455107</td>\n",
              "    </tr>\n",
              "  </tbody>\n",
              "</table>\n",
              "</div>"
            ],
            "text/plain": [
              "     Method  Train Accuracy  Test Accuracy    Recall\n",
              "0  Decision         0.88191       0.708975  0.455107"
            ]
          },
          "metadata": {
            "tags": []
          },
          "execution_count": 101
        }
      ]
    },
    {
      "cell_type": "markdown",
      "metadata": {
        "id": "iZiRO1Dp7z4G"
      },
      "source": [
        "## 6. Model Building - Collaborative Filtering"
      ]
    },
    {
      "cell_type": "code",
      "metadata": {
        "colab": {
          "base_uri": "https://localhost:8080/",
          "height": 110
        },
        "id": "Q5BrPsgydv20",
        "outputId": "0bd628b2-d199-4ed8-c494-75d40100de53"
      },
      "source": [
        "df_final = dff[['itemId','userId','context','rating']]\r\n",
        "df_final.head(2)"
      ],
      "execution_count": 102,
      "outputs": [
        {
          "output_type": "execute_result",
          "data": {
            "text/html": [
              "<div>\n",
              "<style scoped>\n",
              "    .dataframe tbody tr th:only-of-type {\n",
              "        vertical-align: middle;\n",
              "    }\n",
              "\n",
              "    .dataframe tbody tr th {\n",
              "        vertical-align: top;\n",
              "    }\n",
              "\n",
              "    .dataframe thead th {\n",
              "        text-align: right;\n",
              "    }\n",
              "</style>\n",
              "<table border=\"1\" class=\"dataframe\">\n",
              "  <thead>\n",
              "    <tr style=\"text-align: right;\">\n",
              "      <th></th>\n",
              "      <th>itemId</th>\n",
              "      <th>userId</th>\n",
              "      <th>context</th>\n",
              "      <th>rating</th>\n",
              "    </tr>\n",
              "  </thead>\n",
              "  <tbody>\n",
              "    <tr>\n",
              "      <th>0</th>\n",
              "      <td>1</td>\n",
              "      <td>1</td>\n",
              "      <td>1</td>\n",
              "      <td>1</td>\n",
              "    </tr>\n",
              "    <tr>\n",
              "      <th>1</th>\n",
              "      <td>2</td>\n",
              "      <td>1</td>\n",
              "      <td>1</td>\n",
              "      <td>1</td>\n",
              "    </tr>\n",
              "  </tbody>\n",
              "</table>\n",
              "</div>"
            ],
            "text/plain": [
              "   itemId  userId  context  rating\n",
              "0       1       1        1       1\n",
              "1       2       1        1       1"
            ]
          },
          "metadata": {
            "tags": []
          },
          "execution_count": 102
        }
      ]
    },
    {
      "cell_type": "code",
      "metadata": {
        "id": "jJ64qlvQeBZR"
      },
      "source": [
        "from surprise import Dataset, Reader\r\n",
        "from surprise import SVD\r\n",
        "from surprise import accuracy\r\n",
        "from surprise.model_selection import train_test_split\r\n",
        "\r\n",
        "reader = Reader(rating_scale=(0, 1))\r\n",
        "\r\n",
        "data = Dataset.load_from_df(df_final[['userId','itemId','rating']],reader)"
      ],
      "execution_count": 106,
      "outputs": []
    },
    {
      "cell_type": "code",
      "metadata": {
        "id": "bHkfYVOtfkjI"
      },
      "source": [
        "#split data to train and test \r\n",
        "from surprise.model_selection import train_test_split\r\n",
        "\r\n",
        "trainset, testset= train_test_split(data, test_size=.3, random_state=123)"
      ],
      "execution_count": 108,
      "outputs": []
    },
    {
      "cell_type": "code",
      "metadata": {
        "id": "VJI8k7CXgASI"
      },
      "source": [
        "svd_model = SVD(n_factors=50, biased=False)\r\n",
        "svd_model.fit(trainset)\r\n",
        "test_pred = svd_model.test(testset)"
      ],
      "execution_count": 109,
      "outputs": []
    },
    {
      "cell_type": "code",
      "metadata": {
        "colab": {
          "base_uri": "https://localhost:8080/"
        },
        "id": "k9sr_Peoglvy",
        "outputId": "f9678eb5-7d97-46e2-d250-1b54c53c9bfb"
      },
      "source": [
        "test_pred[:10]"
      ],
      "execution_count": 110,
      "outputs": [
        {
          "output_type": "execute_result",
          "data": {
            "text/plain": [
              "[Prediction(uid=554, iid=10, r_ui=1.0, est=0.3861677116310816, details={'was_impossible': False}),\n",
              " Prediction(uid=972, iid=17, r_ui=0.0, est=0.17777207784702723, details={'was_impossible': False}),\n",
              " Prediction(uid=293, iid=13, r_ui=0.0, est=0.04445032268126772, details={'was_impossible': False}),\n",
              " Prediction(uid=748, iid=1, r_ui=0.0, est=0.25036095666456937, details={'was_impossible': False}),\n",
              " Prediction(uid=991, iid=8, r_ui=0.0, est=0.31633333493226196, details={'was_impossible': False}),\n",
              " Prediction(uid=460, iid=3, r_ui=1.0, est=0.3500006275563998, details={'was_impossible': False}),\n",
              " Prediction(uid=606, iid=12, r_ui=0.0, est=0.16826306414925038, details={'was_impossible': False}),\n",
              " Prediction(uid=915, iid=18, r_ui=0.0, est=0.19573012664828812, details={'was_impossible': False}),\n",
              " Prediction(uid=362, iid=12, r_ui=0.0, est=0.13629645035703963, details={'was_impossible': False}),\n",
              " Prediction(uid=1047, iid=14, r_ui=0.0, est=0.09739314522972667, details={'was_impossible': False})]"
            ]
          },
          "metadata": {
            "tags": []
          },
          "execution_count": 110
        }
      ]
    },
    {
      "cell_type": "code",
      "metadata": {
        "colab": {
          "base_uri": "https://localhost:8080/",
          "height": 387
        },
        "id": "Jf21zUaaibpt",
        "outputId": "bba5ddcf-ad4d-410c-86cc-4d6e5322e2c4"
      },
      "source": [
        "pred_df= pd.DataFrame(test_pred)\r\n",
        "sns.displot(pred_df['est'])"
      ],
      "execution_count": 114,
      "outputs": [
        {
          "output_type": "execute_result",
          "data": {
            "text/plain": [
              "<seaborn.axisgrid.FacetGrid at 0x7fd41d0cf550>"
            ]
          },
          "metadata": {
            "tags": []
          },
          "execution_count": 114
        },
        {
          "output_type": "display_data",
          "data": {
            "image/png": "[encoded data removed]",
            "text/plain": [
              "<Figure size 360x360 with 1 Axes>"
            ]
          },
          "metadata": {
            "tags": [],
            "needs_background": "light"
          }
        }
      ]
    },
    {
      "cell_type": "code",
      "metadata": {
        "colab": {
          "base_uri": "https://localhost:8080/"
        },
        "id": "Kz7YvgWWhFE1",
        "outputId": "9912043b-47b8-4867-bffd-7ea7fdc9fc49"
      },
      "source": [
        "#Computer RMSE\r\n",
        "accuracy.rmse(test_pred)"
      ],
      "execution_count": 111,
      "outputs": [
        {
          "output_type": "stream",
          "text": [
            "RMSE: 0.4270\n"
          ],
          "name": "stdout"
        },
        {
          "output_type": "execute_result",
          "data": {
            "text/plain": [
              "0.4269580374684274"
            ]
          },
          "metadata": {
            "tags": []
          },
          "execution_count": 111
        }
      ]
    },
    {
      "cell_type": "code",
      "metadata": {
        "colab": {
          "base_uri": "https://localhost:8080/"
        },
        "id": "Ti8zUrRlhpHP",
        "outputId": "ca40a251-2158-4a4d-ea49-62e6befcc416"
      },
      "source": [
        "#compute RMSE\r\n",
        "accuracy.mae(test_pred)"
      ],
      "execution_count": 112,
      "outputs": [
        {
          "output_type": "stream",
          "text": [
            "MAE:  0.3398\n"
          ],
          "name": "stdout"
        },
        {
          "output_type": "execute_result",
          "data": {
            "text/plain": [
              "0.339807351890259"
            ]
          },
          "metadata": {
            "tags": []
          },
          "execution_count": 112
        }
      ]
    },
    {
      "cell_type": "code",
      "metadata": {
        "colab": {
          "base_uri": "https://localhost:8080/"
        },
        "id": "GQf1H0mXhx69",
        "outputId": "86c5b2b8-8f1f-4967-a5a8-8fc850dde7a9"
      },
      "source": [
        "accuracy.fcp(test_pred)"
      ],
      "execution_count": 113,
      "outputs": [
        {
          "output_type": "stream",
          "text": [
            "FCP:  0.6858\n"
          ],
          "name": "stdout"
        },
        {
          "output_type": "execute_result",
          "data": {
            "text/plain": [
              "0.6858010870855761"
            ]
          },
          "metadata": {
            "tags": []
          },
          "execution_count": 113
        }
      ]
    },
    {
      "cell_type": "code",
      "metadata": {
        "colab": {
          "base_uri": "https://localhost:8080/",
          "height": 314
        },
        "id": "VzfK8ebli5ua",
        "outputId": "9fa9f28e-9feb-4cec-99a9-1842687b26ea"
      },
      "source": [
        "from surprise.model_selection import cross_validate, train_test_split\r\n",
        "from surprise import SVD, Dataset, Reader, KNNWithMeans\r\n",
        "benchmark = []\r\n",
        "\r\n",
        "for algorithm in [SVD(), KNNWithMeans(k=20)]:\r\n",
        "  results= cross_validate(algorithm, data, measures=['RMSE'],cv=5,verbose=False)\r\n",
        "\r\n",
        "  tmp = pd.DataFrame.from_dict(results).mean(axis=0)\r\n",
        "  tmp = tmp.append(pd.Series([str(algorithm).split(' ')[0].split('.')[-1]],index=['Algorithm']))\r\n",
        "  benchmark.append(tmp)\r\n",
        "\r\n",
        "pd.DataFrame(benchmark).set_index('Algorithm').sort_values('test_rmse')"
      ],
      "execution_count": 126,
      "outputs": [
        {
          "output_type": "stream",
          "text": [
            "Computing the msd similarity matrix...\n",
            "Done computing similarity matrix.\n",
            "Computing the msd similarity matrix...\n",
            "Done computing similarity matrix.\n",
            "Computing the msd similarity matrix...\n",
            "Done computing similarity matrix.\n",
            "Computing the msd similarity matrix...\n",
            "Done computing similarity matrix.\n",
            "Computing the msd similarity matrix...\n",
            "Done computing similarity matrix.\n"
          ],
          "name": "stdout"
        },
        {
          "output_type": "execute_result",
          "data": {
            "text/html": [
              "<div>\n",
              "<style scoped>\n",
              "    .dataframe tbody tr th:only-of-type {\n",
              "        vertical-align: middle;\n",
              "    }\n",
              "\n",
              "    .dataframe tbody tr th {\n",
              "        vertical-align: top;\n",
              "    }\n",
              "\n",
              "    .dataframe thead th {\n",
              "        text-align: right;\n",
              "    }\n",
              "</style>\n",
              "<table border=\"1\" class=\"dataframe\">\n",
              "  <thead>\n",
              "    <tr style=\"text-align: right;\">\n",
              "      <th></th>\n",
              "      <th>test_rmse</th>\n",
              "      <th>fit_time</th>\n",
              "      <th>test_time</th>\n",
              "    </tr>\n",
              "    <tr>\n",
              "      <th>Algorithm</th>\n",
              "      <th></th>\n",
              "      <th></th>\n",
              "      <th></th>\n",
              "    </tr>\n",
              "  </thead>\n",
              "  <tbody>\n",
              "    <tr>\n",
              "      <th>KNNWithMeans</th>\n",
              "      <td>0.385258</td>\n",
              "      <td>1.187060</td>\n",
              "      <td>8.373416</td>\n",
              "    </tr>\n",
              "    <tr>\n",
              "      <th>SVD</th>\n",
              "      <td>0.414111</td>\n",
              "      <td>1.786036</td>\n",
              "      <td>0.052178</td>\n",
              "    </tr>\n",
              "  </tbody>\n",
              "</table>\n",
              "</div>"
            ],
            "text/plain": [
              "              test_rmse  fit_time  test_time\n",
              "Algorithm                                   \n",
              "KNNWithMeans   0.385258  1.187060   8.373416\n",
              "SVD            0.414111  1.786036   0.052178"
            ]
          },
          "metadata": {
            "tags": []
          },
          "execution_count": 126
        }
      ]
    },
    {
      "cell_type": "markdown",
      "metadata": {
        "id": "dtkIv3UfktKG"
      },
      "source": [
        "## 7. Prediction and Recommendation"
      ]
    },
    {
      "cell_type": "code",
      "metadata": {
        "id": "1mc2FxYquBQg"
      },
      "source": [
        ""
      ],
      "execution_count": null,
      "outputs": []
    },
    {
      "cell_type": "code",
      "metadata": {
        "id": "5b1Y-_WBkxZq"
      },
      "source": [
        "from collections import defaultdict\r\n",
        "\r\n",
        "def get_top_n(predictions, n=10):\r\n",
        "    top_n = defaultdict(list)\r\n",
        "    for uid, iid, true_r, est, _ in predictions:\r\n",
        "        top_n[uid].append((iid, est))\r\n",
        "\r\n",
        "    # Then sort the predictions for each user and retrieve the k highest ones.\r\n",
        "    for uid, user_ratings in top_n.items():\r\n",
        "        user_ratings.sort(key=lambda x: x[1], reverse=True)\r\n",
        "        top_n[uid] = user_ratings[:n]\r\n",
        "\r\n",
        "    return top_n\r\n",
        "\r\n"
      ],
      "execution_count": 117,
      "outputs": []
    },
    {
      "cell_type": "code",
      "metadata": {
        "colab": {
          "base_uri": "https://localhost:8080/"
        },
        "id": "atnDZkUDlxe5",
        "outputId": "c40d372d-2690-483f-94f4-a2ed14a9c080"
      },
      "source": [
        "top_n = get_top_n(test_pred, n=10)\r\n",
        "#print the recommended items for each user\r\n",
        "for uid, user_ratings in top_n.items():\r\n",
        "  print(uid, [iid for (iid, _) in user_ratings])"
      ],
      "execution_count": 118,
      "outputs": [
        {
          "output_type": "stream",
          "text": [
            "554 [10, 7, 7, 11, 5, 18, 18, 3, 16, 16]\n",
            "972 [7, 8, 3, 5, 17, 16, 2, 1, 9]\n",
            "293 [7, 14, 14, 10, 18, 1, 1, 12, 17, 9]\n",
            "748 [7, 10, 3, 11, 13, 12, 1, 4, 17, 9]\n",
            "991 [8, 7, 5, 6, 13, 12, 1, 18, 9, 16]\n",
            "460 [10, 8, 7, 11, 3, 3, 6, 6, 1, 16]\n",
            "606 [7, 7, 6, 5, 5, 13, 1, 16, 2, 2]\n",
            "915 [7, 5, 11, 13, 6, 12, 14, 18, 18, 17]\n",
            "362 [7, 11, 11, 5, 3, 3, 17, 12, 12]\n",
            "1047 [8, 8, 5, 14, 13, 4, 12, 2]\n",
            "1011 [8, 10, 11, 11, 14, 3, 13, 1, 6, 9]\n",
            "768 [7, 11, 3, 3, 6, 6, 5, 14, 9, 9]\n",
            "250 [10, 5, 3, 11, 11, 12, 12, 13, 1, 18]\n",
            "263 [7, 5, 10, 13, 6, 14, 1, 12, 12, 16]\n",
            "612 [7, 12, 5, 17, 17, 14, 9, 4]\n",
            "626 [10, 8, 11, 13, 13, 12, 12, 16, 4, 4]\n",
            "416 [10, 7, 5, 3, 13, 14, 14, 12, 1, 1]\n",
            "834 [8, 7, 6, 11, 10, 13, 12, 1, 1, 18]\n",
            "505 [7, 7, 8, 10, 5, 13, 12, 3, 11, 6]\n",
            "521 [10, 11, 8, 12, 5, 3, 17, 6, 18, 9]\n",
            "665 [7, 8, 5, 9, 18, 18, 17, 6, 3, 14]\n",
            "997 [7, 3, 14, 14, 13, 13, 6, 18, 17, 2]\n",
            "1052 [3, 11, 11, 12, 14, 6, 5, 2, 15]\n",
            "843 [3, 14, 13, 10, 8, 1, 17, 16, 6, 2]\n",
            "137 [10, 11, 13, 13, 6, 3, 12, 12, 1, 2]\n",
            "408 [8, 7, 7, 5, 5, 3, 3, 12, 13, 13]\n",
            "144 [7, 8, 5, 3, 6, 13, 11, 4, 1, 1]\n",
            "218 [7, 8, 10, 18, 6, 2, 11, 1, 3, 4]\n",
            "603 [7, 5, 5, 6, 14, 3, 16, 17, 18, 18]\n",
            "133 [7, 6, 12, 18, 17, 15]\n",
            "963 [10, 8, 11, 14, 9]\n",
            "285 [14, 2, 1, 9, 4, 16, 17, 18]\n",
            "568 [7, 7, 8, 6, 14, 14, 1, 15, 9, 17]\n",
            "425 [7, 10, 3, 5, 1, 4, 16, 18, 6, 15]\n",
            "705 [10, 10, 3, 11, 11, 17, 6, 6, 16, 15]\n",
            "134 [3, 16, 16, 14, 2, 13, 1, 8, 12, 15]\n",
            "110 [8, 7, 7, 6, 3, 3, 1, 1, 18, 16]\n",
            "208 [8, 10, 14, 11, 16, 5, 5, 15, 9, 9]\n",
            "49 [10, 8, 7, 13, 3, 12, 11, 11, 14, 17]\n",
            "645 [1, 7, 10, 5, 6, 17, 4, 8, 14, 14]\n",
            "415 [8, 7, 10, 11, 11, 13, 12, 12, 1, 17]\n",
            "757 [8, 5, 10, 1, 11, 13, 14, 9, 9, 17]\n",
            "320 [8, 7, 12, 18, 18]\n",
            "663 [7, 7, 8, 10, 10, 11, 5, 6, 6, 1]\n",
            "170 [8, 7, 11, 13, 18, 14, 14, 2]\n",
            "641 [3, 3, 4, 12, 12, 7, 1, 14, 6, 11]\n",
            "736 [3, 14, 16, 16, 1, 18, 18, 15, 2]\n",
            "227 [10, 11, 5, 12, 16, 17, 2]\n",
            "702 [7, 3, 6, 6, 5, 12, 14, 1, 1, 18]\n",
            "717 [10, 7, 8, 11, 5, 13, 16, 14, 6, 17]\n",
            "177 [7, 7, 6, 17, 18, 14, 14, 1, 15]\n",
            "749 [10, 13, 5, 5, 11, 12, 1, 16, 16, 17]\n",
            "223 [10, 7, 8, 3, 3, 14, 17, 5, 16, 13]\n",
            "738 [8, 10, 6, 11, 11, 3, 14, 14, 4, 2]\n",
            "954 [10, 7, 13, 3, 5, 12, 6, 6, 18, 4]\n",
            "856 [13, 11, 14, 14, 1, 1, 16, 16, 8, 12]\n",
            "572 [14, 14, 5, 1, 10, 18, 18, 2, 4]\n",
            "894 [8, 8, 10, 10, 5, 6, 11, 14, 1, 16]\n",
            "864 [7, 11, 8, 5, 6, 14, 13, 13, 17, 4]\n",
            "1038 [8, 3, 11, 13, 14, 14, 5, 6, 2, 9]\n",
            "152 [10, 6, 14, 12, 17, 2, 15]\n",
            "648 [14, 11, 2, 1, 17, 18, 15, 15, 8, 9]\n",
            "193 [8, 8, 7, 10, 11, 5, 5, 13, 3, 14]\n",
            "502 [10, 5, 7, 6, 14, 11, 11, 13, 13, 15]\n",
            "96 [10, 7, 7, 11, 3, 12, 6, 5, 18, 15]\n",
            "990 [7, 16, 14, 12, 12, 2, 1, 1, 4, 18]\n",
            "48 [5, 5, 3, 3, 6, 2, 14, 16, 17, 9]\n",
            "484 [8, 10, 11, 2, 1, 12, 4, 16, 16, 15]\n",
            "52 [7, 6, 13, 5, 12, 4, 17, 9, 9, 15]\n",
            "1042 [7, 7, 8, 5, 11, 17, 16, 13, 12, 14]\n",
            "260 [8, 7, 11, 5, 2, 2, 16, 12, 3, 3]\n",
            "873 [8, 7, 7, 11, 5, 13, 14, 12, 16, 4]\n",
            "491 [7, 8, 11, 11, 10, 3, 3, 12, 1, 1]\n",
            "481 [7, 8, 3, 11, 5, 16, 1, 17, 2, 9]\n",
            "153 [7, 7, 10, 10, 5, 3, 3, 6, 1, 2]\n",
            "331 [7, 10, 10, 5, 11, 14, 14, 3, 16, 1]\n",
            "787 [8, 7, 10, 3, 13, 6, 12, 1, 18]\n",
            "1049 [7, 7, 3, 8, 8, 10, 11, 11, 16, 16]\n",
            "202 [7, 8, 3, 5, 11, 11, 14, 14, 2, 12]\n",
            "752 [7, 8, 11, 6, 14, 16, 16]\n",
            "86 [7, 5, 6, 6, 12, 18, 13, 16, 2, 15]\n",
            "634 [14, 14, 13, 13, 7, 5, 18, 2]\n",
            "56 [8, 3, 12, 12, 17, 17, 1, 2, 2, 4]\n",
            "321 [11, 3, 6, 13, 18, 2, 2, 4, 15, 9]\n",
            "27 [7, 7, 10, 10, 5, 12, 11, 14, 1, 16]\n",
            "851 [8, 7, 7, 14, 14, 1, 18, 5, 5, 6]\n",
            "281 [7, 13, 3, 5, 10, 1, 16, 17, 17, 18]\n",
            "730 [7, 5, 13, 11, 1, 17, 18, 2, 15]\n",
            "333 [7, 3, 13, 13, 1, 1, 14, 14, 18, 16]\n",
            "617 [7, 10, 5, 14, 14, 6, 6, 13, 13, 12]\n",
            "545 [7, 11, 13, 5, 3, 3, 14, 1, 18, 2]\n",
            "34 [7, 5, 3, 3, 1, 13, 14, 14, 17, 17]\n",
            "782 [7, 10, 13, 14, 1, 16, 17, 17, 4, 9]\n",
            "527 [7, 12, 11, 11, 3, 17, 18, 9, 4, 15]\n",
            "1031 [7, 5, 6, 12, 12, 15]\n",
            "1017 [7, 7, 11, 11, 13, 14, 18, 4, 4, 16]\n",
            "1007 [7, 10, 3, 5, 6, 13, 2, 16, 1, 11]\n",
            "493 [7, 11, 13, 3, 3, 18, 6, 14, 1, 15]\n",
            "872 [8, 11, 13, 6, 3, 14, 17, 18, 18, 9]\n",
            "116 [7, 3, 8, 13, 5, 16, 4, 1, 9, 15]\n",
            "171 [7, 10, 11, 18, 12]\n",
            "847 [8, 11, 7, 3, 14, 5, 16, 16, 18, 18]\n",
            "62 [10, 3, 5, 17, 14, 14, 18, 18, 1, 12]\n",
            "928 [10, 10, 3, 11, 11, 18, 18, 12, 17, 17]\n",
            "289 [7, 14, 14, 12, 1, 6, 2, 15]\n",
            "971 [8, 8, 10, 5, 3, 13, 6, 14, 1, 16]\n",
            "945 [7, 8, 6, 11, 1, 16, 9, 2]\n",
            "722 [13, 6, 11, 11, 5, 5, 8, 17, 4, 1]\n",
            "919 [10, 3, 11, 12, 8, 17, 18]\n",
            "2 [7, 7, 3, 5, 5, 11, 12, 6, 6, 16]\n",
            "611 [13, 8, 11, 3, 14, 9, 9, 16, 15]\n",
            "697 [13, 13, 5, 11, 12, 14, 16, 16, 4, 1]\n",
            "479 [11, 11, 5, 12, 12, 6, 6, 3, 3, 14]\n",
            "964 [10, 11, 5, 6, 13, 12, 4, 15, 2, 2]\n",
            "1013 [8, 10, 13, 3, 12, 11, 5, 14, 17, 1]\n",
            "1039 [7, 10, 3, 13, 6, 16, 18, 18, 4, 17]\n",
            "765 [8, 10, 11, 11, 5, 5, 6, 13, 13, 16]\n",
            "899 [10, 7, 8, 11, 11, 5, 3, 6, 12, 16]\n",
            "587 [10, 7, 7, 11, 14, 3, 5, 17, 16, 18]\n",
            "421 [10, 11, 3, 5, 5, 12, 6, 6, 18, 1]\n",
            "693 [10, 10, 12, 13, 13, 6, 11, 5, 18, 14]\n",
            "706 [8, 7, 6, 3, 14, 12, 2, 18, 15]\n",
            "673 [13, 8, 17, 3, 5, 16, 4, 9, 2]\n",
            "386 [8, 13, 14, 16, 18, 18, 17, 17, 4, 9]\n",
            "904 [6, 13, 16, 16, 12, 18, 4, 4]\n",
            "252 [8, 14, 13, 3, 1, 16, 4, 9, 15, 2]\n",
            "629 [10, 12, 18, 6, 6, 9, 16, 13, 15, 14]\n",
            "1030 [1, 16, 12, 8, 13, 13, 10, 11, 11, 9]\n",
            "63 [8, 10, 3, 18, 1, 2, 4, 17, 9]\n",
            "1014 [7, 8, 3, 3, 13, 12, 12, 5, 14, 11]\n",
            "477 [8, 8, 6, 13, 12, 14, 14, 16, 3, 17]\n",
            "784 [8, 7, 13, 13, 14, 14, 5, 17, 12, 3]\n",
            "538 [7, 16, 3, 13, 13, 11, 12, 5, 6, 6]\n",
            "610 [8, 11, 11, 17, 6, 12, 12, 18, 18, 15]\n",
            "516 [7, 7, 4, 4, 10, 14, 18, 15, 16, 11]\n",
            "417 [10, 11, 6, 6, 8, 13, 13, 14, 1, 16]\n",
            "374 [11, 10, 7, 5, 13, 13, 1, 1, 4, 17]\n",
            "129 [7, 5, 8, 17, 17, 11, 11, 3, 13, 13]\n",
            "884 [8, 5, 10, 14, 6, 6, 18, 18, 16, 4]\n",
            "1073 [10, 11, 5, 7, 7, 2, 8, 14, 16, 9]\n",
            "238 [7, 3, 13, 12, 1, 4, 2, 9, 18]\n",
            "678 [10, 10, 5, 6, 12, 14, 1, 1, 17, 9]\n",
            "593 [7, 8, 5, 13, 12, 3, 15, 17, 4, 4]\n",
            "720 [10, 13, 5, 14, 15, 2]\n",
            "199 [7, 3, 11, 5, 6, 6, 16, 14, 18, 17]\n",
            "523 [11, 2, 12, 18, 4]\n",
            "1021 [11, 18, 14, 14, 5, 17, 12, 13, 13, 6]\n",
            "699 [8, 1, 6, 11, 11, 5, 5, 2, 2, 18]\n",
            "1064 [7, 8, 6, 3, 12, 1, 18, 16, 15]\n",
            "1 [7, 11, 5, 5, 14, 13, 1, 16, 18, 18]\n",
            "684 [5, 11, 3, 3, 12, 9]\n",
            "6 [7, 7, 10, 13, 12, 14, 1, 4, 4, 2]\n",
            "624 [7, 5, 11, 3, 3, 6, 14, 12, 12, 1]\n",
            "61 [11, 10, 3, 3, 14, 7, 1, 13, 18, 17]\n",
            "507 [7, 8, 11, 5, 5, 14, 12, 1, 18, 4]\n",
            "664 [10, 10, 11, 6, 12, 14, 16, 4, 15]\n",
            "366 [8, 1, 14, 18, 17, 16, 16, 9, 4, 2]\n",
            "852 [8, 10, 13, 11, 11, 14, 18, 1, 9, 4]\n",
            "735 [12, 16, 5, 2]\n",
            "18 [8, 7, 10, 6, 6, 18, 13, 3, 9, 2]\n",
            "756 [7, 7, 3, 13, 4, 16, 12, 1, 17]\n",
            "99 [11, 11, 8, 10, 3, 16, 16, 2, 12, 13]\n",
            "501 [10, 7, 7, 3, 5, 1, 1, 2, 6, 6]\n",
            "923 [8, 10, 5, 13, 18, 14, 14, 17, 2, 15]\n",
            "544 [10, 10, 11, 17, 3, 16, 15, 15]\n",
            "943 [7, 8, 10, 10, 13, 18, 4, 17, 15]\n",
            "303 [10, 8, 8, 6, 12, 3, 17, 17, 16, 14]\n",
            "732 [3, 10, 12, 5, 7, 4, 2, 8, 8, 1]\n",
            "4 [8, 10, 13, 6, 11, 18, 1, 1, 4, 16]\n",
            "536 [8, 6, 12, 3, 17, 15]\n",
            "160 [7, 8, 8, 17, 17, 16, 14, 13, 1, 4]\n",
            "691 [8, 6, 14, 9, 9, 18, 15]\n",
            "351 [7, 11, 11, 5, 6, 14, 12, 1, 16, 2]\n",
            "266 [10, 10, 3, 6, 13, 14, 14, 17, 18, 15]\n",
            "518 [8, 7, 10, 10, 11, 12, 6, 6, 14, 1]\n",
            "936 [8, 5, 3, 18, 2, 17, 16, 4, 15, 15]\n",
            "1062 [7, 10, 10, 6, 14, 5, 9, 1, 1, 17]\n",
            "719 [7, 3, 8, 10, 10, 5, 5, 18, 9, 1]\n",
            "541 [8, 13, 13, 3, 12, 5, 11, 9, 14, 18]\n",
            "841 [8, 6, 14, 3, 3, 13, 1, 16, 2, 9]\n",
            "685 [7, 8, 11, 3, 9, 6, 13, 13, 18, 4]\n",
            "995 [10, 6, 2, 1, 17, 4, 15, 15]\n",
            "490 [7, 7, 11, 13, 16, 16, 1, 15, 9, 2]\n",
            "983 [8, 10, 15, 13, 9, 13, 9, 17, 14, 4]\n",
            "607 [7, 14, 17, 11, 2, 18, 15, 12]\n",
            "824 [7, 10, 11, 11, 13, 16, 12, 18, 17, 15]\n",
            "298 [5, 16, 15, 8, 8, 6, 1, 1, 3]\n",
            "251 [7, 10, 11, 3, 13, 6, 1, 1, 16, 17]\n",
            "301 [6, 3, 2, 2, 17, 10, 15, 9, 4]\n",
            "165 [3, 5, 5, 14, 14, 13, 15]\n",
            "483 [7, 11, 5, 13, 13, 6, 12, 1, 16, 16]\n",
            "753 [8, 7, 6, 5, 10, 12, 12, 14, 13, 9]\n",
            "7 [8, 11, 16, 18, 18, 4]\n",
            "897 [7, 11, 10, 10, 5, 13, 6, 6, 17, 4]\n",
            "949 [7, 11, 13, 13, 5, 12, 2, 17, 9, 9]\n",
            "666 [10, 11, 7, 7, 8, 5, 14, 6, 13, 18]\n",
            "707 [1, 5, 6, 2, 10, 16, 14, 4, 18, 11]\n",
            "222 [8, 5, 12, 16, 18, 2, 4, 9]\n",
            "975 [7, 11, 3, 12, 16, 17, 17, 2, 2]\n",
            "573 [8, 10, 12, 18, 18, 17, 4, 13, 9]\n",
            "1027 [10, 7, 8, 8, 14, 5, 13, 2, 4, 4]\n",
            "520 [7, 8, 12, 14, 1, 4, 16, 9]\n",
            "672 [7, 8, 8, 5, 10, 2, 13, 1, 3, 6]\n",
            "857 [11, 10, 1, 3, 14, 12, 6, 2, 15]\n",
            "686 [7, 7, 5, 6, 6, 1, 18, 16, 9]\n",
            "39 [8, 7, 13, 14, 5, 18, 17, 16, 16, 4]\n",
            "1068 [8, 7, 10, 10, 6, 16, 17, 17]\n",
            "929 [8, 10, 13, 1, 16, 12, 18]\n",
            "1067 [7, 8, 6, 10, 13, 2, 1, 1, 9, 9]\n",
            "533 [7, 8, 11, 5, 3, 3, 14, 6, 12, 16]\n",
            "680 [5, 14, 6, 1, 1, 16, 16, 17, 18, 18]\n",
            "441 [8, 7, 5, 13, 14, 17, 16, 16, 2, 4]\n",
            "393 [10, 11, 5, 16, 2, 17, 6, 1, 9]\n",
            "16 [7, 10, 5, 6, 13, 12, 17, 9, 15]\n",
            "120 [8, 7, 7, 3, 14, 14, 12, 1, 16, 5]\n",
            "565 [8, 7, 11, 10, 1, 6, 2, 14, 16, 12]\n",
            "347 [10, 11, 8, 14, 13, 17, 17, 6, 12, 4]\n",
            "379 [7, 8, 5, 5, 13, 17, 16, 1, 2, 18]\n",
            "313 [10, 8, 11, 11, 5, 12, 16, 14, 6, 6]\n",
            "130 [11, 13, 8, 17, 3, 5, 15, 12, 4, 9]\n",
            "47 [8, 7, 5, 11, 6, 6, 3, 14, 15, 15]\n",
            "790 [8, 8, 3, 6, 13, 13, 16, 12, 17, 4]\n",
            "102 [8, 11, 13, 6, 3, 17, 12, 16]\n",
            "649 [1, 6, 5, 9, 12, 3, 3, 4, 2, 16]\n",
            "385 [8, 5, 7, 10, 10, 13, 14, 14, 16, 1]\n",
            "113 [3, 5, 2, 6, 1, 1, 10, 11, 17, 8]\n",
            "566 [8, 6, 6, 14, 13, 12, 1, 18, 16, 4]\n",
            "488 [8, 5, 11, 3, 3, 13, 13, 12, 18, 18]\n",
            "1024 [8, 5, 5, 3, 11, 12, 12, 16, 9, 17]\n",
            "15 [7, 5, 5, 12, 14, 11, 6, 13, 17, 2]\n",
            "1002 [10, 11, 5, 12, 13, 2, 17, 17, 4, 9]\n",
            "522 [8, 7, 11, 3, 14, 13, 16, 17, 1, 1]\n",
            "608 [13, 3, 5, 6, 17, 17, 9, 9, 1]\n",
            "211 [7, 5, 5, 14, 6, 2, 16, 18, 1, 15]\n",
            "428 [5, 6, 12, 14, 14, 11, 18, 18, 4, 16]\n",
            "764 [6, 3, 3, 10, 12, 9, 2, 4, 15, 15]\n",
            "711 [10, 10, 3, 3, 8, 8, 11, 6, 6, 13]\n",
            "891 [8, 7, 2, 4, 16, 14, 6]\n",
            "29 [7, 7, 10, 10, 8, 5, 14, 4]\n",
            "232 [10, 10, 7, 8, 11, 3, 1, 12, 6, 5]\n",
            "453 [7, 7, 5, 6, 6, 2, 4, 9]\n",
            "214 [11, 18, 13, 12, 3, 6, 5, 1, 17, 14]\n",
            "531 [7, 5, 10, 6, 3, 13, 2, 16, 4, 1]\n",
            "858 [10, 11, 14, 18, 5, 8, 7, 12, 2, 2]\n",
            "409 [7, 8, 11, 13, 17, 12, 5, 6, 16, 18]\n",
            "1022 [7, 10, 5, 5, 14, 12, 13, 9, 9, 18]\n",
            "188 [10, 10, 7, 7, 13, 6, 6, 1, 17, 4]\n",
            "345 [7, 11, 8, 10, 5, 3, 17, 18, 15, 15]\n",
            "418 [10, 3, 7, 11, 6, 6, 14, 17, 4, 9]\n",
            "1012 [7, 12, 13, 5, 3, 3, 9, 18, 17, 2]\n",
            "375 [8, 10, 10, 7, 5, 6, 3, 16, 9, 15]\n",
            "310 [8, 8, 11, 5, 12, 12, 16, 2, 4, 15]\n",
            "642 [3, 13, 14, 14, 6, 6, 18, 9, 9, 1]\n",
            "838 [7, 8, 8, 10, 3, 12, 14, 1, 16, 18]\n",
            "662 [11, 13, 1, 4, 4, 15]\n",
            "88 [5, 14, 18, 2, 2, 15, 15]\n",
            "275 [4, 6, 17, 12, 15, 7, 7, 5, 18, 2]\n",
            "405 [10, 3, 3, 8, 5, 6, 14, 13, 17, 18]\n",
            "804 [10, 11, 14, 18, 12, 12, 15]\n",
            "372 [10, 10, 7, 8, 5, 3, 3, 13, 12, 14]\n",
            "398 [10, 8, 11, 16, 12, 1, 4, 18, 17, 2]\n",
            "709 [10, 11, 8, 13, 16, 12, 2, 3, 17, 18]\n",
            "962 [10, 3, 11, 1, 12, 17, 5, 14, 6, 6]\n",
            "584 [8, 7, 7, 5, 5, 11, 12, 6, 16, 4]\n",
            "1025 [10, 7, 7, 11, 3, 17, 13, 18, 1, 15]\n",
            "683 [8, 7, 7, 14, 5, 10, 2, 4, 18, 9]\n",
            "226 [10, 7, 7, 11, 3, 3, 12, 5, 5, 6]\n",
            "767 [5, 16, 16, 11, 7, 13, 13, 14, 12, 4]\n",
            "901 [13, 12, 12, 1, 4, 2, 16, 17]\n",
            "769 [8, 7, 6, 3, 14, 18, 16, 16, 1]\n",
            "80 [8, 8, 6, 16, 7, 5, 5, 13, 12, 3]\n",
            "830 [10, 18, 17, 17, 12, 16, 1, 4, 15, 6]\n",
            "619 [7, 8, 5, 16, 16, 1, 1, 9, 9]\n",
            "295 [8, 10, 5, 5, 3, 3, 1, 4, 4, 16]\n",
            "231 [7, 3, 3, 5, 13, 13, 12, 12, 16, 17]\n",
            "1005 [10, 7, 8, 18, 13, 12, 14, 16, 15, 4]\n",
            "559 [8, 8, 7, 2, 1, 1, 5, 9, 4, 11]\n",
            "737 [13, 14, 12, 18, 16, 4, 9, 9]\n",
            "51 [7, 8, 10, 11, 5, 14, 13, 6, 1, 17]\n",
            "154 [7, 3, 3, 12, 5, 14, 10, 11, 4, 18]\n",
            "1004 [11, 10, 1, 1, 6, 2, 17, 15, 18, 16]\n",
            "823 [7, 10, 1, 3, 5, 11, 17, 2, 13, 15]\n",
            "383 [10, 8, 11, 7, 13, 6, 6, 3, 17, 17]\n",
            "36 [8, 13, 6, 14, 1, 2, 18, 4, 4, 9]\n",
            "822 [5, 6, 13, 13, 14, 12, 12, 18, 2, 2]\n",
            "350 [7, 10, 3, 12, 6, 16, 16, 2, 4]\n",
            "888 [7, 8, 11, 1, 17, 12, 12, 18, 6, 9]\n",
            "97 [11, 13, 14, 6, 5, 16, 17, 2, 4, 18]\n",
            "550 [10, 10, 8, 13, 14, 14, 5, 6, 6, 3]\n",
            "728 [7, 3, 8, 12, 6, 6, 14, 17, 4, 18]\n",
            "1041 [8, 5, 3, 18, 1, 12, 11, 11, 14, 13]\n",
            "343 [8, 7, 17, 5, 5, 13, 13, 1, 12, 12]\n",
            "169 [11, 11, 5, 13, 13, 12, 18]\n",
            "905 [10, 10, 11, 3, 3, 6, 13, 13, 12, 2]\n",
            "497 [7, 6, 10, 14, 16]\n",
            "798 [7, 8, 10, 5, 11, 3, 6, 6, 14, 2]\n",
            "807 [8, 7, 11, 5, 13, 6, 14, 12, 17, 9]\n",
            "941 [8, 11, 11, 14, 13, 1, 12, 18, 9, 9]\n",
            "157 [12, 10, 6, 14, 14, 9, 9, 3, 11, 7]\n",
            "436 [8, 8, 10, 11, 13, 13, 1, 14, 6, 6]\n",
            "592 [11, 11, 7, 3, 3, 13, 5, 12, 14, 18]\n",
            "867 [7, 7, 5, 13, 1, 16, 16, 15, 15, 2]\n",
            "927 [7, 13, 6, 16, 1, 4, 9, 15]\n",
            "933 [3, 11, 18, 16, 4]\n",
            "914 [7, 7, 8, 10, 13, 14, 14, 12, 12, 17]\n",
            "87 [3, 13, 4, 1, 16, 2, 15]\n",
            "294 [8, 7, 13, 5, 12, 14, 1, 16, 4, 2]\n",
            "976 [7, 5, 14, 3, 3, 1, 2, 2, 18, 18]\n",
            "532 [13, 12, 1, 2, 2, 18, 18]\n",
            "567 [10, 8, 13, 11, 12, 14, 3, 17, 1]\n",
            "455 [11, 5, 12, 16, 1, 17, 18, 15, 15]\n",
            "759 [8, 1, 18, 18, 16, 9, 15]\n",
            "439 [7, 8, 6, 5, 3, 3, 16, 16, 1, 11]\n",
            "100 [10, 11, 13, 13, 18, 17, 17, 14, 14, 6]\n",
            "849 [7, 5, 5, 3, 11, 12, 4, 18, 9, 17]\n",
            "537 [10, 1, 5, 5, 14, 14, 6, 18, 12, 15]\n",
            "913 [8, 10, 10, 6, 12, 12, 13, 1, 4, 9]\n",
            "419 [8, 8, 13, 10, 1, 12, 3, 18, 14, 17]\n",
            "696 [8, 10, 10, 11, 5, 14, 13, 3, 3, 17]\n",
            "646 [7, 8, 14, 1, 16, 2, 4, 4, 15, 9]\n",
            "615 [10, 7, 8, 14, 13, 6, 1, 4, 4, 9]\n",
            "591 [14, 17, 16, 4, 13, 8, 7, 6]\n",
            "966 [8, 8, 5, 11, 11, 6, 16, 1, 18, 4]\n",
            "840 [10, 10, 7, 11, 5, 3, 3, 6, 1, 1]\n",
            "982 [8, 7, 7, 13, 13, 3, 6, 10, 10, 12]\n",
            "404 [8, 7, 13, 13, 12, 16]\n",
            "926 [7, 7, 8, 5, 13, 2, 18, 15]\n",
            "259 [10, 7, 14, 5, 12, 16, 17, 4, 1, 9]\n",
            "139 [10, 7, 8, 5, 14, 14, 12, 12, 16, 4]\n",
            "68 [11, 10, 14, 6, 8, 13, 17, 17, 18, 15]\n",
            "452 [10, 11, 7, 13, 1, 14, 14, 15, 18]\n",
            "726 [8, 7, 3, 10, 5, 14, 12, 12, 18, 17]\n",
            "956 [8, 8, 10, 10, 11, 5, 1, 14, 13, 13]\n",
            "581 [7, 5, 5, 3, 3, 18, 2, 2, 9, 15]\n",
            "718 [7, 8, 11, 12, 5, 17, 4, 9, 9]\n",
            "794 [10, 11, 5, 5, 18, 16, 9, 8, 13, 8]\n",
            "413 [7, 7, 8, 8, 13, 12, 1, 18, 15, 2]\n",
            "886 [11, 7, 7, 3, 8, 14, 13, 12, 6, 2]\n",
            "820 [7, 7, 8, 8, 5, 5, 10, 10, 13, 14]\n",
            "427 [10, 5, 14, 6, 12, 1, 9]\n",
            "703 [7, 7, 10, 8, 14, 12, 2, 15, 15, 9]\n",
            "119 [10, 14, 16, 17, 18, 18, 2, 4, 9, 15]\n",
            "78 [7, 3, 14, 14, 5, 13, 1, 4, 17]\n",
            "783 [8, 14, 18, 2, 2, 1, 9]\n",
            "123 [7, 8, 10, 3, 6, 11, 16, 12, 14]\n",
            "106 [7, 8, 6, 13, 16, 17, 18, 18, 2, 15]\n",
            "287 [8, 11, 13, 3, 3, 12, 5, 6, 14, 16]\n",
            "270 [10, 10, 3, 11, 13, 12, 6, 6, 1, 4]\n",
            "650 [7, 10, 5, 16, 18, 2, 2]\n",
            "194 [5, 3, 18, 1, 1, 12, 16, 15, 2]\n",
            "955 [8, 13, 11, 10, 12, 2, 18, 16, 16, 17]\n",
            "424 [7, 10, 10, 5, 18, 2, 4, 15]\n",
            "724 [5, 11, 8, 14, 6, 3, 16, 16, 1, 1]\n",
            "569 [14, 7, 7, 11, 12, 18, 1, 1, 5, 6]\n",
            "774 [8, 8, 10, 11, 5, 18, 16, 15]\n",
            "821 [13, 12, 5, 3, 6, 2, 2, 4, 1, 7]\n",
            "265 [7, 7, 10, 8, 3, 3, 1, 1, 5, 5]\n",
            "1003 [13, 13, 5, 4, 10, 12, 11, 3, 9, 18]\n",
            "357 [10, 8, 11, 13, 14, 16, 16, 4, 2, 9]\n",
            "1045 [8, 11, 18, 6, 16, 9, 2]\n",
            "957 [10, 18, 16, 4, 13]\n",
            "855 [10, 10, 11, 11, 12, 12, 18, 3, 1]\n",
            "551 [11, 8, 18, 7, 7, 17, 17, 4, 2, 9]\n",
            "66 [7, 7, 10, 10, 13, 13, 5, 6, 1, 17]\n",
            "59 [8, 5, 14, 16, 11, 4, 4, 18, 9, 15]\n",
            "1051 [7, 7, 5, 8, 10, 3, 11, 1, 6, 17]\n",
            "286 [7, 8, 5, 3, 6, 13, 13, 12, 4]\n",
            "401 [8, 5, 5, 3, 13, 14, 12, 1, 17, 16]\n",
            "391 [7, 7, 5, 6, 6, 2, 18]\n",
            "67 [11, 5, 5, 13, 6, 18, 17, 16, 16, 4]\n",
            "589 [7, 7, 13, 13, 12, 3, 14, 14, 11, 6]\n",
            "1035 [7, 5, 13, 1, 12, 6, 4, 15]\n",
            "182 [8, 3, 1, 14, 13, 2, 4, 12, 17, 17]\n",
            "175 [8, 8, 7, 7, 11, 11, 5, 5, 16, 1]\n",
            "777 [7, 8, 8, 5, 1, 13, 12, 18, 4, 16]\n",
            "779 [10, 10, 7, 8, 5, 13, 6, 3, 14, 17]\n",
            "128 [10, 3, 3, 13, 11, 5, 1, 18, 9, 2]\n",
            "512 [10, 5, 11, 13, 16, 6, 6, 14, 12, 2]\n",
            "805 [10, 3, 5, 5, 6, 1, 17, 16, 2, 15]\n",
            "329 [7, 11, 11, 3, 8, 8, 5, 2, 17, 17]\n",
            "229 [7, 3, 5, 11, 12, 13, 6, 1, 18, 18]\n",
            "476 [7, 8, 5, 1, 16, 14, 17, 3, 4, 9]\n",
            "240 [7, 5, 3, 13, 13, 11, 11, 14, 1, 16]\n",
            "431 [8, 10, 10, 11, 11, 1, 5, 17, 7, 4]\n",
            "993 [7, 10, 11, 13, 12, 6, 17, 18, 1, 15]\n",
            "396 [8, 7, 7, 10, 11, 5, 5, 6, 1, 12]\n",
            "890 [10, 7, 8, 6, 14, 13, 12, 1, 2, 4]\n",
            "547 [11, 7, 17, 6, 14, 16, 15, 15, 4, 9]\n",
            "1076 [8, 11, 16, 1, 18, 15, 15, 9, 9]\n",
            "540 [7, 5, 6, 16, 2, 18, 15]\n",
            "32 [7, 8, 8, 5, 3, 3, 14, 14, 17, 18]\n",
            "253 [7, 1, 14, 2, 13, 18, 4, 4, 17, 9]\n",
            "543 [5, 5, 11, 3, 13, 13, 14, 16, 12, 1]\n",
            "763 [7, 5, 14, 3, 17, 17, 2, 15]\n",
            "25 [5, 5, 3, 10, 11, 13, 16, 18, 4, 4]\n",
            "236 [8, 10, 6, 14, 1, 18, 9, 4, 16, 15]\n",
            "282 [7, 8, 13, 12, 5, 14, 2, 17]\n",
            "876 [7, 10, 11, 3, 13, 6, 14, 12, 12, 4]\n",
            "411 [12, 13, 18, 14, 9, 4, 2]\n",
            "131 [8, 11, 11, 5, 6, 17, 17, 18, 4, 9]\n",
            "187 [8, 3, 12, 17, 1, 1, 16, 6, 2, 2]\n",
            "445 [14, 3, 5, 16, 1, 2]\n",
            "710 [13, 10, 14, 17, 17]\n",
            "65 [7, 8, 6, 18, 3, 17, 14, 1, 15, 2]\n",
            "334 [10, 10, 12, 5, 3, 6, 18, 13, 17, 2]\n",
            "623 [5, 13, 13, 14, 14, 6, 6, 17, 18, 18]\n",
            "9 [10, 11, 13, 3, 3, 18, 16, 6, 1, 9]\n",
            "803 [7, 13, 13, 12, 12, 17, 4, 9, 15]\n",
            "148 [3, 11, 5, 12, 12, 14, 2, 4, 18, 15]\n",
            "482 [10, 7, 11, 11, 3, 13, 1, 1, 4, 2]\n",
            "26 [8, 7, 7, 5, 3, 3, 10, 13, 14, 16]\n",
            "217 [7, 10, 5, 3, 3, 6, 13, 1, 18, 4]\n",
            "230 [7, 6, 14, 13, 16, 1, 2, 9]\n",
            "1000 [7, 12, 13, 6, 3, 4, 4, 1, 9, 2]\n",
            "986 [7, 10, 10, 8, 11, 12, 14, 14, 16, 17]\n",
            "1008 [10, 7, 11, 13, 3, 14, 1, 1, 17, 17]\n",
            "636 [8, 8, 5, 14, 13, 6, 16, 18, 18, 1]\n",
            "264 [3, 5, 12, 12, 15, 9, 9]\n",
            "920 [8, 12, 16, 16, 14, 5, 1, 17, 9]\n",
            "628 [16, 17, 7, 7, 11, 11, 1, 1, 8, 6]\n",
            "35 [7, 7, 10, 8, 1, 2, 15]\n",
            "921 [7, 7, 8, 10, 5, 13, 17, 17, 14, 18]\n",
            "389 [8, 10, 14, 13, 6, 6, 12, 1, 1, 17]\n",
            "552 [7, 8, 11, 12, 14, 6, 18, 3, 16, 2]\n",
            "224 [10, 10, 7, 3, 5, 11, 16, 6, 17, 17]\n",
            "802 [8, 14, 7, 1, 3, 2, 6, 16, 12]\n",
            "205 [10, 10, 7, 11, 3, 13, 14, 5, 17, 15]\n",
            "245 [10, 7, 8, 5, 6, 1, 18, 13, 3, 2]\n",
            "676 [10, 5, 3, 13, 9, 15]\n",
            "1001 [8, 7, 7, 11, 5, 3, 14, 16, 18, 9]\n",
            "1019 [13, 8, 7, 6, 16, 1, 18, 11, 10, 15]\n",
            "352 [7, 3, 11, 1, 13, 13, 2, 10, 10, 16]\n",
            "5 [8, 8, 11, 14, 14, 3, 18, 16, 12, 15]\n",
            "800 [13, 3, 11, 4, 1, 2, 2, 16, 17, 14]\n",
            "539 [17, 13, 13, 11, 11, 10, 1, 8, 9, 18]\n",
            "115 [11, 11, 8, 6, 13, 3, 1, 2, 4, 15]\n",
            "994 [10, 8, 11, 13, 3, 14, 14, 17, 18, 16]\n",
            "410 [10, 11, 14, 3, 5, 17, 9, 4, 2]\n",
            "291 [7, 6, 13, 13, 14, 12, 17, 17, 16]\n",
            "853 [8, 8, 12, 7, 13, 5, 4, 9, 11]\n",
            "464 [3, 6, 13, 1, 17, 17, 18, 2, 2, 9]\n",
            "958 [5, 11, 14, 1, 1, 16, 16, 2, 17]\n",
            "326 [10, 5, 3, 12, 6, 17, 16, 15]\n",
            "403 [8, 10, 5, 5, 3, 2, 12, 16, 4, 15]\n",
            "1040 [8, 5, 13, 16, 12, 12, 1, 1, 17, 18]\n",
            "457 [8, 13, 12, 12, 5, 16, 16, 18, 1]\n",
            "489 [8, 5, 11, 3, 14, 12, 12, 17, 18, 4]\n",
            "1065 [10, 11, 7, 5, 8, 16, 16, 14, 14, 17]\n",
            "940 [8, 3, 3, 5, 12, 18, 18]\n",
            "602 [3, 6, 12, 12, 13, 1, 1, 4, 15]\n",
            "917 [13, 5, 3, 18, 16, 9, 15, 15]\n",
            "74 [5, 5, 6, 3, 14, 18, 9]\n",
            "278 [7, 8, 10, 13, 13, 3, 12, 5, 5, 6]\n",
            "382 [7, 10, 13, 14, 17, 9, 15]\n",
            "376 [7, 8, 5, 11, 14, 14, 3, 16, 1, 2]\n",
            "348 [10, 7, 7, 14, 2, 4, 15]\n",
            "478 [8, 8, 7, 7, 13, 12, 1, 18, 14, 14]\n",
            "399 [7, 7, 10, 10, 13, 5, 16, 14, 6, 1]\n",
            "660 [8, 8, 7, 6, 5, 5, 3, 14, 16, 1]\n",
            "950 [8, 11, 14, 14, 18, 1, 1, 17, 2, 15]\n",
            "21 [7, 8, 10, 14, 13, 13, 1, 9, 15]\n",
            "948 [8, 10, 10, 7, 11, 11, 5, 12, 14, 14]\n",
            "866 [8, 6, 11, 12, 16, 14, 1, 17, 17, 9]\n",
            "22 [7, 7, 8, 8, 10, 6, 1, 5, 16, 14]\n",
            "632 [11, 8, 14, 3, 13, 4, 4, 18, 1, 9]\n",
            "319 [10, 7, 7, 11, 3, 16, 4, 4, 2, 15]\n",
            "655 [10, 2, 9, 5, 17, 6, 4, 15, 8]\n",
            "799 [8, 8, 12, 6, 3, 5, 14, 16, 9, 2]\n",
            "932 [7, 16, 15, 15, 10, 5, 6, 4, 11]\n",
            "558 [10, 11, 6, 3, 13, 12, 16, 4, 18, 9]\n",
            "863 [7, 7, 10, 10, 5, 6, 11, 1, 2, 4]\n",
            "831 [8, 11, 16, 14, 13, 12, 1, 17, 15]\n",
            "124 [10, 7, 8, 3, 6, 16, 16, 17, 12, 1]\n",
            "244 [1, 10, 7, 8, 17, 12, 12, 18, 4, 15]\n",
            "118 [11, 7, 13, 5, 5, 6, 17, 17, 18, 18]\n",
            "892 [11, 11, 6, 2, 14, 18, 17, 12, 13, 13]\n",
            "814 [8, 7, 7, 10, 5, 3, 6, 11, 16, 17]\n",
            "939 [7, 3, 5, 6, 6, 14, 14, 17, 1, 12]\n",
            "470 [10, 5, 3, 13, 12, 1, 16, 16, 18, 4]\n",
            "309 [8, 5, 6, 17, 15, 15]\n",
            "910 [6, 13, 9, 18, 18, 17, 14, 14, 1, 2]\n",
            "739 [7, 11, 11, 1, 13, 16, 18, 4, 2, 2]\n",
            "111 [3, 11, 6, 8, 7, 13, 13, 1, 5, 4]\n",
            "981 [8, 6, 10, 13, 16, 14, 3, 3, 18, 4]\n",
            "394 [3, 11, 5, 5, 13, 13, 6, 6, 2, 1]\n",
            "813 [8, 7, 5, 3, 14, 14, 9, 16, 16, 4]\n",
            "698 [8, 8, 10, 10, 6, 5, 1, 2, 12, 15]\n",
            "146 [8, 10, 5, 11, 13, 16, 4, 17]\n",
            "332 [8, 8, 3, 6, 16, 2, 18]\n",
            "196 [8, 10, 7, 12, 16, 11, 17, 18, 13, 13]\n",
            "895 [7, 11, 5, 1, 3, 18, 14, 6, 12, 4]\n",
            "979 [10, 11, 7, 5, 6, 8, 13, 12, 4, 9]\n",
            "652 [7, 8, 10, 3, 6, 5, 14, 13, 13]\n",
            "635 [7, 10, 11, 12, 12, 16, 17, 4]\n",
            "694 [10, 8, 7, 7, 11, 13, 13, 12, 16, 18]\n",
            "651 [11, 6, 3, 3, 13, 9, 15, 2]\n",
            "827 [7, 10, 10, 6, 8, 16, 15, 18, 18, 13]\n",
            "339 [3, 13, 6, 12, 12, 18, 16, 1, 17]\n",
            "810 [8, 10, 13, 14, 6, 5, 16, 16, 18, 4]\n",
            "766 [7, 7, 11, 11, 3, 3, 6, 6, 12, 15]\n",
            "654 [10, 3, 6, 11, 13, 4, 18, 16, 9, 9]\n",
            "449 [10, 6, 13, 12, 16, 2, 2, 17, 17, 9]\n",
            "885 [10, 11, 8, 13, 12, 1, 17, 4, 15]\n",
            "472 [8, 11, 3, 5, 6, 1, 18, 18, 4, 17]\n",
            "535 [8, 5, 7, 11, 14, 12, 17, 3, 1, 16]\n",
            "970 [13, 12, 12, 14, 4, 9]\n",
            "163 [8, 5, 14, 11, 2, 9, 4]\n",
            "184 [10, 7, 3, 13, 16, 11, 17, 5, 14, 12]\n",
            "599 [7, 3, 11, 11, 12, 4, 18, 13, 13, 17]\n",
            "812 [8, 18, 7, 13, 5, 14, 2]\n",
            "11 [10, 7, 14, 12, 5, 17, 17, 16, 16, 2]\n",
            "315 [7, 8, 10, 5, 11, 3, 1, 4, 4, 2]\n",
            "221 [10, 7, 3, 11, 12, 13, 1, 2, 9]\n",
            "480 [7, 8, 5, 11, 12, 6, 18, 16, 16, 17]\n",
            "308 [7, 10, 8, 5, 11, 3, 12, 12, 1, 18]\n",
            "257 [7, 5, 6, 13, 11, 11, 3, 14, 16, 4]\n",
            "969 [8, 8, 7, 5, 13, 6, 14, 16, 18, 1]\n",
            "73 [8, 10, 11, 11, 12, 14, 18, 17, 17, 16]\n",
            "625 [8, 8, 10, 5, 6, 3, 13, 13, 17, 18]\n",
            "447 [8, 7, 10, 11, 11, 13, 14, 18, 18, 17]\n",
            "95 [10, 11, 3, 18, 18, 8, 16, 2, 6, 1]\n",
            "555 [14, 11, 3, 6, 5, 12, 18, 16, 1, 4]\n",
            "900 [10, 5, 3, 13, 13, 14, 18, 1, 2, 4]\n",
            "426 [8, 11, 5, 5, 6, 3, 12, 14, 14, 16]\n",
            "432 [7, 5, 5, 10, 6, 11, 11, 4, 17, 2]\n",
            "1053 [8, 11, 5, 12, 17, 18, 18, 1, 9, 4]\n",
            "1060 [10, 10, 16, 16, 1, 11, 5, 9, 18]\n",
            "953 [7, 11, 11, 6, 3, 3, 13, 18, 17, 4]\n",
            "951 [3, 3, 12, 10, 13, 16, 16, 11, 14, 2]\n",
            "279 [11, 5, 6, 3, 14, 14, 18, 2, 4, 9]\n",
            "207 [8, 7, 13, 14, 14, 18, 18, 1, 15]\n",
            "620 [8, 14, 17, 6, 1, 13, 2, 2, 12, 4]\n",
            "107 [10, 3, 11, 15, 12, 18, 18, 7, 7, 4]\n",
            "198 [8, 8, 13, 13, 10, 10, 5, 11, 12, 16]\n",
            "60 [11, 7, 14, 5, 5, 6, 18, 16, 17, 1]\n",
            "311 [10, 3, 13, 13, 6, 14, 12, 12, 4, 4]\n",
            "209 [8, 6, 7, 7, 13, 14, 1, 2, 18, 15]\n",
            "31 [8, 16, 14, 14, 11, 17, 6, 15, 2, 3]\n",
            "692 [3, 10, 11, 14, 14, 13, 13, 16, 17, 6]\n",
            "816 [7, 5, 13, 6, 16, 1, 1, 17, 3, 2]\n",
            "944 [12, 8, 8, 5, 14, 4, 11, 18, 18, 17]\n",
            "700 [11, 3, 10, 10, 8, 5, 7, 17, 13, 12]\n",
            "594 [12, 11, 5, 3, 10, 14, 1, 9, 18, 18]\n",
            "881 [10, 3, 3, 5, 6, 17, 1, 12, 12, 4]\n",
            "91 [7, 5, 11, 3, 13, 13, 12, 14, 18, 16]\n",
            "492 [7, 11, 8, 3, 14, 13, 13, 2, 12, 12]\n",
            "471 [14, 17, 17, 13, 6, 8, 18, 15, 4, 9]\n",
            "1058 [13, 12, 18, 17, 9]\n",
            "908 [3, 3, 6, 4, 2, 9]\n",
            "364 [8, 7, 7, 9, 1, 13, 4, 14, 5, 17]\n",
            "3 [8, 10, 11, 7, 7, 13, 12, 14, 5, 4]\n",
            "1020 [8, 5, 6, 18, 2, 1, 15]\n",
            "588 [8, 11, 6, 3, 3, 1, 16, 17, 18, 9]\n",
            "57 [8, 8, 10, 11, 5, 13, 6, 1, 12, 18]\n",
            "795 [10, 11, 13, 5, 14, 18, 4, 9, 15]\n",
            "336 [7, 10, 10, 8, 11, 3, 2, 15]\n",
            "1006 [8, 7, 5, 6, 12, 13, 13, 1, 1, 16]\n",
            "1010 [10, 13, 3, 6, 14, 5, 17, 4, 9, 2]\n",
            "935 [8, 11, 7, 13, 1, 4, 4, 9, 15, 15]\n",
            "190 [8, 11, 12, 6, 3, 5, 4, 17, 9]\n",
            "28 [8, 5, 6, 3, 18, 4]\n",
            "534 [10, 10, 13, 13, 6, 6, 3, 17, 2]\n",
            "402 [7, 10, 11, 11, 5, 6, 13, 16, 9]\n",
            "865 [7, 8, 10, 1, 11, 13, 4, 18, 17, 9]\n",
            "317 [7, 8, 5, 5, 13, 12, 9, 14, 11, 11]\n",
            "796 [8, 11, 11, 6, 12, 16, 18, 18, 17, 2]\n",
            "503 [8, 11, 11, 13, 5, 14, 14, 18, 17, 16]\n",
            "468 [8, 11, 5, 3, 14, 4, 9, 15, 2]\n",
            "938 [3, 6, 5, 1, 1, 9, 9]\n",
            "597 [8, 11, 5, 5, 7, 13, 3, 17, 17, 2]\n",
            "147 [5, 10, 10, 16, 16, 6, 1, 8, 15, 18]\n",
            "715 [12, 12, 11, 3, 5, 17, 18, 1, 14, 15]\n",
            "731 [5, 3, 11, 17, 18, 18, 13, 6, 4, 12]\n",
            "353 [8, 10, 6, 18, 12, 4, 9, 9, 17]\n",
            "595 [8, 8, 7, 3, 5, 11, 13, 13, 12, 4]\n",
            "806 [13, 10, 14, 11, 4, 7, 9, 15, 2]\n",
            "373 [7, 7, 10, 8, 11, 13, 13, 17, 3, 6]\n",
            "734 [13, 13, 3, 6, 5, 5, 2, 1, 1, 16]\n",
            "335 [8, 5, 10, 1, 1, 13, 12, 17, 6, 4]\n",
            "989 [6, 14, 5, 12, 1, 16, 16, 18, 17, 2]\n",
            "104 [10, 8, 7, 7, 11, 3, 13, 12, 14, 18]\n",
            "618 [10, 11, 13, 14, 12, 18, 18, 4, 15]\n",
            "438 [11, 5, 5, 13, 6, 3, 3, 14, 18, 17]\n",
            "845 [8, 11, 3, 3, 5, 6, 12, 1, 18, 15]\n",
            "1059 [16, 14, 5, 10, 1, 15, 17, 12, 13, 3]\n",
            "247 [13, 13, 8, 12, 6, 6, 7, 5, 10, 14]\n",
            "117 [7, 7, 11, 5, 3, 6, 12, 14, 1, 17]\n",
            "156 [7, 3, 5, 10, 10, 11, 11, 18, 14, 13]\n",
            "893 [10, 16, 12, 11, 17, 14, 18, 6, 2, 2]\n",
            "701 [8, 11, 16, 13, 17, 17, 1, 1, 15]\n",
            "173 [7, 8, 8, 11, 11, 6, 14, 17, 18, 16]\n",
            "819 [10, 12, 13, 13, 6, 3, 14, 17, 1, 9]\n",
            "272 [7, 11, 8, 5, 17, 1, 18, 16, 15]\n",
            "906 [7, 5, 6, 12, 9]\n",
            "465 [5, 11, 1, 13, 16, 4, 18, 15, 15, 9]\n",
            "687 [7, 8, 10, 3, 5, 13, 1, 2, 18, 17]\n",
            "103 [5, 6, 6, 16, 16, 17, 9, 1, 1, 4]\n",
            "985 [7, 8, 14, 16, 13, 17, 17, 4, 9, 9]\n",
            "525 [8, 10, 10, 11, 5, 14, 12, 12, 1, 17]\n",
            "656 [5, 11, 11, 2, 12, 18, 18, 7, 6, 12]\n",
            "946 [7, 6, 11, 14, 16, 13, 13, 2, 15, 18]\n",
            "743 [8, 11, 11, 17, 14, 12, 12, 18, 18, 1]\n",
            "248 [7, 10, 10, 12, 14, 11, 5, 1, 4, 17]\n",
            "258 [6, 13, 13, 12, 4, 9, 2]\n",
            "306 [8, 8, 10, 3, 11, 13, 1, 12, 12, 17]\n",
            "412 [8, 3, 3, 5, 13, 1, 9, 2, 17, 16]\n",
            "811 [10, 8, 8, 5, 16, 16, 17, 14]\n",
            "773 [3, 14, 17, 17, 18, 4, 2, 9]\n",
            "844 [10, 11, 3, 14, 14, 13, 9]\n",
            "708 [7, 8, 5, 10, 16, 16, 2, 2, 18, 15]\n",
            "495 [8, 11, 14, 16, 6, 17, 2, 1]\n",
            "50 [8, 8, 11, 11, 3, 16, 18, 17, 9, 2]\n",
            "778 [8, 10, 11, 14, 12, 12, 1, 16, 16, 18]\n",
            "746 [7, 8, 10, 3, 6, 14, 1, 12, 12, 18]\n",
            "370 [7, 11, 11, 13, 3, 12, 17, 18, 2, 4]\n",
            "604 [13, 13, 3, 14, 11, 6, 10, 1, 4, 16]\n",
            "1033 [7, 11, 12, 14, 18, 16, 16, 9, 17, 2]\n",
            "621 [7, 10, 11, 5, 12, 18, 14, 17, 16, 9]\n",
            "459 [10, 3, 5, 14, 13, 13, 16, 1, 17, 17]\n",
            "818 [11, 3, 6, 14, 16, 16, 12, 2]\n",
            "20 [8, 7, 5, 13, 16, 16, 6, 6, 12, 4]\n",
            "340 [8, 10, 7, 11, 11, 12, 12, 14, 3, 1]\n",
            "92 [5, 10, 11, 3, 18, 13, 14, 14, 12, 2]\n",
            "446 [7, 7, 8, 14, 13, 13, 16, 17, 2, 15]\n",
            "180 [8, 8, 7, 11, 5, 3, 6, 17, 16, 15]\n",
            "69 [7, 7, 13, 5, 11, 11, 6, 6, 14, 16]\n",
            "114 [7, 8, 8, 11, 11, 1, 1, 17, 18, 9]\n",
            "89 [8, 3, 3, 6, 13, 13, 11, 14, 4, 17]\n",
            "605 [7, 12, 9, 4, 4, 15]\n",
            "367 [8, 10, 13, 11, 6, 16, 17, 18, 4, 9]\n",
            "931 [12, 5, 7, 6, 18, 1, 15, 2]\n",
            "788 [8, 13, 12, 14, 14, 1, 9, 15]\n",
            "475 [10, 7, 2, 12, 6, 1, 16, 17, 4, 4]\n",
            "992 [7, 9, 13, 13, 3, 2, 4, 16, 5, 8]\n",
            "815 [14, 16, 11, 17, 3, 2]\n",
            "233 [10, 7, 8, 3, 6, 14, 12, 16, 4]\n",
            "469 [7, 7, 8, 8, 6, 11, 13, 12, 9, 15]\n",
            "429 [8, 14, 14, 13, 12, 6, 6, 11, 1, 1]\n",
            "578 [11, 10, 5, 14, 6, 6, 12, 1, 4, 15]\n",
            "344 [10, 6, 14, 16, 16, 12, 12, 4, 18, 17]\n",
            "246 [10, 3, 6, 18, 18, 16, 2, 2, 17, 4]\n",
            "337 [10, 8, 11, 18, 13, 12, 16, 17, 2, 15]\n",
            "877 [7, 1, 10, 5, 3, 18, 13, 9, 15, 15]\n",
            "210 [8, 8, 5, 7, 6, 1, 1, 3, 3, 15]\n",
            "225 [8, 10, 3, 12, 5, 5, 1, 16, 4, 9]\n",
            "363 [11, 10, 7, 7, 17, 14, 13, 15, 18, 12]\n",
            "161 [7, 8, 5, 3, 13, 14, 2, 16, 4, 15]\n",
            "583 [5, 14, 1, 16, 12, 12, 17, 4]\n",
            "392 [8, 8, 10, 3, 5, 12, 13, 17, 9, 9]\n",
            "280 [7, 7, 13, 3, 11, 12, 5, 6, 14, 14]\n",
            "1069 [7, 8, 13, 3, 4, 18, 15, 9]\n",
            "358 [8, 8, 10, 6, 3, 13, 12, 1, 17, 2]\n",
            "14 [5, 11, 14, 12, 18, 18, 17, 15]\n",
            "390 [10, 8, 7, 7, 11, 3, 12, 17]\n",
            "988 [10, 14, 18, 8, 16, 1, 4, 2, 2]\n",
            "1029 [10, 10, 7, 7, 12, 14, 1, 18, 18]\n",
            "586 [10, 13, 3, 1, 17, 2, 9, 4]\n",
            "825 [8, 3, 3, 5, 14, 6, 16, 17, 18, 18]\n",
            "1072 [10, 5, 17, 15, 12, 4, 4, 2]\n",
            "314 [8, 5, 6, 6, 13, 16, 12, 2, 2, 4]\n",
            "53 [13, 3, 14, 14, 6, 5, 18, 15, 15, 1]\n",
            "639 [7, 8, 2, 14, 4, 10, 11]\n",
            "274 [7, 10, 5, 3, 3, 13, 6, 1, 12, 17]\n",
            "1009 [8, 10, 3, 11, 12, 13, 13, 14, 1, 18]\n",
            "127 [7, 8, 10, 3, 3, 17, 9, 4, 4, 16]\n",
            "828 [7, 7, 13, 5, 11, 4, 15]\n",
            "727 [8, 10, 10, 5, 14, 13, 12, 17, 9, 15]\n",
            "407 [8, 10, 11, 11, 13, 1, 16, 2, 17, 9]\n",
            "305 [8, 8, 7, 10, 10, 13, 3, 5, 14, 14]\n",
            "37 [7, 11, 13, 9, 4, 6, 18, 16, 2, 2]\n",
            "437 [8, 8, 6, 16, 16, 14, 1, 12, 13, 15]\n",
            "984 [7, 8, 10, 11, 13, 6, 14, 1, 16, 18]\n",
            "498 [8, 13, 10, 14, 4, 4, 7, 16, 17, 1]\n",
            "90 [3, 7, 11, 13, 14, 14, 5, 15, 4, 9]\n",
            "172 [10, 7, 3, 3, 13, 2, 18, 17, 17, 9]\n",
            "450 [10, 10, 7, 14, 16, 18, 4, 4, 2, 15]\n",
            "292 [8, 7, 10, 10, 11, 11, 1, 14, 14, 2]\n",
            "500 [3, 3, 12, 11, 1, 5, 14]\n",
            "23 [8, 3, 5, 16, 16, 12, 12, 6, 17, 1]\n",
            "659 [11, 11, 1, 13, 6, 2, 17, 9]\n",
            "658 [3, 7, 11, 14, 18, 15, 17, 1, 4]\n",
            "473 [10, 10, 7, 11, 3, 5, 2, 15, 15]\n",
            "789 [10, 3, 12, 11, 4, 4, 17, 16, 18, 1]\n",
            "256 [11, 5, 6, 12, 2]\n",
            "546 [8, 5, 5, 12, 2, 6, 10, 14, 1, 1]\n",
            "690 [7, 8, 8, 10, 11, 11, 5, 3, 18, 4]\n",
            "681 [7, 10, 8, 14, 16, 17, 15]\n",
            "754 [14, 16, 17, 17, 12, 18, 4, 1, 6, 6]\n",
            "762 [10, 8, 5, 5, 17, 17, 3, 1, 4, 15]\n",
            "212 [3, 10, 10, 11, 13, 1, 6, 18, 17, 4]\n",
            "723 [10, 8, 11, 11, 5, 14, 13, 12, 17, 18]\n",
            "434 [8, 7, 5, 13, 3, 16, 1, 17, 2, 9]\n",
            "960 [8, 10, 5, 13, 1, 14, 16, 16, 15]\n",
            "141 [7, 8, 8, 10, 11, 5, 12, 16, 16, 2]\n",
            "125 [8, 11, 13, 6, 12, 12, 14, 14, 2, 9]\n",
            "440 [11, 1, 14, 13, 3, 6, 6, 16, 15, 15]\n",
            "530 [7, 7, 10, 5, 12, 6, 3, 16, 17, 15]\n",
            "277 [10, 11, 11, 6, 12, 7, 18, 18, 3, 5]\n",
            "41 [8, 7, 10, 13, 13, 12, 11, 3, 6, 6]\n",
            "725 [11, 11, 8, 8, 17, 3, 3, 16, 9]\n",
            "330 [5, 7, 7, 3, 3, 13, 11, 9, 17, 17]\n",
            "760 [7, 3, 13, 12, 2, 14, 10, 4, 4]\n",
            "557 [10, 8, 7, 11, 14, 5, 3, 3, 6, 16]\n",
            "688 [7, 5, 3, 14, 6, 16, 17, 18, 18, 9]\n",
            "44 [7, 11, 13, 12, 3, 6, 5, 14, 14, 18]\n",
            "371 [7, 13, 14, 6, 6, 10, 10, 9, 11, 5]\n",
            "166 [7, 8, 10, 13, 13, 6, 1, 12, 5, 5]\n",
            "542 [7, 8, 11, 3, 6, 10, 13, 13, 16, 14]\n",
            "745 [13, 13, 4, 5, 5, 12, 9, 6, 14, 18]\n",
            "203 [8, 10, 3, 3, 6, 12, 18, 18, 2, 2]\n",
            "519 [8, 7, 7, 10, 10, 3, 13, 6, 18, 1]\n",
            "613 [7, 11, 6, 14, 17, 1, 1, 15, 4, 9]\n",
            "395 [8, 10, 3, 5, 6, 16, 18, 15, 4, 9]\n",
            "571 [7, 10, 6, 3, 13, 5, 14, 18, 1, 1]\n",
            "1023 [11, 5, 14, 6, 12, 17, 18, 16, 2]\n",
            "444 [10, 11, 11, 3, 3, 6, 14, 18, 17, 1]\n",
            "661 [7, 7, 5, 13, 13, 12, 17, 6, 16, 4]\n",
            "675 [8, 8, 7, 7, 5, 11, 13, 14, 18, 18]\n",
            "327 [8, 7, 11, 18, 16, 13, 12, 12, 1, 17]\n",
            "13 [10, 12, 13, 18, 4, 4, 15]\n",
            "729 [8, 7, 18, 5, 3, 17, 16, 9, 2, 1]\n",
            "770 [10, 5, 5, 11, 12, 18, 16, 16, 9, 4]\n",
            "887 [8, 14, 5, 10, 18, 18, 9, 16, 2]\n",
            "582 [7, 10, 11, 3, 6, 14, 2, 15, 15]\n",
            "695 [7, 5, 5, 3, 10, 13, 6, 6, 2, 18]\n",
            "380 [13, 5, 5, 6, 17, 1, 2, 2, 15]\n",
            "268 [8, 14, 14, 5, 15, 18, 1]\n",
            "159 [7, 10, 11, 13, 13, 3, 12, 12, 14, 16]\n",
            "191 [13, 16, 10, 6, 1, 4, 17, 9, 5, 5]\n",
            "132 [3, 16, 18, 13, 12, 15, 15, 2, 5]\n",
            "961 [8, 3, 12, 16, 16, 5, 14, 1, 17, 6]\n",
            "504 [7, 8, 6, 5, 5, 1, 12, 12, 14, 14]\n",
            "1032 [8, 5, 6, 10, 4, 12, 12, 17]\n",
            "443 [10, 3, 18, 4, 4]\n",
            "290 [5, 12, 14, 2, 9, 9, 15]\n",
            "524 [7, 7, 5, 5, 3, 1, 1, 16, 17, 17]\n",
            "420 [10, 3, 11, 5, 13, 12, 14, 14, 6, 4]\n",
            "862 [10, 18, 11, 1, 2, 6, 15, 13, 14, 14]\n",
            "318 [7, 10, 10, 5, 12, 13, 4, 16, 9, 2]\n",
            "637 [10, 7, 8, 5, 2, 17, 15]\n",
            "54 [3, 14, 12, 12, 17, 17, 1, 16, 16, 18]\n",
            "1034 [7, 12, 1, 16, 16, 17, 14, 15]\n",
            "579 [10, 7, 3, 13, 6, 14, 12, 17, 2, 4]\n",
            "1048 [8, 10, 3, 6, 2, 2, 12, 12, 17, 9]\n",
            "896 [8, 6, 3, 3, 14, 13, 2, 12, 18]\n",
            "689 [5, 7, 10, 8, 14, 11, 4, 9, 9]\n",
            "341 [7, 10, 8, 12, 12, 13, 18, 18, 16, 17]\n",
            "776 [7, 8, 3, 3, 16, 1, 12, 2, 18, 18]\n",
            "197 [8, 7, 5, 3, 16, 6, 17, 18, 2, 15]\n",
            "356 [8, 12, 18, 15, 2, 2]\n",
            "882 [7, 14, 8, 16, 2]\n",
            "496 [7, 6, 6, 13, 12, 14, 14, 15, 1, 4]\n",
            "307 [3, 10, 7, 7, 8, 8, 11, 13, 17, 16]\n",
            "442 [8, 5, 3, 13, 6, 14, 14, 15]\n",
            "771 [10, 14, 14, 17, 18, 6, 3, 4, 15, 9]\n",
            "64 [11, 3, 5, 16, 17, 4, 9, 9]\n",
            "70 [7, 10, 11, 3, 13, 12, 16, 2]\n",
            "58 [11, 13, 10, 10, 8, 7, 3, 6, 6, 17]\n",
            "178 [7, 10, 13, 13, 1, 18, 16, 4]\n",
            "883 [5, 3, 14, 14, 11, 12, 18, 1, 4, 17]\n",
            "466 [10, 10, 5, 6, 12, 16, 1, 18, 18, 2]\n",
            "138 [7, 5, 6, 10, 11, 4, 18, 15, 17, 16]\n",
            "780 [16, 13, 7, 7, 14, 14, 6, 1, 5, 3]\n",
            "529 [3, 13, 14, 16, 12, 2]\n",
            "46 [11, 11, 5, 3, 3, 8, 8, 6, 6, 14]\n",
            "328 [7, 10, 11, 8, 8, 3, 13, 14, 16, 17]\n",
            "924 [8, 7, 3, 14, 14, 5, 6, 17, 4, 9]\n",
            "140 [8, 10, 10, 5, 13, 6, 6, 16, 17, 4]\n",
            "576 [3, 5, 6, 12, 9, 9, 15]\n",
            "241 [8, 13, 13, 14, 3, 4, 16, 1, 17, 15]\n",
            "40 [8, 8, 10, 11, 14, 6, 18, 16, 4, 2]\n",
            "239 [7, 8, 3, 13, 2, 2, 17, 9]\n",
            "269 [7, 10, 11, 3, 5, 13, 14, 1, 1, 17]\n",
            "168 [7, 8, 11, 6, 14, 18, 16, 9, 2, 2]\n",
            "854 [8, 8, 10, 10, 3, 6, 13, 18, 17, 9]\n",
            "387 [7, 5, 6, 14, 12, 12, 18, 4, 17, 2]\n",
            "201 [7, 11, 5, 3, 17, 16, 16, 12, 18, 4]\n",
            "451 [10, 10, 8, 7, 5, 5, 3, 1, 17, 4]\n",
            "761 [8, 2, 12, 16, 18, 15, 4, 9, 9]\n",
            "216 [5, 12, 6, 6, 7, 4, 13, 13, 2, 11]\n",
            "596 [7, 8, 11, 6, 14, 14, 13, 2, 2, 16]\n",
            "922 [10, 8, 11, 7, 7, 5, 13, 14, 12, 1]\n",
            "793 [7, 8, 11, 5, 16, 18, 14, 17, 13, 1]\n",
            "575 [10, 10, 8, 11, 13, 13, 18, 12, 14, 1]\n",
            "101 [7, 12, 6, 13, 17, 16, 1, 2, 4]\n",
            "712 [1, 1, 15, 12, 9, 18, 4, 16, 3, 2]\n",
            "902 [7, 5, 3, 6, 6, 14, 2, 17, 4]\n",
            "30 [7, 8, 10, 3, 6, 6, 13, 12, 18, 17]\n",
            "1075 [8, 3, 13, 1, 5, 14, 12, 18]\n",
            "630 [3, 13, 16, 17, 11, 14, 14, 4, 15, 2]\n",
            "808 [7, 8, 8, 10, 11, 6, 3, 1, 16, 18]\n",
            "909 [11, 14, 3, 1, 1, 5, 12, 18, 4]\n",
            "204 [13, 5, 12, 16, 18, 1, 9, 15, 4]\n",
            "267 [7, 10, 10, 8, 11, 13, 12, 18, 17, 16]\n",
            "514 [7, 10, 13, 14, 14, 12, 1, 17, 17, 16]\n",
            "755 [8, 14, 10, 7, 16, 17, 12, 18, 2, 6]\n",
            "215 [7, 11, 6, 12, 17, 16, 18, 2, 9, 9]\n",
            "1018 [8, 7, 5, 5, 14, 14, 17, 18, 18, 4]\n",
            "1054 [8, 11, 5, 6, 12, 18, 18, 9, 15]\n",
            "633 [7, 7, 10, 3, 5, 13, 6, 1, 14, 12]\n",
            "781 [11, 8, 10, 10, 14, 13, 12, 12, 18, 9]\n",
            "1028 [8, 10, 7, 11, 13, 13, 3, 16, 16, 17]\n",
            "829 [7, 10, 5, 3, 1, 4, 9, 9, 15]\n",
            "338 [7, 8, 11, 12, 16, 2, 2, 17, 18, 18]\n",
            "585 [8, 7, 11, 6, 13, 17, 2, 9, 9]\n",
            "609 [10, 10, 14, 3, 7, 7, 8, 6, 12, 1]\n",
            "485 [10, 8, 5, 14, 16, 17, 18, 18, 9, 15]\n",
            "669 [8, 10, 5, 6, 11, 2, 2, 3, 3, 14]\n",
            "740 [10, 10, 7, 3, 12, 5, 5, 6, 6, 4]\n",
            "987 [7, 8, 6, 14, 11, 11, 3, 17, 18, 9]\n",
            "406 [7, 7, 14, 1, 12, 2, 16, 16, 4]\n",
            "733 [7, 3, 6, 17, 1, 2, 15, 15]\n",
            "200 [8, 3, 3, 5, 5, 11, 13, 6, 6, 14]\n",
            "1057 [10, 3, 16, 16, 9, 2]\n",
            "126 [12, 8, 13, 7, 16, 1, 1, 11, 2, 9]\n",
            "93 [11, 7, 7, 5, 8, 14, 13, 6, 17, 18]\n",
            "640 [17, 11, 7, 6, 6, 16, 4, 5, 18, 9]\n",
            "121 [10, 7, 7, 8, 14, 14, 1, 5, 16, 16]\n",
            "213 [7, 7, 8, 11, 5, 3, 1, 6, 12, 18]\n",
            "562 [14, 13, 5, 6, 4, 2, 12, 8]\n",
            "220 [11, 7, 5, 14, 14, 12, 1, 17, 9]\n",
            "499 [7, 7, 14, 6, 12, 17, 17, 9]\n",
            "786 [5, 1, 13, 12, 4, 4]\n",
            "12 [11, 13, 13, 3, 5, 5, 6, 16, 1, 17]\n",
            "324 [10, 13, 11, 11, 12, 18, 2, 2, 5]\n",
            "1074 [8, 11, 14, 13, 16, 12, 12, 15, 2, 9]\n",
            "365 [8, 10, 3, 5, 14, 17, 1, 18, 18, 4]\n",
            "704 [8, 14, 5, 18, 2, 15, 4, 9]\n",
            "388 [5, 14, 2, 2, 17, 9]\n",
            "833 [8, 8, 7, 11, 13, 5, 6]\n",
            "875 [8, 8, 7, 13, 14, 11, 6, 16, 17, 9]\n",
            "71 [10, 18, 6, 6, 12, 16, 11, 4, 15, 2]\n",
            "149 [7, 10, 11, 3, 14, 1, 4, 2, 17, 15]\n",
            "237 [8, 11, 13, 14, 12, 12, 2, 4, 9, 9]\n",
            "423 [7, 10, 8, 5, 3, 3, 1, 17, 12, 18]\n",
            "978 [13, 11, 18, 1, 1, 9, 2, 15]\n",
            "322 [5, 5, 13, 3, 14, 16, 12, 4]\n",
            "797 [7, 10, 8, 11, 14, 14, 5, 2, 1, 13]\n",
            "601 [10, 10, 13, 5, 1, 1, 15, 2]\n",
            "433 [11, 5, 6, 14, 13, 18, 2, 4, 15]\n",
            "84 [7, 10, 10, 14, 6, 12, 2, 13, 4]\n",
            "422 [8, 8, 5, 3, 10, 1, 1, 13, 13, 12]\n",
            "377 [7, 1, 17, 12, 18, 4]\n",
            "980 [3, 14, 16, 18, 17, 17, 2, 4, 4, 15]\n",
            "934 [10, 16, 2, 12, 5, 8, 1, 14, 11, 18]\n",
            "456 [8, 5, 13, 16, 18, 4]\n",
            "262 [7, 7, 8, 3, 3, 10, 6, 16, 18, 13]\n",
            "234 [3, 3, 14, 10, 6, 8, 13, 1, 1, 11]\n",
            "563 [10, 13, 18, 6, 1, 1, 16, 15, 15, 4]\n",
            "647 [5, 4, 4]\n",
            "878 [8, 11, 6, 14, 17, 4, 4, 16, 18, 18]\n",
            "72 [10, 7, 5, 11, 3, 3, 13, 1, 1, 12]\n",
            "297 [7, 7, 8, 1, 14, 12, 16, 15, 9]\n",
            "826 [10, 11, 11, 8, 3, 17, 12, 18, 6, 16]\n",
            "1070 [10, 7, 3, 2, 2, 1, 14, 12, 12, 4]\n",
            "273 [7, 10, 5, 5, 3, 14, 6, 1, 12, 12]\n",
            "454 [10, 13, 5, 1, 1, 17, 2, 2, 9, 9]\n",
            "284 [11, 3, 12, 1, 18, 4, 4, 15, 15, 9]\n",
            "299 [10, 5, 11, 14, 18, 18, 16, 2, 15]\n",
            "316 [8, 10, 3, 5, 6, 13, 1, 16, 2, 18]\n",
            "1061 [6, 12, 13, 13, 7, 7, 17, 2, 15]\n",
            "108 [11, 10, 18, 18, 1, 16, 2, 17, 17, 13]\n",
            "183 [7, 7, 10, 8, 14, 13, 4, 1, 1, 9]\n",
            "713 [8, 3, 13, 13, 14, 5, 18, 16, 16, 1]\n",
            "1066 [5, 11, 11, 6, 12, 3, 2, 16, 18, 4]\n",
            "179 [7, 8, 11, 3, 13, 5, 14, 14, 6, 6]\n",
            "462 [7, 10, 5, 11, 16, 6, 1, 17, 12, 12]\n",
            "570 [7, 5, 5, 17, 12, 8, 8, 14, 3, 3]\n",
            "968 [5, 13, 13, 6, 6, 2, 9, 15, 1, 18]\n",
            "98 [10, 10, 11, 5, 5, 4, 17, 18, 9, 15]\n",
            "510 [7, 7, 10, 11, 3, 14, 4, 9, 9]\n",
            "158 [7, 10, 11, 3, 3, 6, 6, 12, 13, 18]\n",
            "903 [7, 8, 10, 10, 6, 5, 12, 1, 1, 16]\n",
            "302 [8, 10, 14, 18, 4, 17, 15]\n",
            "359 [8, 7, 13, 16, 2, 2, 4, 6]\n",
            "657 [8, 10, 10, 3, 6, 12, 12, 14, 9, 16]\n",
            "189 [7, 8, 3, 3, 16, 18, 12, 14, 1, 2]\n",
            "474 [7, 10, 11, 1, 4, 18, 2, 2, 17, 17]\n",
            "667 [8, 8, 11, 3, 5, 12, 16, 18, 15, 9]\n",
            "1043 [5, 3, 13, 11, 18, 18, 16, 9, 15, 15]\n",
            "1050 [8, 11, 2, 16, 13, 1, 1, 18, 4, 9]\n",
            "142 [14, 13, 1, 16, 2, 5, 9, 4, 8, 18]\n",
            "400 [11, 5, 5, 3, 3, 6, 16, 17, 1, 14]\n",
            "397 [10, 7, 11, 11, 3, 6, 1, 2, 16, 16]\n",
            "195 [11, 3, 13, 12, 6, 14, 17, 18, 4, 15]\n",
            "682 [11, 3, 3, 14, 17, 16]\n",
            "600 [5, 12, 3, 6, 14, 18, 16, 17]\n",
            "242 [8, 7, 10, 5, 6, 16, 18, 17, 4, 2]\n",
            "965 [13, 5, 5, 12, 12, 16]\n",
            "747 [7, 6, 10, 12, 14, 4, 4, 2, 2, 17]\n",
            "355 [7, 5, 11, 13, 12, 12, 1, 18, 4, 17]\n",
            "349 [10, 10, 6, 12, 4, 4, 15]\n",
            "82 [8, 7, 10, 3, 5, 12, 9, 1, 18]\n",
            "560 [14, 14, 1, 13, 6, 16, 17, 18, 9, 9]\n",
            "590 [8, 7, 11, 11, 6, 14, 16, 18, 18, 9]\n",
            "999 [7, 8, 5, 2, 12, 12, 18, 9, 4, 14]\n",
            "155 [10, 7, 8, 6, 1, 14, 18, 16, 4, 15]\n",
            "616 [7, 7, 10, 3, 3, 8, 17, 6, 15, 18]\n",
            "744 [10, 5, 6, 11, 12, 14, 18, 16, 2, 4]\n",
            "952 [12, 13, 1, 18, 3, 6, 5, 5, 9]\n",
            "181 [13, 13, 5, 18, 9, 15, 15]\n",
            "162 [10, 10, 11, 3, 14, 13, 12, 12, 18, 1]\n",
            "487 [7, 3, 14, 13, 13, 6, 16, 17, 4, 9]\n",
            "859 [7, 16, 13, 8, 1, 14, 2, 9, 5, 15]\n",
            "1055 [3, 3, 18, 8, 6, 9, 7, 15, 17, 2]\n",
            "186 [7, 8, 3, 11, 13, 17, 4, 2, 9]\n",
            "850 [11, 11, 5, 14, 13, 1, 3, 3, 12, 16]\n",
            "643 [8, 7, 6, 12, 18, 17, 16, 9, 9, 3]\n",
            "75 [11, 1, 14, 16, 9]\n",
            "836 [10, 12, 14, 14, 18, 1, 1, 7, 6, 4]\n",
            "837 [8, 10, 3, 6, 13, 12, 12, 16, 2, 2]\n",
            "167 [7, 7, 11, 8, 5, 12, 3, 6, 16, 4]\n",
            "174 [17, 9, 6, 8, 15, 3, 3]\n",
            "506 [8, 7, 7, 10, 10, 5, 12, 16, 17, 2]\n",
            "323 [10, 10, 14, 12, 16, 6, 6, 1, 15, 9]\n",
            "24 [10, 5, 3, 6, 6, 12, 1, 14, 16]\n",
            "835 [10, 5, 6, 12, 13, 17, 18, 16, 15]\n",
            "288 [7, 3, 14, 13, 12, 17, 18, 18, 2, 4]\n",
            "261 [8, 10, 5, 11, 12, 1, 14, 9, 9, 2]\n",
            "360 [6, 6, 14, 3, 17, 17, 12, 16, 4, 18]\n",
            "255 [7, 11, 13, 12, 14, 1, 2, 4]\n",
            "271 [7, 5, 13, 1, 10, 2, 2, 17, 15]\n",
            "136 [7, 8, 5, 5, 11, 10, 1, 2, 2, 17]\n",
            "580 [5, 14, 14, 1, 16, 17, 2, 4, 9, 15]\n",
            "42 [3, 14, 13, 12, 12, 2, 16]\n",
            "577 [5, 12, 1, 1, 4, 9, 9]\n",
            "977 [10, 7, 11, 13, 13, 1, 12, 9, 9]\n",
            "998 [7, 8, 10, 11, 3, 13, 9, 15]\n",
            "677 [7, 8, 10, 11, 3, 13, 16, 18, 1, 17]\n",
            "176 [8, 10, 5, 11, 13, 2, 2, 4, 9]\n",
            "817 [10, 13, 3, 14, 5, 18, 1, 9]\n",
            "517 [8, 7, 5, 6, 14, 3, 12, 17, 2, 2]\n",
            "254 [14, 4, 1, 16, 12, 9, 15, 7, 7, 6]\n",
            "668 [8, 10, 13, 12, 1, 2, 16, 9]\n",
            "38 [10, 3, 12, 12, 6, 6, 14, 18, 16, 16]\n",
            "325 [7, 10, 8, 8, 3, 5, 6, 16, 18]\n",
            "721 [11, 6, 14, 14, 18, 17, 9]\n",
            "83 [7, 7, 11, 3, 5, 10, 12, 12, 4, 9]\n",
            "574 [3, 3, 5, 14, 11, 11, 13, 13, 16, 2]\n",
            "870 [7, 5, 13, 11, 14, 12, 1, 17, 2, 18]\n",
            "809 [10, 10, 5, 11, 11, 12, 6, 13, 13, 17]\n",
            "467 [7, 5, 3, 12, 14, 1, 4, 18, 16, 16]\n",
            "185 [10, 3, 8, 8, 5, 14, 7, 16, 17, 15]\n",
            "785 [7, 8, 13, 6, 11, 12, 4, 18, 18, 2]\n",
            "122 [10, 5, 14, 12, 6, 18, 17]\n",
            "758 [7, 11, 3, 18, 16, 2, 9]\n",
            "206 [10, 8, 7, 7, 12, 12, 5, 6, 6, 9]\n",
            "105 [8, 6, 13, 3, 12, 14, 16, 9]\n",
            "911 [10, 14, 13, 7, 7, 17, 16, 8, 1, 1]\n",
            "304 [5, 13, 14, 14, 1]\n",
            "930 [7, 8, 8, 5, 5, 17, 17, 18, 2, 16]\n",
            "553 [10, 5, 8, 6, 13, 17, 12, 18]\n",
            "8 [8, 7, 13, 11, 11, 12, 5, 3, 17, 18]\n",
            "750 [8, 7, 7, 10, 10, 5, 6, 6, 16, 16]\n",
            "716 [7, 10, 8, 5, 17, 16, 15, 15]\n",
            "742 [10, 7, 3, 8, 1, 9, 9, 2, 15, 18]\n",
            "414 [10, 11, 8, 5, 3, 3, 14, 12, 17]\n",
            "839 [8, 5, 11, 6, 17, 1, 18, 14, 4, 4]\n",
            "614 [11, 8, 14, 13, 18, 18, 16, 17, 4, 9]\n",
            "368 [7, 8, 13, 18, 16, 16, 12]\n",
            "1015 [8, 7, 3, 5, 5, 13, 12, 16, 16, 18]\n",
            "81 [7, 11, 6, 13, 12, 14, 18, 17, 9]\n",
            "463 [7, 11, 3, 13, 13, 12, 18, 17, 17, 2]\n",
            "33 [11, 11, 13, 13, 6, 12, 1, 16, 2]\n",
            "1056 [10, 3, 14, 16, 2]\n",
            "511 [7, 13, 8, 11, 6, 3, 15, 15, 9, 1]\n",
            "10 [10, 14, 8, 12, 12, 18, 18, 6, 5, 16]\n",
            "508 [1, 7, 10, 8, 17, 17, 6, 16, 15]\n",
            "1037 [7, 3, 5, 6, 1, 2, 4, 4, 18, 18]\n",
            "430 [11, 8, 18, 3, 4, 9, 15, 2]\n",
            "435 [8, 5, 11, 11, 13, 12, 12, 3, 4, 1]\n",
            "1071 [8, 7, 7, 13, 1, 1, 6, 6, 12, 16]\n",
            "801 [8, 7, 5, 14, 6, 16, 17, 4, 2, 2]\n",
            "283 [7, 14, 14, 1, 1, 17, 17, 15, 9]\n",
            "860 [8, 7, 12, 6, 4, 1, 9, 9, 15]\n",
            "564 [6, 1, 10, 10, 16, 16, 13, 13, 5, 3]\n",
            "354 [3, 11, 13, 14, 5, 18, 2, 9]\n",
            "898 [8, 16, 1, 2, 17, 18, 12, 4, 13]\n",
            "912 [7, 8, 5, 12, 16, 18, 17, 4, 15]\n",
            "973 [8, 7, 13, 5, 14, 17, 17, 1, 2, 2]\n",
            "644 [7, 10, 11, 12, 14, 1, 1, 17, 18, 2]\n",
            "674 [5, 11, 6, 3, 14, 17]\n",
            "916 [10, 3, 14, 12, 2, 18, 9]\n",
            "791 [13, 14, 1, 4, 2, 15, 15]\n",
            "549 [7, 7, 8, 5, 18, 13, 13, 6, 6, 14]\n",
            "598 [10, 8, 3, 11, 5, 16, 17, 13, 14, 12]\n",
            "55 [10, 8, 6, 12, 7, 17, 17, 2, 18, 3]\n",
            "109 [8, 7, 7, 5, 5, 6, 13, 17, 14, 1]\n",
            "85 [8, 7, 11, 13, 3, 3, 1, 1, 16, 12]\n",
            "653 [8, 10, 11, 2, 1, 1, 12, 16, 4]\n",
            "342 [12, 12, 6, 11, 16, 1, 1, 17, 15]\n",
            "874 [5, 6, 11, 14, 13, 17, 1, 1, 9, 4]\n",
            "889 [1, 5, 15, 15, 18, 11]\n",
            "670 [10, 13, 11, 6, 12, 2, 5, 4, 4]\n",
            "235 [10, 11, 11, 6, 3, 3, 18, 1, 1, 12]\n",
            "94 [6, 12, 13, 3, 8, 9, 14, 18, 11, 10]\n",
            "151 [7, 13, 16, 17, 1, 1, 2, 18, 4, 4]\n",
            "384 [7, 3, 3, 6, 6, 13, 16, 18, 9, 4]\n",
            "76 [10, 5, 13, 14, 17, 16, 9]\n",
            "671 [8, 10, 3, 18, 1, 2, 17, 15, 4, 4]\n",
            "378 [5, 7, 6, 11, 13, 2, 15, 3]\n",
            "1016 [10, 11, 14, 16, 6, 9, 15, 15]\n",
            "361 [7, 8, 8, 5, 14, 3, 6, 16, 15, 9]\n",
            "869 [10, 11, 13, 1, 12, 17, 2, 18]\n",
            "228 [7, 11, 5, 18, 17, 16, 4, 2, 2]\n",
            "561 [7, 13, 17, 11]\n",
            "1063 [11, 12, 17, 18, 18, 16, 1, 6, 4, 2]\n",
            "1044 [13, 12, 18, 17, 17, 9]\n",
            "861 [10, 5, 13, 3, 14, 2, 2, 15]\n",
            "751 [5, 6, 1, 14, 4, 9, 9, 15]\n",
            "45 [8, 11, 11, 1, 1, 2, 4]\n",
            "369 [7, 11, 3, 14, 18, 17, 15]\n",
            "741 [8, 10, 11, 14, 17, 4, 18, 2, 2, 9]\n",
            "448 [7, 5, 6, 6, 12, 12, 13, 18, 16]\n",
            "19 [7, 8, 3, 3, 10, 10, 1, 5, 5, 12]\n",
            "846 [10, 8, 5, 14, 6, 12, 13, 13, 16, 16]\n",
            "300 [3, 10, 10, 13, 18, 17, 1, 4]\n",
            "312 [8, 6, 6, 12, 13, 11, 17, 17, 14, 9]\n",
            "164 [14, 5, 5, 12, 4, 4, 18, 9]\n",
            "548 [8, 7, 6, 14, 12, 3, 18, 1, 15, 2]\n",
            "77 [3, 13, 6, 14, 12, 16, 17, 9, 15]\n",
            "848 [7, 1, 18, 2, 4, 4, 15]\n",
            "296 [7, 8, 10, 5, 6, 6, 12, 17, 16, 15]\n",
            "947 [3, 5, 17]\n",
            "515 [8, 5, 1, 12, 9, 17, 17]\n",
            "528 [7, 3, 6, 13, 17, 9]\n",
            "458 [8, 7, 3, 1, 13, 16, 16, 17, 9]\n",
            "243 [7, 8, 10, 3, 13, 6, 12, 1, 2, 18]\n",
            "775 [7, 5, 10, 12, 12, 13, 13, 1, 18, 9]\n",
            "526 [10, 5, 11, 13, 6, 3, 14, 17, 18, 15]\n",
            "772 [6, 12, 3, 3, 9, 14, 2, 15, 18]\n",
            "627 [10, 11, 3, 8, 14, 5, 1, 12, 2]\n",
            "907 [5, 10, 8, 14, 14, 17, 13, 2, 18, 15]\n",
            "556 [10, 17, 12, 14, 6, 15, 3, 4, 18]\n",
            "842 [11, 11, 8, 14, 5, 12, 16, 6, 1, 15]\n",
            "509 [7, 11, 14, 12, 13, 18, 17, 9]\n",
            "145 [8, 8, 7, 10, 10, 6, 3, 13, 1, 9]\n",
            "79 [8, 3, 12, 5, 9]\n",
            "346 [8, 5, 3, 1, 17, 16, 2, 4]\n",
            "622 [10, 11, 13, 13, 12, 12, 1, 9, 4]\n",
            "513 [8, 7, 5, 6, 18, 18, 2, 16, 16, 9]\n",
            "918 [7, 14, 5, 18, 16, 16, 3, 17]\n",
            "461 [1, 6, 6, 5, 5, 18, 9, 9, 4]\n",
            "1046 [10, 8, 18, 7, 11, 12, 13, 6, 5, 14]\n",
            "959 [7, 11, 6, 16, 16, 18, 2, 2]\n",
            "868 [7, 10, 8, 5, 1, 1, 6, 13, 14, 9]\n",
            "937 [10, 3, 6, 14, 17, 1, 9, 15]\n",
            "967 [11, 11, 6, 4, 18, 18]\n",
            "486 [7, 8, 8, 16, 17, 17, 14, 14, 6, 18]\n",
            "17 [7, 11, 2, 18, 4, 15, 9]\n",
            "925 [7, 10, 10, 5, 5, 13, 12, 16, 18, 18]\n",
            "276 [8, 10, 3, 12, 2, 17, 17, 14, 14, 9]\n",
            "631 [6, 11, 5, 8, 12, 18, 13, 16, 16, 4]\n",
            "135 [10, 11, 11, 13, 14, 16]\n",
            "714 [7, 7, 11, 13, 5, 1, 2]\n",
            "143 [7, 11, 5, 14, 14, 6, 1, 9]\n",
            "112 [8, 13, 6, 1, 17, 15, 15, 2]\n",
            "974 [7, 3, 3, 6, 17, 18, 16, 4]\n",
            "880 [7, 3, 3, 1, 14, 6, 2, 13, 4, 15]\n",
            "1036 [10, 3, 13, 12, 17, 2, 18, 15]\n",
            "150 [8, 5, 6, 14, 11, 3, 18, 4]\n",
            "792 [5, 3, 13, 14, 6, 6, 1, 15, 15]\n",
            "638 [7, 14, 3, 13, 12, 17, 2, 4]\n",
            "381 [5, 1, 14, 18, 17, 16, 2]\n",
            "43 [7, 14, 13, 5, 5, 1, 17, 15]\n",
            "942 [11, 14, 7, 3, 3, 13]\n",
            "192 [7, 5, 14, 13, 13, 12, 1, 1, 4, 4]\n",
            "219 [8, 3, 13, 6, 2, 17]\n",
            "494 [8, 1, 5, 6, 12, 9, 15]\n",
            "679 [8, 11, 13, 16, 16, 2, 15, 15]\n",
            "871 [7, 10, 6, 13, 3, 3, 12, 2, 9]\n",
            "832 [13, 6, 12, 18, 16, 9]\n",
            "249 [8, 10, 1, 16, 18, 4]\n",
            "1026 [10, 8, 8, 17, 4, 3, 15]\n",
            "996 [11, 11, 13, 3, 3, 17]\n",
            "879 [10, 13, 16, 8, 2, 9]\n"
          ],
          "name": "stdout"
        }
      ]
    },
    {
      "cell_type": "markdown",
      "metadata": {
        "id": "ryIUMQmqk2GL"
      },
      "source": [
        "## 8. Conclusion and Interpretation"
      ]
    },
    {
      "cell_type": "markdown",
      "metadata": {
        "id": "Oo9EhJz9qTSA"
      },
      "source": [
        "A simple classification model is not performing well because we do not have item features and the user features were not informative or different from each other "
      ]
    },
    {
      "cell_type": "markdown",
      "metadata": {
        "id": "0wXufY94qh2f"
      },
      "source": [
        "user item relationship is not being accounted in the simple classification model "
      ]
    },
    {
      "cell_type": "markdown",
      "metadata": {
        "id": "QLNBmx-aqo8c"
      },
      "source": [
        "Surprise does not provide a model to build a classification model thus we used SVD to predict raitings of 0 or 1"
      ]
    },
    {
      "cell_type": "markdown",
      "metadata": {
        "id": "c_DNK6mpqzfA"
      },
      "source": [
        "Context info is not getting accounted in  the SVD collaborative model but since we have different raitings for different context it may have been captured by the SVD "
      ]
    },
    {
      "cell_type": "markdown",
      "metadata": {
        "id": "ywuIrRpGrQS0"
      },
      "source": [
        ""
      ]
    },
    {
      "cell_type": "markdown",
      "metadata": {
        "id": "6pIMS8vsrCOZ"
      },
      "source": [
        "we have recommended top 10 items to a user based on the users likeness for an item "
      ]
    }
  ]
}